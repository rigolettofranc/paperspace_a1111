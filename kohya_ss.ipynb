{
 "cells": [
  {
   "cell_type": "code",
   "execution_count": 1,
   "id": "d6458d5b-6b2c-4093-a9d3-a1d167f4f83a",
   "metadata": {
    "execution": {
     "iopub.execute_input": "2023-10-13T13:59:34.791804Z",
     "iopub.status.busy": "2023-10-13T13:59:34.791453Z",
     "iopub.status.idle": "2023-10-13T13:59:37.490090Z",
     "shell.execute_reply": "2023-10-13T13:59:37.488958Z",
     "shell.execute_reply.started": "2023-10-13T13:59:34.791770Z"
    }
   },
   "outputs": [
    {
     "name": "stdout",
     "output_type": "stream",
     "text": [
      "/notebooks\n",
      "Cloning into 'kohya_ss'...\n",
      "remote: Enumerating objects: 10656, done.\u001b[K\n",
      "remote: Counting objects: 100% (3021/3021), done.\u001b[K\n",
      "remote: Compressing objects: 100% (213/213), done.\u001b[K\n",
      "remote: Total 10656 (delta 2857), reused 2867 (delta 2802), pack-reused 7635\u001b[K\n",
      "Receiving objects: 100% (10656/10656), 11.52 MiB | 13.20 MiB/s, done.\n",
      "Resolving deltas: 100% (7449/7449), done.\n",
      "/notebooks/kohya_ss\n"
     ]
    }
   ],
   "source": [
    "### Install/update Kohya_ss\n",
    "import os\n",
    "if not os.path.isfile(\"/notebooks/kohya_ss/setup.sh\"):\n",
    "    %cd /notebooks\n",
    "    !git clone https://github.com/bmaltais/kohya_ss.git\n",
    "    %cd /notebooks/kohya_ss\n",
    "else:\n",
    "   %cd /notebooks/kohya_ss\n",
    "   !git pull\n"
   ]
  },
  {
   "cell_type": "markdown",
   "id": "a4dd9623-b636-466c-9b62-01dcd173559c",
   "metadata": {},
   "source": [
    "# Run Kohya"
   ]
  },
  {
   "cell_type": "code",
   "execution_count": 3,
   "id": "15d419c8-f626-4372-86c7-5aebee713989",
   "metadata": {
    "execution": {
     "iopub.execute_input": "2023-10-13T14:27:19.662282Z",
     "iopub.status.busy": "2023-10-13T14:27:19.661925Z",
     "iopub.status.idle": "2023-10-13T14:34:49.063695Z",
     "shell.execute_reply": "2023-10-13T14:34:49.061809Z",
     "shell.execute_reply.started": "2023-10-13T14:27:19.662255Z"
    }
   },
   "outputs": [
    {
     "name": "stdout",
     "output_type": "stream",
     "text": [
      "\u001b[2;36m14:27:21-001215\u001b[0m\u001b[2;36m \u001b[0m\u001b[34mINFO    \u001b[0m Version: v22.\u001b[1;36m1.0\u001b[0m                                       \n",
      "\u001b[2;36m                \u001b[0m                                                                \n",
      "\u001b[2;36m14:27:21-011672\u001b[0m\u001b[2;36m \u001b[0m\u001b[34mINFO    \u001b[0m nVidia toolkit detected                                \n",
      "\u001b[2;36m14:27:28-756795\u001b[0m\u001b[2;36m \u001b[0m\u001b[34mINFO    \u001b[0m Torch \u001b[1;36m2.0\u001b[0m.\u001b[1;36m1\u001b[0m+cu117                                      \n",
      "\u001b[2;36m14:27:28-781087\u001b[0m\u001b[2;36m \u001b[0m\u001b[34mINFO    \u001b[0m Torch backend: nVidia CUDA \u001b[1;36m11.7\u001b[0m cuDNN \u001b[1;36m8500\u001b[0m             \n",
      "\u001b[2;36m14:27:28-798740\u001b[0m\u001b[2;36m \u001b[0m\u001b[34mINFO    \u001b[0m Torch detected GPU: Quadro P5000 VRAM \u001b[1;36m16273\u001b[0m Arch \u001b[1m(\u001b[0m\u001b[1;36m6\u001b[0m, \u001b[1;36m1\u001b[0m\u001b[1m)\u001b[0m\n",
      "\u001b[2;36m                \u001b[0m         Cores \u001b[1;36m20\u001b[0m                                               \n",
      "\u001b[2;36m14:27:28-800929\u001b[0m\u001b[2;36m \u001b[0m\u001b[34mINFO    \u001b[0m Verifying modules installation status from             \n",
      "\u001b[2;36m                \u001b[0m         \u001b[35m/notebooks/kohya_ss/\u001b[0m\u001b[95mrequirements_linux.txt...\u001b[0m          \n",
      "\u001b[2;36m14:27:28-804780\u001b[0m\u001b[2;36m \u001b[0m\u001b[34mINFO    \u001b[0m Verifying modules installation status from             \n",
      "\u001b[2;36m                \u001b[0m         requirements.txt\u001b[33m...\u001b[0m                                    \n",
      "\u001b[2;36m14:27:28-812310\u001b[0m\u001b[2;36m \u001b[0m\u001b[31mWARNING \u001b[0m Package wrong version: huggingface-hub \u001b[1;36m0.17\u001b[0m.\u001b[1;36m3\u001b[0m required \n",
      "\u001b[2;36m                \u001b[0m         \u001b[1;36m0.15\u001b[0m.\u001b[1;36m1\u001b[0m                                                 \n",
      "\u001b[2;36m14:27:28-814592\u001b[0m\u001b[2;36m \u001b[0m\u001b[34mINFO    \u001b[0m Installing package: huggingface-\u001b[33mhub\u001b[0m==\u001b[1;36m0.15\u001b[0m.\u001b[1;36m1\u001b[0m            \n",
      "\u001b[2;36m14:27:36-634453\u001b[0m\u001b[2;36m \u001b[0m\u001b[34mINFO    \u001b[0m headless: \u001b[3;92mTrue\u001b[0m                                         \n",
      "\u001b[2;36m14:27:36-640036\u001b[0m\u001b[2;36m \u001b[0m\u001b[34mINFO    \u001b[0m Load CSS\u001b[33m...\u001b[0m                                            \n",
      "Running on local URL:  http://127.0.0.1:7860\n",
      "Running on public URL: https://86c21e838f52eb9990.gradio.live\n",
      "\n",
      "This share link expires in 72 hours. For free permanent hosting and GPU upgrades, run `gradio deploy` from Terminal to deploy to Spaces (https://huggingface.co/spaces)\n",
      "Traceback (most recent call last):\n",
      "  File \"/notebooks/kohya_ss/venv/lib/python3.10/site-packages/gradio/routes.py\", line 438, in run_predict\n",
      "    with utils.MatplotlibBackendMananger():\n",
      "  File \"/notebooks/kohya_ss/venv/lib/python3.10/site-packages/gradio/utils.py\", line 863, in __exit__\n",
      "    matplotlib.use(self._original_backend)\n",
      "  File \"/notebooks/kohya_ss/venv/lib/python3.10/site-packages/matplotlib/__init__.py\", line 1249, in use\n",
      "    plt.switch_backend(name)\n",
      "  File \"/notebooks/kohya_ss/venv/lib/python3.10/site-packages/matplotlib/pyplot.py\", line 342, in switch_backend\n",
      "    module = importlib.import_module(cbook._backend_module_name(newbackend))\n",
      "  File \"/usr/lib/python3.10/importlib/__init__.py\", line 126, in import_module\n",
      "    return _bootstrap._gcd_import(name[level:], package, level)\n",
      "  File \"<frozen importlib._bootstrap>\", line 1050, in _gcd_import\n",
      "  File \"<frozen importlib._bootstrap>\", line 1027, in _find_and_load\n",
      "  File \"<frozen importlib._bootstrap>\", line 992, in _find_and_load_unlocked\n",
      "  File \"<frozen importlib._bootstrap>\", line 241, in _call_with_frames_removed\n",
      "  File \"<frozen importlib._bootstrap>\", line 1050, in _gcd_import\n",
      "  File \"<frozen importlib._bootstrap>\", line 1027, in _find_and_load\n",
      "  File \"<frozen importlib._bootstrap>\", line 1004, in _find_and_load_unlocked\n",
      "ModuleNotFoundError: No module named 'matplotlib_inline'\n",
      "^C\n",
      "Keyboard interruption in main thread... closing server.\n",
      "Killing tunnel 127.0.0.1:7860 <> https://86c21e838f52eb9990.gradio.live\n"
     ]
    }
   ],
   "source": [
    "### Run Kohya_ss\n",
    "!source venv/bin/activate\n",
    "!bash gui.sh --share --headless\n"
   ]
  },
  {
   "cell_type": "markdown",
   "id": "4445631f-8b88-404c-b181-184cd380124e",
   "metadata": {},
   "source": [
    "# Install Kohya if not already"
   ]
  },
  {
   "cell_type": "code",
   "execution_count": 2,
   "id": "bf4dfd34-34db-4059-949c-0809e573209a",
   "metadata": {
    "execution": {
     "iopub.execute_input": "2023-10-13T13:59:37.492437Z",
     "iopub.status.busy": "2023-10-13T13:59:37.492123Z",
     "iopub.status.idle": "2023-10-13T14:07:12.504454Z",
     "shell.execute_reply": "2023-10-13T14:07:12.503648Z",
     "shell.execute_reply.started": "2023-10-13T13:59:37.492404Z"
    }
   },
   "outputs": [
    {
     "name": "stdout",
     "output_type": "stream",
     "text": [
      "Hit:1 https://developer.download.nvidia.com/compute/cuda/repos/ubuntu2004/x86_64  InRelease\n",
      "Hit:2 https://deb.nodesource.com/node_16.x focal InRelease                     \u001b[0m\n",
      "Hit:3 http://archive.ubuntu.com/ubuntu focal InRelease                         \u001b[0m\n",
      "Hit:4 http://security.ubuntu.com/ubuntu focal-security InRelease               \n",
      "Hit:5 http://ppa.launchpad.net/deadsnakes/ppa/ubuntu focal InRelease\n",
      "Hit:6 http://archive.ubuntu.com/ubuntu focal-updates InRelease\n",
      "Hit:7 http://archive.ubuntu.com/ubuntu focal-backports InRelease\n",
      "Reading package lists... Done\u001b[33m\u001b[33m\u001b[33m\u001b[33m\n",
      "Building dependency tree       \n",
      "Reading state information... Done\n",
      "140 packages can be upgraded. Run 'apt list --upgradable' to see them.\n",
      "Reading package lists... Done\n",
      "Building dependency tree       \n",
      "Reading state information... Done\n",
      "The following additional packages will be installed:\n",
      "  blt tk8.6-blt2.5\n",
      "Suggested packages:\n",
      "  blt-demo tix python3-tk-dbg\n",
      "The following NEW packages will be installed:\n",
      "  blt python3-tk tk8.6-blt2.5\n",
      "0 upgraded, 3 newly installed, 0 to remove and 140 not upgraded.\n",
      "Need to get 681 kB of archives.\n",
      "After this operation, 2947 kB of additional disk space will be used.\n",
      "Get:1 http://archive.ubuntu.com/ubuntu focal/main amd64 tk8.6-blt2.5 amd64 2.5.3+dfsg-4 [572 kB]\n",
      "Get:2 http://archive.ubuntu.com/ubuntu focal/main amd64 blt amd64 2.5.3+dfsg-4 [4944 B]\n",
      "Get:3 http://archive.ubuntu.com/ubuntu focal-updates/main amd64 python3-tk amd64 3.8.10-0ubuntu1~20.04 [104 kB]\n",
      "Fetched 681 kB in 0s (4097 kB/s)     \u001b[0m\u001b[33m\n",
      "\n",
      "\u001b7\u001b[0;23r\u001b8\u001b[1ASelecting previously unselected package tk8.6-blt2.5.\n",
      "(Reading database ... 70459 files and directories currently installed.)\n",
      "Preparing to unpack .../tk8.6-blt2.5_2.5.3+dfsg-4_amd64.deb ...\n",
      "\u001b7\u001b[24;0f\u001b[42m\u001b[30mProgress: [  0%]\u001b[49m\u001b[39m [..........................................................] \u001b8\u001b7\u001b[24;0f\u001b[42m\u001b[30mProgress: [  8%]\u001b[49m\u001b[39m [####......................................................] \u001b8Unpacking tk8.6-blt2.5 (2.5.3+dfsg-4) ...\n",
      "\u001b7\u001b[24;0f\u001b[42m\u001b[30mProgress: [ 15%]\u001b[49m\u001b[39m [########..................................................] \u001b8Selecting previously unselected package blt.\n",
      "Preparing to unpack .../blt_2.5.3+dfsg-4_amd64.deb ...\n",
      "\u001b7\u001b[24;0f\u001b[42m\u001b[30mProgress: [ 23%]\u001b[49m\u001b[39m [#############.............................................] \u001b8Unpacking blt (2.5.3+dfsg-4) ...\n",
      "\u001b7\u001b[24;0f\u001b[42m\u001b[30mProgress: [ 31%]\u001b[49m\u001b[39m [#################.........................................] \u001b8Selecting previously unselected package python3-tk:amd64.\n",
      "Preparing to unpack .../python3-tk_3.8.10-0ubuntu1~20.04_amd64.deb ...\n",
      "\u001b7\u001b[24;0f\u001b[42m\u001b[30mProgress: [ 38%]\u001b[49m\u001b[39m [######################....................................] \u001b8Unpacking python3-tk:amd64 (3.8.10-0ubuntu1~20.04) ...\n",
      "\u001b7\u001b[24;0f\u001b[42m\u001b[30mProgress: [ 46%]\u001b[49m\u001b[39m [##########################................................] \u001b8Setting up tk8.6-blt2.5 (2.5.3+dfsg-4) ...\n",
      "\u001b7\u001b[24;0f\u001b[42m\u001b[30mProgress: [ 54%]\u001b[49m\u001b[39m [###############################...........................] \u001b8\u001b7\u001b[24;0f\u001b[42m\u001b[30mProgress: [ 62%]\u001b[49m\u001b[39m [###################################.......................] \u001b8Setting up blt (2.5.3+dfsg-4) ...\n",
      "\u001b7\u001b[24;0f\u001b[42m\u001b[30mProgress: [ 69%]\u001b[49m\u001b[39m [########################################..................] \u001b8\u001b7\u001b[24;0f\u001b[42m\u001b[30mProgress: [ 77%]\u001b[49m\u001b[39m [############################################..............] \u001b8Setting up python3-tk:amd64 (3.8.10-0ubuntu1~20.04) ...\n",
      "\u001b7\u001b[24;0f\u001b[42m\u001b[30mProgress: [ 85%]\u001b[49m\u001b[39m [#################################################.........] \u001b8\u001b7\u001b[24;0f\u001b[42m\u001b[30mProgress: [ 92%]\u001b[49m\u001b[39m [#####################################################.....] \u001b8Processing triggers for libc-bin (2.31-0ubuntu9.9) ...\n",
      "\n",
      "\u001b7\u001b[0;24r\u001b8\u001b[1A\u001b[JCollecting fastapi==0.99.1\n",
      "  Using cached fastapi-0.99.1-py3-none-any.whl (58 kB)\n",
      "Requirement already satisfied: typing-extensions>=4.5.0 in /usr/local/lib/python3.10/dist-packages (from fastapi==0.99.1) (4.5.0)\n",
      "Collecting starlette<0.28.0,>=0.27.0\n",
      "  Using cached starlette-0.27.0-py3-none-any.whl (66 kB)\n",
      "Requirement already satisfied: pydantic!=1.8,!=1.8.1,<2.0.0,>=1.7.4 in /usr/local/lib/python3.10/dist-packages (from fastapi==0.99.1) (1.9.2)\n",
      "Requirement already satisfied: anyio<5,>=3.4.0 in /usr/local/lib/python3.10/dist-packages (from starlette<0.28.0,>=0.27.0->fastapi==0.99.1) (3.6.2)\n",
      "Requirement already satisfied: idna>=2.8 in /usr/lib/python3/dist-packages (from anyio<5,>=3.4.0->starlette<0.28.0,>=0.27.0->fastapi==0.99.1) (2.8)\n",
      "Requirement already satisfied: sniffio>=1.1 in /usr/local/lib/python3.10/dist-packages (from anyio<5,>=3.4.0->starlette<0.28.0,>=0.27.0->fastapi==0.99.1) (1.3.0)\n",
      "Installing collected packages: starlette, fastapi\n",
      "Successfully installed fastapi-0.99.1 starlette-0.27.0\n",
      "\u001b[33mWARNING: Running pip as the 'root' user can result in broken permissions and conflicting behaviour with the system package manager. It is recommended to use a virtual environment instead: https://pip.pypa.io/warnings/venv\u001b[0m\u001b[33m\n",
      "\u001b[0mSkipping git operations.\n",
      "Ubuntu detected.\n",
      "Python TK found...\n",
      "Switching to virtual Python environment.\n",
      "\u001b[2;36m13:59:56-398221\u001b[0m\u001b[2;36m \u001b[0m\u001b[34mINFO    \u001b[0m Installing python dependencies. This could take a few  \n",
      "\u001b[2;36m                \u001b[0m         minutes as it downloads files.                         \n",
      "\u001b[2;36m13:59:56-404574\u001b[0m\u001b[2;36m \u001b[0m\u001b[34mINFO    \u001b[0m If this operation ever runs too long, you can rerun    \n",
      "\u001b[2;36m                \u001b[0m         this script in verbose mode to check.                  \n",
      "\u001b[2;36m13:59:56-406538\u001b[0m\u001b[2;36m \u001b[0m\u001b[34mINFO    \u001b[0m Version: v22.\u001b[1;36m1.0\u001b[0m                                       \n",
      "\u001b[2;36m                \u001b[0m                                                                \n",
      "\u001b[2;36m13:59:56-408377\u001b[0m\u001b[2;36m \u001b[0m\u001b[34mINFO    \u001b[0m Python \u001b[1;36m3.10\u001b[0m.\u001b[1;36m10\u001b[0m on Linux                                \n",
      "\u001b[2;36m13:59:56-410908\u001b[0m\u001b[2;36m \u001b[0m\u001b[34mINFO    \u001b[0m Installing modules from requirements_linux.txt\u001b[33m...\u001b[0m      \n",
      "\u001b[2;36m13:59:56-413025\u001b[0m\u001b[2;36m \u001b[0m\u001b[31mWARNING \u001b[0m Package wrong version: torch \u001b[1;36m1.12\u001b[0m.\u001b[1;36m1\u001b[0m+cu116 required     \n",
      "\u001b[2;36m                \u001b[0m         \u001b[1;36m2.0\u001b[0m.\u001b[1;36m1\u001b[0m+cu118                                            \n",
      "\u001b[2;36m13:59:56-414424\u001b[0m\u001b[2;36m \u001b[0m\u001b[34mINFO    \u001b[0m Installing package: \u001b[33mtorch\u001b[0m==\u001b[1;36m2.0\u001b[0m.\u001b[1;36m1\u001b[0m+cu118                 \n",
      "\u001b[2;36m                \u001b[0m         \u001b[33mtorchvision\u001b[0m==\u001b[1;36m0.15\u001b[0m.\u001b[1;36m2\u001b[0m+cu118 --extra-index-url            \n",
      "\u001b[2;36m                \u001b[0m         \u001b[4;94mhttps://download.pytorch.org/whl/cu118\u001b[0m                 \n",
      "\u001b[2;36m14:02:28-529497\u001b[0m\u001b[2;36m \u001b[0m\u001b[34mINFO    \u001b[0m Installing package: \u001b[33mxformers\u001b[0m==\u001b[1;36m0.0\u001b[0m.\u001b[1;36m21\u001b[0m                   \n",
      "\u001b[2;36m                \u001b[0m         \u001b[33mbitsandbytes\u001b[0m==\u001b[1;36m0.41\u001b[0m.\u001b[1;36m1\u001b[0m                                   \n",
      "\u001b[2;36m14:02:43-338985\u001b[0m\u001b[2;36m \u001b[0m\u001b[31mWARNING \u001b[0m Package wrong version: tensorboard \u001b[1;36m2.9\u001b[0m.\u001b[1;36m1\u001b[0m required      \n",
      "\u001b[2;36m                \u001b[0m         \u001b[1;36m2.14\u001b[0m.\u001b[1;36m1\u001b[0m                                                 \n",
      "\u001b[2;36m14:02:43-341148\u001b[0m\u001b[2;36m \u001b[0m\u001b[34mINFO    \u001b[0m Installing package: \u001b[33mtensorboard\u001b[0m==\u001b[1;36m2.14\u001b[0m.\u001b[1;36m1\u001b[0m                \n",
      "\u001b[2;36m                \u001b[0m         \u001b[33mtensorflow\u001b[0m==\u001b[1;36m2.14\u001b[0m.\u001b[1;36m0\u001b[0m                                     \n",
      "\u001b[2;36m14:03:49-567264\u001b[0m\u001b[2;36m \u001b[0m\u001b[34mINFO    \u001b[0m Installing modules from requirements.txt\u001b[33m...\u001b[0m            \n",
      "\u001b[2;36m14:03:49-569880\u001b[0m\u001b[2;36m \u001b[0m\u001b[34mINFO    \u001b[0m Installing package: \u001b[33maccelerate\u001b[0m==\u001b[1;36m0.23\u001b[0m.\u001b[1;36m0\u001b[0m                 \n",
      "\u001b[2;36m14:03:53-836784\u001b[0m\u001b[2;36m \u001b[0m\u001b[34mINFO    \u001b[0m Installing package: \u001b[33maiofiles\u001b[0m==\u001b[1;36m23.2\u001b[0m.\u001b[1;36m1\u001b[0m                   \n",
      "\u001b[2;36m14:03:58-023582\u001b[0m\u001b[2;36m \u001b[0m\u001b[34mINFO    \u001b[0m Installing package: \u001b[33maltair\u001b[0m==\u001b[1;36m4.2\u001b[0m.\u001b[1;36m2\u001b[0m                      \n",
      "\u001b[2;36m14:04:02-498958\u001b[0m\u001b[2;36m \u001b[0m\u001b[34mINFO    \u001b[0m Installing package: \u001b[33mdadaptation\u001b[0m==\u001b[1;36m3.1\u001b[0m                   \n",
      "\u001b[2;36m14:04:12-258477\u001b[0m\u001b[2;36m \u001b[0m\u001b[34mINFO    \u001b[0m Installing package: diffusers\u001b[1m[\u001b[0mtorch\u001b[1m]\u001b[0m==\u001b[1;36m0.21\u001b[0m.\u001b[1;36m4\u001b[0m           \n",
      "\u001b[2;36m14:04:19-320246\u001b[0m\u001b[2;36m \u001b[0m\u001b[34mINFO    \u001b[0m Installing package: \u001b[33measygui\u001b[0m==\u001b[1;36m0.98\u001b[0m.\u001b[1;36m3\u001b[0m                    \n",
      "\u001b[2;36m14:04:23-394326\u001b[0m\u001b[2;36m \u001b[0m\u001b[34mINFO    \u001b[0m Installing package: \u001b[33meinops\u001b[0m==\u001b[1;36m0.6\u001b[0m.\u001b[1;36m0\u001b[0m                      \n",
      "\u001b[2;36m14:04:32-708315\u001b[0m\u001b[2;36m \u001b[0m\u001b[34mINFO    \u001b[0m Installing package: \u001b[33mfairscale\u001b[0m==\u001b[1;36m0.4\u001b[0m.\u001b[1;36m13\u001b[0m                  \n",
      "\u001b[2;36m14:04:47-744719\u001b[0m\u001b[2;36m \u001b[0m\u001b[34mINFO    \u001b[0m Installing package: \u001b[33mftfy\u001b[0m==\u001b[1;36m6.1\u001b[0m.\u001b[1;36m1\u001b[0m                        \n",
      "\u001b[2;36m14:04:51-546292\u001b[0m\u001b[2;36m \u001b[0m\u001b[34mINFO    \u001b[0m Installing package: \u001b[33mgradio\u001b[0m==\u001b[1;36m3.36\u001b[0m.\u001b[1;36m1\u001b[0m                     \n",
      "\u001b[2;36m14:05:00-978245\u001b[0m\u001b[2;36m \u001b[0m\u001b[31mWARNING \u001b[0m Package wrong version: huggingface-hub \u001b[1;36m0.13\u001b[0m.\u001b[1;36m1\u001b[0m required \n",
      "\u001b[2;36m                \u001b[0m         \u001b[1;36m0.15\u001b[0m.\u001b[1;36m1\u001b[0m                                                 \n",
      "\u001b[2;36m14:05:00-979864\u001b[0m\u001b[2;36m \u001b[0m\u001b[34mINFO    \u001b[0m Installing package: huggingface-\u001b[33mhub\u001b[0m==\u001b[1;36m0.15\u001b[0m.\u001b[1;36m1\u001b[0m            \n",
      "\u001b[2;36m14:05:05-640846\u001b[0m\u001b[2;36m \u001b[0m\u001b[34mINFO    \u001b[0m Installing package: invisible-\u001b[33mwatermark\u001b[0m==\u001b[1;36m0.2\u001b[0m.\u001b[1;36m0\u001b[0m         \n",
      "\u001b[2;36m14:05:10-247993\u001b[0m\u001b[2;36m \u001b[0m\u001b[34mINFO    \u001b[0m Installing package: lion-\u001b[33mpytorch\u001b[0m==\u001b[1;36m0.0\u001b[0m.\u001b[1;36m6\u001b[0m                \n",
      "\u001b[2;36m14:05:14-464823\u001b[0m\u001b[2;36m \u001b[0m\u001b[34mINFO    \u001b[0m Installing package: \u001b[33mlycoris_lora\u001b[0m==\u001b[1;36m1.9\u001b[0m.\u001b[1;36m0\u001b[0m                \n",
      "\u001b[2;36m14:05:20-175943\u001b[0m\u001b[2;36m \u001b[0m\u001b[34mINFO    \u001b[0m Installing package: \u001b[33monnx\u001b[0m==\u001b[1;36m1.14\u001b[0m.\u001b[1;36m1\u001b[0m                       \n",
      "\u001b[2;36m14:05:27-299821\u001b[0m\u001b[2;36m \u001b[0m\u001b[34mINFO    \u001b[0m Installing package: onnxruntime-\u001b[33mgpu\u001b[0m==\u001b[1;36m1.16\u001b[0m.\u001b[1;36m0\u001b[0m            \n",
      "\u001b[2;36m14:05:38-301293\u001b[0m\u001b[2;36m \u001b[0m\u001b[31mWARNING \u001b[0m Package wrong version: protobuf \u001b[1;36m3.19\u001b[0m.\u001b[1;36m6\u001b[0m required \u001b[1;36m3.20\u001b[0m.\u001b[1;36m3\u001b[0m \n",
      "\u001b[2;36m14:05:38-302920\u001b[0m\u001b[2;36m \u001b[0m\u001b[34mINFO    \u001b[0m Installing package: \u001b[33mprotobuf\u001b[0m==\u001b[1;36m3.20\u001b[0m.\u001b[1;36m3\u001b[0m                   \n",
      "\u001b[2;36m14:05:43-710675\u001b[0m\u001b[2;36m \u001b[0m\u001b[34mINFO    \u001b[0m Installing package: open-clip-\u001b[33mtorch\u001b[0m==\u001b[1;36m2.20\u001b[0m.\u001b[1;36m0\u001b[0m            \n",
      "\u001b[2;36m14:05:49-128533\u001b[0m\u001b[2;36m \u001b[0m\u001b[31mWARNING \u001b[0m Package wrong version: opencv-python \u001b[1;92m4.6.0.66\u001b[0m required \n",
      "\u001b[2;36m                \u001b[0m         \u001b[1;92m4.7.0.68\u001b[0m                                               \n",
      "\u001b[2;36m14:05:49-130812\u001b[0m\u001b[2;36m \u001b[0m\u001b[34mINFO    \u001b[0m Installing package: opencv-\u001b[33mpython\u001b[0m==\u001b[1;92m4.7.0.68\u001b[0m            \n",
      "\u001b[2;36m14:05:58-592010\u001b[0m\u001b[2;36m \u001b[0m\u001b[34mINFO    \u001b[0m Installing package: \u001b[33mprodigyopt\u001b[0m==\u001b[1;36m1.0\u001b[0m                    \n",
      "\u001b[2;36m14:06:03-025532\u001b[0m\u001b[2;36m \u001b[0m\u001b[34mINFO    \u001b[0m Installing package: pytorch-\u001b[33mlightning\u001b[0m==\u001b[1;36m1.9\u001b[0m.\u001b[1;36m0\u001b[0m           \n",
      "\u001b[2;36m14:06:09-774734\u001b[0m\u001b[2;36m \u001b[0m\u001b[31mWARNING \u001b[0m Package wrong version: rich \u001b[1;36m13.3\u001b[0m.\u001b[1;36m2\u001b[0m required \u001b[1;36m13.4\u001b[0m.\u001b[1;36m1\u001b[0m     \n",
      "\u001b[2;36m14:06:09-776838\u001b[0m\u001b[2;36m \u001b[0m\u001b[34mINFO    \u001b[0m Installing package: \u001b[33mrich\u001b[0m==\u001b[1;36m13.4\u001b[0m.\u001b[1;36m1\u001b[0m                       \n",
      "\u001b[2;36m14:06:14-567427\u001b[0m\u001b[2;36m \u001b[0m\u001b[34mINFO    \u001b[0m Installing package: \u001b[33msafetensors\u001b[0m==\u001b[1;36m0.3\u001b[0m.\u001b[1;36m1\u001b[0m                 \n",
      "\u001b[2;36m14:06:19-491174\u001b[0m\u001b[2;36m \u001b[0m\u001b[34mINFO    \u001b[0m Installing package: \u001b[33mtimm\u001b[0m==\u001b[1;36m0.6\u001b[0m.\u001b[1;36m12\u001b[0m                       \n",
      "\u001b[2;36m14:06:24-861185\u001b[0m\u001b[2;36m \u001b[0m\u001b[34mINFO    \u001b[0m Installing package: \u001b[33mtk\u001b[0m==\u001b[1;36m0.1\u001b[0m.\u001b[1;36m0\u001b[0m                          \n",
      "\u001b[2;36m14:06:29-271036\u001b[0m\u001b[2;36m \u001b[0m\u001b[34mINFO    \u001b[0m Installing package: \u001b[33mtoml\u001b[0m==\u001b[1;36m0.10\u001b[0m.\u001b[1;36m2\u001b[0m                       \n",
      "\u001b[2;36m14:06:33-917164\u001b[0m\u001b[2;36m \u001b[0m\u001b[31mWARNING \u001b[0m Package wrong version: transformers \u001b[1;36m4.21\u001b[0m.\u001b[1;36m3\u001b[0m required    \n",
      "\u001b[2;36m                \u001b[0m         \u001b[1;36m4.30\u001b[0m.\u001b[1;36m2\u001b[0m                                                 \n",
      "\u001b[2;36m14:06:33-919054\u001b[0m\u001b[2;36m \u001b[0m\u001b[34mINFO    \u001b[0m Installing package: \u001b[33mtransformers\u001b[0m==\u001b[1;36m4.30\u001b[0m.\u001b[1;36m2\u001b[0m               \n",
      "\u001b[2;36m14:06:47-594720\u001b[0m\u001b[2;36m \u001b[0m\u001b[34mINFO    \u001b[0m Installing package: \u001b[33mvoluptuous\u001b[0m==\u001b[1;36m0.13\u001b[0m.\u001b[1;36m1\u001b[0m                 \n",
      "\u001b[2;36m14:06:51-989259\u001b[0m\u001b[2;36m \u001b[0m\u001b[31mWARNING \u001b[0m Package wrong version: wandb \u001b[1;36m0.13\u001b[0m.\u001b[1;36m4\u001b[0m required \u001b[1;36m0.15\u001b[0m.\u001b[1;36m11\u001b[0m   \n",
      "\u001b[2;36m14:06:51-991724\u001b[0m\u001b[2;36m \u001b[0m\u001b[34mINFO    \u001b[0m Installing package: \u001b[33mwandb\u001b[0m==\u001b[1;36m0.15\u001b[0m.\u001b[1;36m11\u001b[0m                     \n",
      "\u001b[2;36m14:07:00-724028\u001b[0m\u001b[2;36m \u001b[0m\u001b[34mINFO    \u001b[0m Installing package: -e .                               \n",
      "\u001b[2;36m14:07:11-690367\u001b[0m\u001b[2;36m \u001b[0m\u001b[34mINFO    \u001b[0m Configuring accelerate\u001b[33m...\u001b[0m                              \n",
      "\u001b[2;36m14:07:11-693095\u001b[0m\u001b[2;36m \u001b[0m\u001b[31mWARNING \u001b[0m Could not automatically configure accelerate. Please   \n",
      "\u001b[2;36m                \u001b[0m         manually configure accelerate with the option in the   \n",
      "\u001b[2;36m                \u001b[0m         menu or with: accelerate config.                       \n",
      "Setup finished! Run \u001b[0;92m./gui.sh\u001b[0m to start.\n",
      "Please note if you'd like to expose your public server you need to run ./gui.sh --share\n",
      "Traceback (most recent call last):\n",
      "  File \"/notebooks/kohya_ss/setup/validate_requirements.py\", line 19, in <module>\n",
      "    from library.custom_logging import setup_logging\n",
      "  File \"/notebooks/kohya_ss/library/custom_logging.py\", line 6, in <module>\n",
      "    from rich.theme import Theme\n",
      "ModuleNotFoundError: No module named 'rich'\n"
     ]
    }
   ],
   "source": [
    "### Install Kohya_ss\n",
    "!sudo apt update -y && sudo apt install -y python3-tk\n",
    "\n",
    "!python3 -m venv venv\n",
    "!source venv/bin/activate\n",
    "!pip install fastapi==0.99.1\n",
    "\n",
    "!./setup.sh -n\n"
   ]
  }
 ],
 "metadata": {
  "kernelspec": {
   "display_name": "Python 3 (ipykernel)",
   "language": "python",
   "name": "python3"
  },
  "language_info": {
   "codemirror_mode": {
    "name": "ipython",
    "version": 3
   },
   "file_extension": ".py",
   "mimetype": "text/x-python",
   "name": "python",
   "nbconvert_exporter": "python",
   "pygments_lexer": "ipython3",
   "version": "3.10.10"
  }
 },
 "nbformat": 4,
 "nbformat_minor": 5
}
