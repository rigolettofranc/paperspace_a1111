{
 "cells": [
  {
   "cell_type": "markdown",
   "id": "967a0d0b-c644-4bdc-a755-a63a8aad774f",
   "metadata": {},
   "source": [
    "## Download Stable Diffusion"
   ]
  },
  {
   "cell_type": "code",
   "execution_count": null,
   "id": "78c19421-f0d1-4961-a32d-9eda6bd4f15f",
   "metadata": {
    "execution": {
     "iopub.execute_input": "2023-09-27T17:19:37.691237Z",
     "iopub.status.busy": "2023-09-27T17:19:37.690817Z"
    }
   },
   "outputs": [
    {
     "name": "stdout",
     "output_type": "stream",
     "text": [
      "/notebooks/stable-diffusion-webui\n"
     ]
    }
   ],
   "source": [
    "### Install/update a1111\n",
    "import os\n",
    "if not os.path.isfile(\"/notebooks/stable-diffusion-webui/config.json\"):\n",
    "    %cd /notebooks\n",
    "    !git clone https://github.com/AUTOMATIC1111/stable-diffusion-webui.git\n",
    "    %cd /notebooks/stable-diffusion-webui\n",
    "    !wget -O config.json https://raw.githubusercontent.com/ResidentChief/simple_a1111_paperspace/main/config.json\n",
    "else:\n",
    "   %cd /notebooks/stable-diffusion-webui\n",
    "   !git pull\n",
    "    "
   ]
  },
  {
   "cell_type": "markdown",
   "id": "0cbec32f-8e88-4e02-a903-47fe8d4c333e",
   "metadata": {},
   "source": [
    "## Download Checkpoints (Pick what you need)"
   ]
  },
  {
   "cell_type": "code",
   "execution_count": null,
   "id": "f98ea821-6df1-4457-9725-5bd71b279e78",
   "metadata": {},
   "outputs": [],
   "source": [
    "### Create directory for models to go into\n",
    "%mkdir /tmp/models\n",
    "%mkdir /tmp/models/lora\n",
    "%mkdir /tmp/models/stable-diffusion\n",
    "%cd /tmp/models/stable-diffusion\n",
    "\n",
    "### Download models (remove the # from in front of the ones you want to download, or add new ones in the same format 'wget -O filename.extension URL')\n",
    "\n",
    "#!wget https://huggingface.co/runwayml/stable-diffusion-v1-5/resolve/main/v1-5-pruned-emaonly.safetensors\n",
    "#!wget -O AbyssOrangeMixV3.ckpt https://huggingface.co/residentchiefnz/HordeVAEMergeModelsTest/resolve/main/AOM3_inclVAE.ckpt\n",
    "!wget -O Anything_v3.ckpt https://huggingface.co/residentchiefnz/HordeVAEMergeModelsTest/resolve/main/AnythingV3_inclvae.ckpt\n",
    "\n",
    "!sudo apt install megatools\n",
    "#!megadl 'https://mega.co.nz/#!3Z8FWRgT!tAfSD82hWGub6LM--T2XPWEbFfQVHfIObMn8Pejzw-I' # AbsoluteReality\n",
    "#!megadl 'https://mega.co.nz/#!CNUXRBzD!xYSQIlQq3Ap_pVsJOlGYI4nOR-hJYORswzWa71Rw78w' # Realistic Vision\n",
    "#!megadl 'https://mega.co.nz/#!edNWHDBD!Vt27gOgqTf45XZbtvr4uFnpT24ACGgHSqNJchtiSfQY' # Reliberate\n",
    "#!megadl 'https://mega.co.nz/#!vZUC1CRT!qwol38GJpCwom07vSazZUt7ah6OCr9fvMbrzvlPp6as' # CyberRealistic\n",
    "#!megadl 'https://mega.co.nz/#!zQtkgZQY!aZV7yxgecLhC4nNals3JWjNex9uHsuWPJteeHf6wJ0c' # BeenYouLite\n",
    "#!megadl 'https://mega.co.nz/#!yYshzT4Y!eK8UxeLUvCdXKpYPkutt3WiMJw-hEgL9LZ-OImIN0K8' # EpicRealism\n",
    "#!megadl 'https://mega.co.nz/#!KN0xXY6B!aEbaIznWM9g1uQaSou0idcJz3D-1pjZnvvXzkHSoN8g' # ICBINP\n",
    "#!megadl 'https://mega.co.nz/#!bU1wXR7L!psvhMdoSbcfzZ-LPg4mxhGofBTZWXwXrmOxkoG62dXA' # MagicMix\n",
    "#!megadl 'https://mega.co.nz/#!eJUi3QKC!JwSNEDenkr5fRChkJNO62xisrpEuRD0sH_yQD1HoXjs' # QGO\n",
    "#!megadl 'https://mega.co.nz/#!t6FXlZyQ!CMvkWbK9B6EA3nTqiTm9p0c7x4hZ4jFvN39Z9TAKTnE' # AnalogMadness\n",
    "#!megadl 'https://mega.co.nz/#!lyNz0JKI!J7__5sK3i8aO1GX5ktJ1S9FxQOiExEPNmivHwYWDTNk' # AnyLora_BakedVAE\n",
    "#!megadl 'https://mega.co.nz/#!NutijCBQ!NEt3bCivDFRbyeBAmvKPGXGLNrzm8hrZheJU7WS1GmI' # AnyLora_NoVAE\n",
    "#!megadl 'https://mega.co.nz/#!prlGVCpY!wROMJSVMt061tOkrOT26Cf5gULbE9yvxRUonsAxYq2I' # MagicMix\n",
    "!megadl 'https://mega.co.nz/#!omkDyKbB!vfQJc9dJS7uT_Vw6htDXF6NaTrr5wqmdy1dBee3q9Pk' # AIO\n"
   ]
  },
  {
   "cell_type": "markdown",
   "id": "f11fd0fa-6518-4405-a127-87059fe60dc6",
   "metadata": {},
   "source": [
    "## Download ControlNet (Pick what you need)"
   ]
  },
  {
   "cell_type": "code",
   "execution_count": null,
   "id": "f306de98-4c73-42c8-a600-c8b68f625f17",
   "metadata": {},
   "outputs": [],
   "source": [
    "## Download\n",
    "%mkdir /tmp/models/ControlNet\n",
    "%cd /tmp/models/ControlNet\n",
    "\n",
    "#!wget https://huggingface.co/lllyasviel/ControlNet/resolve/main/models/control_sd15_canny.pth\n",
    "#!wget https://huggingface.co/lllyasviel/ControlNet/resolve/main/models/control_sd15_depth.pth\n",
    "#!wget https://huggingface.co/lllyasviel/ControlNet/resolve/main/models/control_sd15_hed.pth\n",
    "#!wget https://huggingface.co/lllyasviel/ControlNet/resolve/main/models/control_sd15_mlsd.pth\n",
    "#!wget https://huggingface.co/lllyasviel/ControlNet/resolve/main/models/control_sd15_normal.pth\n",
    "!wget https://huggingface.co/lllyasviel/ControlNet/resolve/main/models/control_sd15_openpose.pth\n",
    "#!wget https://huggingface.co/lllyasviel/ControlNet/resolve/main/models/control_sd15_scribble.pth\n",
    "#!wget https://huggingface.co/lllyasviel/ControlNet/resolve/main/models/control_sd15_seg.pth\n",
    "\n",
    "## Create Symbolic Links\n",
    "%cd /notebooks/stable-diffusion-webui/extensions/sd-webui-controlnet/models\n",
    "#!ln -s /tmp/models/ControlNet/control_sd15_canny.pth control_sd15_canny.pth\n",
    "#!ln -s /tmp/models/ControlNet/control_sd15_depth.pth control_sd15_depth.pth\n",
    "#!ln -s /tmp/models/ControlNet/control_sd15_hed.pth control_sd15_hed.pth\n",
    "#!ln -s /tmp/models/ControlNet/control_sd15_mlsd.pth control_sd15_mlsd.pth\n",
    "#!ln -s /tmp/models/ControlNet/control_sd15_normal.pth control_sd15_normal.pth\n",
    "!ln -s /tmp/models/ControlNet/control_sd15_openpose.pth control_sd15_openpose.pth\n",
    "#!ln -s /tmp/models/ControlNet/control_sd15_scribble.pth control_sd15_scribble.pth\n",
    "#!ln -s /tmp/models/ControlNet/control_sd15_seg.pth control_sd15_seg.pth"
   ]
  },
  {
   "cell_type": "markdown",
   "id": "43693c9e-8796-4ba4-bef6-5fad0b50569a",
   "metadata": {},
   "source": [
    "## Run SD WebUI A1111"
   ]
  },
  {
   "cell_type": "code",
   "execution_count": null,
   "id": "c6b73acc-67be-48aa-9cab-fac5afeff538",
   "metadata": {},
   "outputs": [],
   "source": [
    "## Run a1111\n",
    "%cd /notebooks/stable-diffusion-webui\n",
    "!bash webui.sh -f \\\n",
    "     --xformers \\\n",
    "     --share \\\n",
    "     --lora-dir /tmp/models/lora \\\n",
    "     --ckpt-dir /tmp/models/stable-diffusion \\\n",
    "     --enable-insecure-extension-access"
   ]
  }
 ],
 "metadata": {
  "kernelspec": {
   "display_name": "Python 3 (ipykernel)",
   "language": "python",
   "name": "python3"
  },
  "language_info": {
   "codemirror_mode": {
    "name": "ipython",
    "version": 3
   },
   "file_extension": ".py",
   "mimetype": "text/x-python",
   "name": "python",
   "nbconvert_exporter": "python",
   "pygments_lexer": "ipython3",
   "version": "3.10.10"
  }
 },
 "nbformat": 4,
 "nbformat_minor": 5
}
