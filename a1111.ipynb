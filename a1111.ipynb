{
 "cells": [
  {
   "cell_type": "markdown",
   "id": "967a0d0b-c644-4bdc-a755-a63a8aad774f",
   "metadata": {},
   "source": [
    "## Download Stable Diffusion"
   ]
  },
  {
   "cell_type": "code",
   "execution_count": 1,
   "id": "78c19421-f0d1-4961-a32d-9eda6bd4f15f",
   "metadata": {
    "execution": {
     "iopub.execute_input": "2023-09-26T15:07:04.892809Z",
     "iopub.status.busy": "2023-09-26T15:07:04.892103Z",
     "iopub.status.idle": "2023-09-26T15:07:05.776453Z",
     "shell.execute_reply": "2023-09-26T15:07:05.775464Z",
     "shell.execute_reply.started": "2023-09-26T15:07:04.892779Z"
    }
   },
   "outputs": [
    {
     "name": "stdout",
     "output_type": "stream",
     "text": [
      "/notebooks/stable-diffusion-webui\n",
      "Already up to date.\n"
     ]
    }
   ],
   "source": [
    "### Install/update a1111\n",
    "import os\n",
    "if not os.path.isfile(\"/notebooks/stable-diffusion-webui/config.json\"):\n",
    "    %cd /notebooks\n",
    "    !git clone https://github.com/AUTOMATIC1111/stable-diffusion-webui.git\n",
    "    %cd /notebooks/stable-diffusion-webui\n",
    "    !wget -O config.json https://raw.githubusercontent.com/ResidentChief/simple_a1111_paperspace/main/config.json\n",
    "else:\n",
    "   %cd /notebooks/stable-diffusion-webui\n",
    "   !git pull\n",
    "    "
   ]
  },
  {
   "cell_type": "markdown",
   "id": "0cbec32f-8e88-4e02-a903-47fe8d4c333e",
   "metadata": {},
   "source": [
    "## Download Checkpoints (Pick what you need)"
   ]
  },
  {
   "cell_type": "code",
   "execution_count": 2,
   "id": "f98ea821-6df1-4457-9725-5bd71b279e78",
   "metadata": {
    "execution": {
     "iopub.execute_input": "2023-09-26T15:07:05.778807Z",
     "iopub.status.busy": "2023-09-26T15:07:05.778445Z",
     "iopub.status.idle": "2023-09-26T15:10:00.119924Z",
     "shell.execute_reply": "2023-09-26T15:10:00.119037Z",
     "shell.execute_reply.started": "2023-09-26T15:07:05.778769Z"
    }
   },
   "outputs": [
    {
     "name": "stdout",
     "output_type": "stream",
     "text": [
      "/tmp/models/stable-diffusion\n",
      "--2023-09-26 15:07:07--  https://huggingface.co/residentchiefnz/HordeVAEMergeModelsTest/resolve/main/AnythingV3_inclvae.ckpt\n",
      "Resolving huggingface.co (huggingface.co)... 18.238.49.117, 18.238.49.112, 18.238.49.70, ...\n",
      "Connecting to huggingface.co (huggingface.co)|18.238.49.117|:443... connected.\n",
      "HTTP request sent, awaiting response... 302 Found\n",
      "Location: https://cdn-lfs.huggingface.co/repos/75/11/75111e1f91802496e5634940a8c04abc9e813e9caafdcbcc99288a48e5bdc0b2/9a2ae44e439fb7d90b8ae8bc302ce5990a00ad809effc164b61737cab8f901a0?response-content-disposition=attachment%3B+filename*%3DUTF-8%27%27AnythingV3_inclvae.ckpt%3B+filename%3D%22AnythingV3_inclvae.ckpt%22%3B&Expires=1696000027&Policy=eyJTdGF0ZW1lbnQiOlt7IkNvbmRpdGlvbiI6eyJEYXRlTGVzc1RoYW4iOnsiQVdTOkVwb2NoVGltZSI6MTY5NjAwMDAyN319LCJSZXNvdXJjZSI6Imh0dHBzOi8vY2RuLWxmcy5odWdnaW5nZmFjZS5jby9yZXBvcy83NS8xMS83NTExMWUxZjkxODAyNDk2ZTU2MzQ5NDBhOGMwNGFiYzllODEzZTljYWFmZGNiY2M5OTI4OGE0OGU1YmRjMGIyLzlhMmFlNDRlNDM5ZmI3ZDkwYjhhZThiYzMwMmNlNTk5MGEwMGFkODA5ZWZmYzE2NGI2MTczN2NhYjhmOTAxYTA%7EcmVzcG9uc2UtY29udGVudC1kaXNwb3NpdGlvbj0qIn1dfQ__&Signature=MCku4rbpBE-NxQCwlV-g6zCgHUqg8ECGvxe8c8SDkAR9Iqy7%7E%7EHJ81wgbm4geqWWucTQs3PB8Bau2PJi309XBbtc%7EvGmPf5kfEkDq0u7dqoMuZZQ1Apl36iWXyKfO5wBshPxmQU%7EUutbaUq-94TEFldrkB14Cvour8iosnPOpAW2pyw-GwqJB6D-OFOPU7O3N6O4xpWbhIkmRNQvyZAF-wN8P7jruZktEM9kHhDru9EvuyLrgyoWGs-NxhMDkZGEaoIr8puvixdd2jNQwtoPNg0TYRna2ifhgXj3wlpeCgrxqdGQJMRTkYzD072hhS4w3tt8JeUW58vWZGDkj8ltWA__&Key-Pair-Id=KVTP0A1DKRTAX [following]\n",
      "--2023-09-26 15:07:07--  https://cdn-lfs.huggingface.co/repos/75/11/75111e1f91802496e5634940a8c04abc9e813e9caafdcbcc99288a48e5bdc0b2/9a2ae44e439fb7d90b8ae8bc302ce5990a00ad809effc164b61737cab8f901a0?response-content-disposition=attachment%3B+filename*%3DUTF-8%27%27AnythingV3_inclvae.ckpt%3B+filename%3D%22AnythingV3_inclvae.ckpt%22%3B&Expires=1696000027&Policy=eyJTdGF0ZW1lbnQiOlt7IkNvbmRpdGlvbiI6eyJEYXRlTGVzc1RoYW4iOnsiQVdTOkVwb2NoVGltZSI6MTY5NjAwMDAyN319LCJSZXNvdXJjZSI6Imh0dHBzOi8vY2RuLWxmcy5odWdnaW5nZmFjZS5jby9yZXBvcy83NS8xMS83NTExMWUxZjkxODAyNDk2ZTU2MzQ5NDBhOGMwNGFiYzllODEzZTljYWFmZGNiY2M5OTI4OGE0OGU1YmRjMGIyLzlhMmFlNDRlNDM5ZmI3ZDkwYjhhZThiYzMwMmNlNTk5MGEwMGFkODA5ZWZmYzE2NGI2MTczN2NhYjhmOTAxYTA%7EcmVzcG9uc2UtY29udGVudC1kaXNwb3NpdGlvbj0qIn1dfQ__&Signature=MCku4rbpBE-NxQCwlV-g6zCgHUqg8ECGvxe8c8SDkAR9Iqy7%7E%7EHJ81wgbm4geqWWucTQs3PB8Bau2PJi309XBbtc%7EvGmPf5kfEkDq0u7dqoMuZZQ1Apl36iWXyKfO5wBshPxmQU%7EUutbaUq-94TEFldrkB14Cvour8iosnPOpAW2pyw-GwqJB6D-OFOPU7O3N6O4xpWbhIkmRNQvyZAF-wN8P7jruZktEM9kHhDru9EvuyLrgyoWGs-NxhMDkZGEaoIr8puvixdd2jNQwtoPNg0TYRna2ifhgXj3wlpeCgrxqdGQJMRTkYzD072hhS4w3tt8JeUW58vWZGDkj8ltWA__&Key-Pair-Id=KVTP0A1DKRTAX\n",
      "Resolving cdn-lfs.huggingface.co (cdn-lfs.huggingface.co)... 18.164.116.106, 18.164.116.66, 18.164.116.111, ...\n",
      "Connecting to cdn-lfs.huggingface.co (cdn-lfs.huggingface.co)|18.164.116.106|:443... connected.\n",
      "HTTP request sent, awaiting response... 200 OK\n",
      "Length: 2300178141 (2.1G) [binary/octet-stream]\n",
      "Saving to: ‘Anything_v3.ckpt’\n",
      "\n",
      "Anything_v3.ckpt    100%[===================>]   2.14G   278MB/s    in 7.5s    \n",
      "\n",
      "2023-09-26 15:07:15 (292 MB/s) - ‘Anything_v3.ckpt’ saved [2300178141/2300178141]\n",
      "\n",
      "Reading package lists... Done\n",
      "Building dependency tree       \n",
      "Reading state information... Done\n",
      "The following NEW packages will be installed:\n",
      "  megatools\n",
      "0 upgraded, 1 newly installed, 0 to remove and 3 not upgraded.\n",
      "Need to get 169 kB of archives.\n",
      "After this operation, 1357 kB of additional disk space will be used.\n",
      "Get:1 http://archive.ubuntu.com/ubuntu focal/universe amd64 megatools amd64 1.10.2-1 [169 kB]\n",
      "Fetched 169 kB in 0s (1166 kB/s) \u001b[0m\u001b[33m\n",
      "\n",
      "\u001b7\u001b[0;23r\u001b8\u001b[1ASelecting previously unselected package megatools.\n",
      "(Reading database ... 70099 files and directories currently installed.)\n",
      "Preparing to unpack .../megatools_1.10.2-1_amd64.deb ...\n",
      "\u001b7\u001b[24;0f\u001b[42m\u001b[30mProgress: [  0%]\u001b[49m\u001b[39m [..........................................................] \u001b8\u001b7\u001b[24;0f\u001b[42m\u001b[30mProgress: [ 20%]\u001b[49m\u001b[39m [###########...............................................] \u001b8Unpacking megatools (1.10.2-1) ...\n",
      "\u001b7\u001b[24;0f\u001b[42m\u001b[30mProgress: [ 40%]\u001b[49m\u001b[39m [#######################...................................] \u001b8Setting up megatools (1.10.2-1) ...\n",
      "\u001b7\u001b[24;0f\u001b[42m\u001b[30mProgress: [ 60%]\u001b[49m\u001b[39m [##################################........................] \u001b8\u001b7\u001b[24;0f\u001b[42m\u001b[30mProgress: [ 80%]\u001b[49m\u001b[39m [##############################################............] \u001b8Processing triggers for man-db (2.9.1-1) ...\n",
      "\n",
      "\u001b[0KDownloaded absolutereality_v181.safetensors33;1m99.03%\u001b[0m - \u001b[32;1m2.0 GiB (2112022096 bytes)\u001b[34;1m of 2.0 GiB\u001b[0m (33.1 MiB/s)\u001b[0K[0K\n",
      "\u001b[0KDownloaded realisticVisionV51_v51VAE.safetensors33;1m99.06%\u001b[0m - \u001b[32;1m2.0 GiB (2112588286 bytes)\u001b[34;1m of 2.0 GiB\u001b[0m (27.2 MiB/s)\u001b[0K0K\n"
     ]
    }
   ],
   "source": [
    "### Create directory for models to go into\n",
    "%mkdir /tmp/models\n",
    "%mkdir /tmp/models/lora\n",
    "%mkdir /tmp/models/stable-diffusion\n",
    "%cd /tmp/models/stable-diffusion\n",
    "\n",
    "### Download models (remove the # from in front of the ones you want to download, or add new ones in the same format 'wget -O filename.extension URL')\n",
    "\n",
    "#!wget https://huggingface.co/runwayml/stable-diffusion-v1-5/resolve/main/v1-5-pruned-emaonly.safetensors\n",
    "#!wget -O AbyssOrangeMixV3.ckpt https://huggingface.co/residentchiefnz/HordeVAEMergeModelsTest/resolve/main/AOM3_inclVAE.ckpt\n",
    "!wget -O Anything_v3.ckpt https://huggingface.co/residentchiefnz/HordeVAEMergeModelsTest/resolve/main/AnythingV3_inclvae.ckpt\n",
    "\n",
    "!sudo apt install megatools\n",
    "!megadl 'https://mega.co.nz/#!3Z8FWRgT!tAfSD82hWGub6LM--T2XPWEbFfQVHfIObMn8Pejzw-I' # AbsoluteReality\n",
    "!megadl 'https://mega.co.nz/#!CNUXRBzD!xYSQIlQq3Ap_pVsJOlGYI4nOR-hJYORswzWa71Rw78w' # Realistic Vision\n",
    "#!megadl 'https://mega.co.nz/#!edNWHDBD!Vt27gOgqTf45XZbtvr4uFnpT24ACGgHSqNJchtiSfQY' # Reliberate\n",
    "#!megadl 'https://mega.co.nz/#!vZUC1CRT!qwol38GJpCwom07vSazZUt7ah6OCr9fvMbrzvlPp6as' # CyberRealistic\n",
    "#!megadl 'https://mega.co.nz/#!zQtkgZQY!aZV7yxgecLhC4nNals3JWjNex9uHsuWPJteeHf6wJ0c' # BeenYouLite\n",
    "#!megadl 'https://mega.co.nz/#!yYshzT4Y!eK8UxeLUvCdXKpYPkutt3WiMJw-hEgL9LZ-OImIN0K8' # EpicRealism\n",
    "#!megadl 'https://mega.co.nz/#!KN0xXY6B!aEbaIznWM9g1uQaSou0idcJz3D-1pjZnvvXzkHSoN8g' # ICBINP\n",
    "#!megadl 'https://mega.co.nz/#!bU1wXR7L!psvhMdoSbcfzZ-LPg4mxhGofBTZWXwXrmOxkoG62dXA' # MagicMix\n",
    "#!megadl 'https://mega.co.nz/#!eJUi3QKC!JwSNEDenkr5fRChkJNO62xisrpEuRD0sH_yQD1HoXjs' # QGO\n",
    "\n"
   ]
  },
  {
   "cell_type": "markdown",
   "id": "f11fd0fa-6518-4405-a127-87059fe60dc6",
   "metadata": {},
   "source": [
    "## Download ControlNet (Pick what you need)"
   ]
  },
  {
   "cell_type": "code",
   "execution_count": 5,
   "id": "f306de98-4c73-42c8-a600-c8b68f625f17",
   "metadata": {
    "execution": {
     "iopub.execute_input": "2023-09-26T15:12:52.256729Z",
     "iopub.status.busy": "2023-09-26T15:12:52.256238Z",
     "iopub.status.idle": "2023-09-26T15:14:28.944579Z",
     "shell.execute_reply": "2023-09-26T15:14:28.943481Z",
     "shell.execute_reply.started": "2023-09-26T15:12:52.256684Z"
    }
   },
   "outputs": [
    {
     "name": "stdout",
     "output_type": "stream",
     "text": [
      "mkdir: cannot create directory ‘/tmp/models/ControlNet’: File exists\n",
      "/tmp/models/ControlNet\n",
      "--2023-09-26 15:12:53--  https://huggingface.co/lllyasviel/ControlNet/resolve/main/models/control_sd15_openpose.pth\n",
      "Resolving huggingface.co (huggingface.co)... 18.238.49.112, 18.238.49.117, 18.238.49.10, ...\n",
      "Connecting to huggingface.co (huggingface.co)|18.238.49.112|:443... connected.\n",
      "HTTP request sent, awaiting response... 302 Found\n",
      "Location: https://cdn-lfs.huggingface.co/repos/f6/65/f665e553e8fd16131981a96c629e785939f08080bb3cbf8d2b7f5ddbd9e6100a/d19ffffeeaff6d9feb2204b234c3e1b9aec039ab3e63fca07f4fe5646f2ef591?response-content-disposition=attachment%3B+filename*%3DUTF-8%27%27control_sd15_openpose.pth%3B+filename%3D%22control_sd15_openpose.pth%22%3B&Expires=1696000373&Policy=eyJTdGF0ZW1lbnQiOlt7IkNvbmRpdGlvbiI6eyJEYXRlTGVzc1RoYW4iOnsiQVdTOkVwb2NoVGltZSI6MTY5NjAwMDM3M319LCJSZXNvdXJjZSI6Imh0dHBzOi8vY2RuLWxmcy5odWdnaW5nZmFjZS5jby9yZXBvcy9mNi82NS9mNjY1ZTU1M2U4ZmQxNjEzMTk4MWE5NmM2MjllNzg1OTM5ZjA4MDgwYmIzY2JmOGQyYjdmNWRkYmQ5ZTYxMDBhL2QxOWZmZmZlZWFmZjZkOWZlYjIyMDRiMjM0YzNlMWI5YWVjMDM5YWIzZTYzZmNhMDdmNGZlNTY0NmYyZWY1OTE%7EcmVzcG9uc2UtY29udGVudC1kaXNwb3NpdGlvbj0qIn1dfQ__&Signature=myj8hGUqyZLzjPIlLx7zurpX4Dg1GqeAU5qtV4aIZ7nDE5xpxPGlVjNl1sInxowy0zjNq3rbJZAWSlZed64wcqEfdS2s6c58VUnoXnP8tdUB8aiveTd3itg-kd6rV1Dp8k4dJq8N7mhuLzt51dbUqXaavZBDkoKxhzPRid7tSYGeFDrs6dQIEnKSdSa6NfzrZoJKuykNY-qGp9pp%7Ehl0rayaWWyj4lP7u%7EMQsSttlvJtLxPaGqahcRLHa-9xfZ0k4xHSFA7oLPJK%7EUVFMeVi0mFshc%7EzaeDi8qoaqRrpK7cUQxfP49DhnPHbiZ-YaQw4It%7ERWXlZFrAWLNcf9rQjAg__&Key-Pair-Id=KVTP0A1DKRTAX [following]\n",
      "--2023-09-26 15:12:53--  https://cdn-lfs.huggingface.co/repos/f6/65/f665e553e8fd16131981a96c629e785939f08080bb3cbf8d2b7f5ddbd9e6100a/d19ffffeeaff6d9feb2204b234c3e1b9aec039ab3e63fca07f4fe5646f2ef591?response-content-disposition=attachment%3B+filename*%3DUTF-8%27%27control_sd15_openpose.pth%3B+filename%3D%22control_sd15_openpose.pth%22%3B&Expires=1696000373&Policy=eyJTdGF0ZW1lbnQiOlt7IkNvbmRpdGlvbiI6eyJEYXRlTGVzc1RoYW4iOnsiQVdTOkVwb2NoVGltZSI6MTY5NjAwMDM3M319LCJSZXNvdXJjZSI6Imh0dHBzOi8vY2RuLWxmcy5odWdnaW5nZmFjZS5jby9yZXBvcy9mNi82NS9mNjY1ZTU1M2U4ZmQxNjEzMTk4MWE5NmM2MjllNzg1OTM5ZjA4MDgwYmIzY2JmOGQyYjdmNWRkYmQ5ZTYxMDBhL2QxOWZmZmZlZWFmZjZkOWZlYjIyMDRiMjM0YzNlMWI5YWVjMDM5YWIzZTYzZmNhMDdmNGZlNTY0NmYyZWY1OTE%7EcmVzcG9uc2UtY29udGVudC1kaXNwb3NpdGlvbj0qIn1dfQ__&Signature=myj8hGUqyZLzjPIlLx7zurpX4Dg1GqeAU5qtV4aIZ7nDE5xpxPGlVjNl1sInxowy0zjNq3rbJZAWSlZed64wcqEfdS2s6c58VUnoXnP8tdUB8aiveTd3itg-kd6rV1Dp8k4dJq8N7mhuLzt51dbUqXaavZBDkoKxhzPRid7tSYGeFDrs6dQIEnKSdSa6NfzrZoJKuykNY-qGp9pp%7Ehl0rayaWWyj4lP7u%7EMQsSttlvJtLxPaGqahcRLHa-9xfZ0k4xHSFA7oLPJK%7EUVFMeVi0mFshc%7EzaeDi8qoaqRrpK7cUQxfP49DhnPHbiZ-YaQw4It%7ERWXlZFrAWLNcf9rQjAg__&Key-Pair-Id=KVTP0A1DKRTAX\n",
      "Resolving cdn-lfs.huggingface.co (cdn-lfs.huggingface.co)... 18.244.202.38, 18.244.202.14, 18.244.202.105, ...\n",
      "Connecting to cdn-lfs.huggingface.co (cdn-lfs.huggingface.co)|18.244.202.38|:443... connected.\n",
      "HTTP request sent, awaiting response... 200 OK\n",
      "Length: 5710751843 (5.3G) [binary/octet-stream]\n",
      "Saving to: ‘control_sd15_openpose.pth.1’\n",
      "\n",
      "control_sd15_openpo 100%[===================>]   5.32G  37.3MB/s    in 95s     \n",
      "\n",
      "2023-09-26 15:14:28 (57.4 MB/s) - ‘control_sd15_openpose.pth.1’ saved [5710751843/5710751843]\n",
      "\n",
      "/notebooks/stable-diffusion-webui/extensions/sd-webui-controlnet/models\n"
     ]
    }
   ],
   "source": [
    "## Download\n",
    "%mkdir /tmp/models/ControlNet\n",
    "%cd /tmp/models/ControlNet\n",
    "\n",
    "#!wget https://huggingface.co/lllyasviel/ControlNet/resolve/main/models/control_sd15_canny.pth\n",
    "#!wget https://huggingface.co/lllyasviel/ControlNet/resolve/main/models/control_sd15_depth.pth\n",
    "#!wget https://huggingface.co/lllyasviel/ControlNet/resolve/main/models/control_sd15_hed.pth\n",
    "#!wget https://huggingface.co/lllyasviel/ControlNet/resolve/main/models/control_sd15_mlsd.pth\n",
    "#!wget https://huggingface.co/lllyasviel/ControlNet/resolve/main/models/control_sd15_normal.pth\n",
    "!wget https://huggingface.co/lllyasviel/ControlNet/resolve/main/models/control_sd15_openpose.pth\n",
    "#!wget https://huggingface.co/lllyasviel/ControlNet/resolve/main/models/control_sd15_scribble.pth\n",
    "#!wget https://huggingface.co/lllyasviel/ControlNet/resolve/main/models/control_sd15_seg.pth\n",
    "\n",
    "## Create Symbolic Links\n",
    "%cd /notebooks/stable-diffusion-webui/extensions/sd-webui-controlnet/models\n",
    "#!ln -s /tmp/models/ControlNet/control_sd15_canny.pth control_sd15_canny.pth\n",
    "#!ln -s /tmp/models/ControlNet/control_sd15_depth.pth control_sd15_depth.pth\n",
    "#!ln -s /tmp/models/ControlNet/control_sd15_hed.pth control_sd15_hed.pth\n",
    "#!ln -s /tmp/models/ControlNet/control_sd15_mlsd.pth control_sd15_mlsd.pth\n",
    "#!ln -s /tmp/models/ControlNet/control_sd15_normal.pth control_sd15_normal.pth\n",
    "!ln -s /tmp/models/ControlNet/control_sd15_openpose.pth control_sd15_openpose.pth\n",
    "#!ln -s /tmp/models/ControlNet/control_sd15_scribble.pth control_sd15_scribble.pth\n",
    "#!ln -s /tmp/models/ControlNet/control_sd15_seg.pth control_sd15_seg.pth"
   ]
  },
  {
   "cell_type": "markdown",
   "id": "43693c9e-8796-4ba4-bef6-5fad0b50569a",
   "metadata": {},
   "source": [
    "## Run SD WebUI A1111"
   ]
  },
  {
   "cell_type": "code",
   "execution_count": null,
   "id": "c6b73acc-67be-48aa-9cab-fac5afeff538",
   "metadata": {
    "execution": {
     "iopub.execute_input": "2023-09-26T15:15:43.192726Z",
     "iopub.status.busy": "2023-09-26T15:15:43.192369Z"
    }
   },
   "outputs": [
    {
     "name": "stdout",
     "output_type": "stream",
     "text": [
      "/notebooks/stable-diffusion-webui\n",
      "\n",
      "################################################################\n",
      "\u001b[1m\u001b[32mInstall script for stable-diffusion + Web UI\n",
      "\u001b[1m\u001b[34mTested on Debian 11 (Bullseye)\u001b[0m\n",
      "################################################################\n",
      "\n",
      "################################################################\n",
      "Running on \u001b[1m\u001b[32mroot\u001b[0m user\n",
      "################################################################\n",
      "\n",
      "################################################################\n",
      "Repo already cloned, using it as install directory\n",
      "################################################################\n",
      "\n",
      "################################################################\n",
      "Create and activate python venv\n",
      "################################################################\n",
      "\n",
      "################################################################\n",
      "Launching launch.py...\n",
      "################################################################\n",
      "\u001b[1m\u001b[31mCannot locate TCMalloc (improves CPU memory usage)\u001b[0m\n",
      "Python 3.10.10 (main, Feb  8 2023, 14:50:01) [GCC 9.4.0]\n",
      "Version: v1.6.0\n",
      "Commit hash: 5ef669de080814067961f28357256e8fe27544f4\n",
      "#######################################################################################################\n",
      "Initializing Civitai Link\n",
      "If submitting an issue on github, please provide the below text for debugging purposes:\n",
      "\n",
      "Python revision: 3.10.10 (main, Feb  8 2023, 14:50:01) [GCC 9.4.0]\n",
      "Civitai Link revision: 763e8aedfab68e8933c3efbfa568961beeaa3def\n",
      "SD-WebUI revision: 5ef669de080814067961f28357256e8fe27544f4\n",
      "\n",
      "Checking Civitai Link requirements...\n",
      "[+] python-socketio[client] version 5.7.2 installed.\n",
      "\n",
      "#######################################################################################################\n",
      "Launching Web UI with arguments: -f --xformers --share --lora-dir /tmp/models/lora --ckpt-dir /tmp/models/stable-diffusion --enable-insecure-extension-access\n",
      "Downloading face_yolov8n.pt: 100%|██████████| 6.21M/6.21M [00:00<00:00, 246MB/s]\n",
      "Downloading face_yolov8s.pt: 100%|██████████| 22.5M/22.5M [00:00<00:00, 313MB/s]\n",
      "Downloading hand_yolov8n.pt: 100%|██████████| 6.22M/6.22M [00:00<00:00, 359MB/s]\n",
      "Downloading person_yolov8n-seg.pt: 100%|████| 6.75M/6.75M [00:00<00:00, 369MB/s]\n",
      "Downloading person_yolov8s-seg.pt: 100%|████| 23.8M/23.8M [00:00<00:00, 337MB/s]\n",
      "\u001b[1m[\u001b[0m-\u001b[1m]\u001b[0m ADetailer initialized. version: \u001b[1;36m23.9\u001b[0m.\u001b[1;36m3\u001b[0m, num models: \u001b[1;36m9\u001b[0m\n",
      "2023-09-26 15:16:39,638 - ControlNet - \u001b[0;32mINFO\u001b[0m - ControlNet v1.1.410\n",
      "ControlNet preprocessor location: /notebooks/stable-diffusion-webui/extensions/sd-webui-controlnet/annotator/downloads\n",
      "*** Error loading script: controlnet.py\n",
      "    Traceback (most recent call last):\n",
      "      File \"/notebooks/stable-diffusion-webui/modules/scripts.py\", line 382, in load_scripts\n",
      "        script_module = script_loading.load_module(scriptfile.path)\n",
      "      File \"/notebooks/stable-diffusion-webui/modules/script_loading.py\", line 10, in load_module\n",
      "        module_spec.loader.exec_module(module)\n",
      "      File \"<frozen importlib._bootstrap_external>\", line 883, in exec_module\n",
      "      File \"<frozen importlib._bootstrap>\", line 241, in _call_with_frames_removed\n",
      "      File \"/notebooks/stable-diffusion-webui/extensions/sd-webui-controlnet/scripts/controlnet.py\", line 86, in <module>\n",
      "        global_state.update_cn_models()\n",
      "      File \"/notebooks/stable-diffusion-webui/extensions/sd-webui-controlnet/scripts/global_state.py\", line 225, in update_cn_models\n",
      "        found = get_all_models(sort_by, filter_by, path)\n",
      "      File \"/notebooks/stable-diffusion-webui/extensions/sd-webui-controlnet/scripts/global_state.py\", line 192, in get_all_models\n",
      "        fileinfos = traverse_all_files(path, [])\n",
      "      File \"/notebooks/stable-diffusion-webui/extensions/sd-webui-controlnet/scripts/global_state.py\", line 176, in traverse_all_files\n",
      "        f_list = [\n",
      "      File \"/notebooks/stable-diffusion-webui/extensions/sd-webui-controlnet/scripts/global_state.py\", line 177, in <listcomp>\n",
      "        (os.path.join(curr_path, entry.name), entry.stat())\n",
      "    FileNotFoundError: [Errno 2] No such file or directory: '/notebooks/stable-diffusion-webui/extensions/sd-webui-controlnet/models/control_sd15_canny.pth'\n",
      "\n",
      "---\n",
      "2023-09-26 15:16:39,806 - ControlNet - \u001b[0;32mINFO\u001b[0m - ControlNet v1.1.410\n",
      "Civitai: API loaded\n",
      "Loading weights [9a2ae44e43] from /tmp/models/stable-diffusion/Anything_v3.ckpt\n",
      "/notebooks/stable-diffusion-webui/extensions/stable-diffusion-webui-images-browser/scripts/images_history.py:214: GradioDeprecationWarning: The `style` method is deprecated. Please set these arguments in the constructor instead.\n",
      "  history_gallery = gr.Gallery(show_label=False, elem_id=tabname + \"_images_history_gallery\").style(grid=opts.images_history_page_columns)\n",
      "/notebooks/stable-diffusion-webui/extensions/stable-diffusion-webui-images-browser/scripts/images_history.py:214: GradioDeprecationWarning: The 'grid' parameter will be deprecated. Please use 'columns' in the constructor instead.\n",
      "  history_gallery = gr.Gallery(show_label=False, elem_id=tabname + \"_images_history_gallery\").style(grid=opts.images_history_page_columns)\n",
      "Running on local URL:  http://127.0.0.1:7860\n",
      "Creating model from config: /notebooks/stable-diffusion-webui/configs/v1-inference.yaml\n",
      "Downloading (…)olve/main/vocab.json: 100%|███| 961k/961k [00:00<00:00, 23.8MB/s]\n",
      "Downloading (…)olve/main/merges.txt: 100%|███| 525k/525k [00:00<00:00, 59.7MB/s]\n",
      "Downloading (…)cial_tokens_map.json: 100%|█████| 389/389 [00:00<00:00, 3.19MB/s]\n",
      "Downloading (…)okenizer_config.json: 100%|█████| 905/905 [00:00<00:00, 5.29MB/s]\n",
      "Downloading (…)lve/main/config.json: 100%|█| 4.52k/4.52k [00:00<00:00, 27.3MB/s]\n",
      "Applying attention optimization: xformers... done.\n",
      "Running on public URL: https://06a31e0ad01e76cc12.gradio.live\n",
      "\n",
      "This share link expires in 72 hours. For free permanent hosting and GPU upgrades, run `gradio deploy` from Terminal to deploy to Spaces (https://huggingface.co/spaces)\n",
      "Civitai: Check resources for missing info filesCivitai: Check resources for missing preview images\n",
      "Startup time: 68.5s (prepare environment: 22.9s, import torch: 12.9s, import gradio: 5.0s, setup paths: 6.7s, import ldm: 0.2s, initialize shared: 0.5s, other imports: 4.6s, setup codeformer: 0.8s, setup gfpgan: 0.2s, load scripts: 3.8s, create ui: 1.3s, gradio launch: 9.5s).\n",
      "\n",
      "Calculating sha256 for /tmp/models/stable-diffusion/absolutereality_v181.safetensors: Calculating sha256 for /tmp/models/stable-diffusion/absolutereality_v181.safetensors: Model loaded in 12.9s (load weights from disk: 8.8s, create model: 0.9s, apply weights to model: 0.7s, apply half(): 0.1s, load textual inversion embeddings: 0.2s, calculate empty prompt: 2.1s).\n",
      "463d6a9fe8a4b56a4d69ef3692074c0617428dfd8e8f12f9efe3b1e9a71717ce\n",
      "463d6a9fe8a4b56a4d69ef3692074c0617428dfd8e8f12f9efe3b1e9a71717ce\n",
      "Calculating sha256 for /tmp/models/stable-diffusion/realisticVisionV51_v51VAE.safetensors: Calculating sha256 for /tmp/models/stable-diffusion/realisticVisionV51_v51VAE.safetensors: 15012c538f503ce2ebfc2c8547b268c75ccdaff7a281db55399940ff1d70e21d\n",
      "Civitai: Found 3 resources missing preview images\n",
      "15012c538f503ce2ebfc2c8547b268c75ccdaff7a281db55399940ff1d70e21d\n",
      "Civitai: Found 3 resources missing info files\n",
      "Civitai: Found 2 hash matches\n",
      "Civitai: Updated 2 info files\n",
      "Civitai: Found 2 hash matches\n",
      "Civitai: Updated 0 preview images\n",
      "Traceback (most recent call last):\n",
      "  File \"/notebooks/stable-diffusion-webui/venv/lib/python3.10/site-packages/gradio/routes.py\", line 487, in run_predict\n",
      "    with utils.MatplotlibBackendMananger():\n",
      "  File \"/notebooks/stable-diffusion-webui/venv/lib/python3.10/site-packages/gradio/utils.py\", line 887, in __exit__\n",
      "    matplotlib.use(self._original_backend)\n",
      "  File \"/notebooks/stable-diffusion-webui/venv/lib/python3.10/site-packages/matplotlib/__init__.py\", line 1249, in use\n",
      "    plt.switch_backend(name)\n",
      "  File \"/notebooks/stable-diffusion-webui/venv/lib/python3.10/site-packages/matplotlib/pyplot.py\", line 342, in switch_backend\n",
      "    module = importlib.import_module(cbook._backend_module_name(newbackend))\n",
      "  File \"/usr/lib/python3.10/importlib/__init__.py\", line 126, in import_module\n",
      "    return _bootstrap._gcd_import(name[level:], package, level)\n",
      "  File \"<frozen importlib._bootstrap>\", line 1050, in _gcd_import\n",
      "  File \"<frozen importlib._bootstrap>\", line 1027, in _find_and_load\n",
      "  File \"<frozen importlib._bootstrap>\", line 992, in _find_and_load_unlocked\n",
      "  File \"<frozen importlib._bootstrap>\", line 241, in _call_with_frames_removed\n",
      "  File \"<frozen importlib._bootstrap>\", line 1050, in _gcd_import\n",
      "  File \"<frozen importlib._bootstrap>\", line 1027, in _find_and_load\n",
      "  File \"<frozen importlib._bootstrap>\", line 1004, in _find_and_load_unlocked\n",
      "ModuleNotFoundError: No module named 'matplotlib_inline'\n",
      "Reusing loaded model Anything_v3.ckpt [9a2ae44e43] to load realisticVisionV51_v51VAE.safetensors [15012c538f]\n",
      "Loading weights [15012c538f] from /tmp/models/stable-diffusion/realisticVisionV51_v51VAE.safetensors\n",
      "Applying attention optimization: xformers... done.\n",
      "Weights loaded in 3.4s (send model to cpu: 0.9s, load weights from disk: 0.4s, apply weights to model: 1.6s, move model to device: 0.5s).\n"
     ]
    }
   ],
   "source": [
    "## Run a1111\n",
    "%cd /notebooks/stable-diffusion-webui\n",
    "!bash webui.sh -f \\\n",
    "     --xformers \\\n",
    "     --share \\\n",
    "     --lora-dir /tmp/models/lora \\\n",
    "     --ckpt-dir /tmp/models/stable-diffusion \\\n",
    "     --enable-insecure-extension-access"
   ]
  }
 ],
 "metadata": {
  "kernelspec": {
   "display_name": "Python 3 (ipykernel)",
   "language": "python",
   "name": "python3"
  },
  "language_info": {
   "codemirror_mode": {
    "name": "ipython",
    "version": 3
   },
   "file_extension": ".py",
   "mimetype": "text/x-python",
   "name": "python",
   "nbconvert_exporter": "python",
   "pygments_lexer": "ipython3",
   "version": "3.10.10"
  }
 },
 "nbformat": 4,
 "nbformat_minor": 5
}
