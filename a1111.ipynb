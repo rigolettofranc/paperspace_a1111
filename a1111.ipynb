{
 "cells": [
  {
   "cell_type": "markdown",
   "id": "967a0d0b-c644-4bdc-a755-a63a8aad774f",
   "metadata": {},
   "source": [
    "## Download Stable Diffusion"
   ]
  },
  {
   "cell_type": "code",
   "execution_count": 1,
   "id": "78c19421-f0d1-4961-a32d-9eda6bd4f15f",
   "metadata": {
    "execution": {
     "iopub.execute_input": "2023-09-27T18:18:30.495244Z",
     "iopub.status.busy": "2023-09-27T18:18:30.494725Z",
     "iopub.status.idle": "2023-09-27T18:18:31.351400Z",
     "shell.execute_reply": "2023-09-27T18:18:31.350678Z",
     "shell.execute_reply.started": "2023-09-27T18:18:30.495219Z"
    }
   },
   "outputs": [
    {
     "name": "stdout",
     "output_type": "stream",
     "text": [
      "/notebooks/stable-diffusion-webui\n",
      "Already up to date.\n"
     ]
    }
   ],
   "source": [
    "### Install/update a1111\n",
    "import os\n",
    "if not os.path.isfile(\"/notebooks/stable-diffusion-webui/config.json\"):\n",
    "    %cd /notebooks\n",
    "    !git clone https://github.com/AUTOMATIC1111/stable-diffusion-webui.git\n",
    "    %cd /notebooks/stable-diffusion-webui\n",
    "    !wget -O config.json https://raw.githubusercontent.com/ResidentChief/simple_a1111_paperspace/main/config.json\n",
    "else:\n",
    "   %cd /notebooks/stable-diffusion-webui\n",
    "   !git pull\n",
    "    "
   ]
  },
  {
   "cell_type": "markdown",
   "id": "0cbec32f-8e88-4e02-a903-47fe8d4c333e",
   "metadata": {},
   "source": [
    "## Download Checkpoints (Pick what you need)"
   ]
  },
  {
   "cell_type": "code",
   "execution_count": 2,
   "id": "f98ea821-6df1-4457-9725-5bd71b279e78",
   "metadata": {
    "execution": {
     "iopub.execute_input": "2023-09-27T18:18:31.354023Z",
     "iopub.status.busy": "2023-09-27T18:18:31.353363Z",
     "iopub.status.idle": "2023-09-27T18:21:42.528401Z",
     "shell.execute_reply": "2023-09-27T18:21:42.527722Z",
     "shell.execute_reply.started": "2023-09-27T18:18:31.354001Z"
    }
   },
   "outputs": [
    {
     "name": "stdout",
     "output_type": "stream",
     "text": [
      "/tmp/models/stable-diffusion\n",
      "Reading package lists... Done\n",
      "Building dependency tree       \n",
      "Reading state information... Done\n",
      "The following NEW packages will be installed:\n",
      "  megatools\n",
      "0 upgraded, 1 newly installed, 0 to remove and 3 not upgraded.\n",
      "Need to get 169 kB of archives.\n",
      "After this operation, 1357 kB of additional disk space will be used.\n",
      "Get:1 http://archive.ubuntu.com/ubuntu focal/universe amd64 megatools amd64 1.10.2-1 [169 kB]\n",
      "Fetched 169 kB in 5s (31.5 kB/s)  \u001b[0m\u001b[33m\n",
      "\n",
      "\u001b7\u001b[0;23r\u001b8\u001b[1ASelecting previously unselected package megatools.\n",
      "(Reading database ... 70099 files and directories currently installed.)\n",
      "Preparing to unpack .../megatools_1.10.2-1_amd64.deb ...\n",
      "\u001b7\u001b[24;0f\u001b[42m\u001b[30mProgress: [  0%]\u001b[49m\u001b[39m [..........................................................] \u001b8\u001b7\u001b[24;0f\u001b[42m\u001b[30mProgress: [ 20%]\u001b[49m\u001b[39m [###########...............................................] \u001b8Unpacking megatools (1.10.2-1) ...\n",
      "\u001b7\u001b[24;0f\u001b[42m\u001b[30mProgress: [ 40%]\u001b[49m\u001b[39m [#######################...................................] \u001b8Setting up megatools (1.10.2-1) ...\n",
      "\u001b7\u001b[24;0f\u001b[42m\u001b[30mProgress: [ 60%]\u001b[49m\u001b[39m [##################################........................] \u001b8\u001b7\u001b[24;0f\u001b[42m\u001b[30mProgress: [ 80%]\u001b[49m\u001b[39m [##############################################............] \u001b8Processing triggers for man-db (2.9.1-1) ...\n",
      "\n",
      "\u001b[0KDownloaded realisticVisionV51_v51VAE.safetensors33;1m99.95%\u001b[0m - \u001b[32;1m2.0 GiB (2131640230 bytes)\u001b[34;1m of 2.0 GiB\u001b[0m (36.6 MiB/s)\u001b[0K[0K\n",
      "\u001b[0KDownloaded reliberate_v20.safetensors33;1m99.45%\u001b[0m - \u001b[32;1m2.0 GiB (2120907784 bytes)\u001b[34;1m of 2.0 GiB\u001b[0m (19.1 MiB/s)\u001b[0K[0K\n"
     ]
    }
   ],
   "source": [
    "### Create directory for models to go into\n",
    "%mkdir /tmp/models\n",
    "%mkdir /tmp/models/lora\n",
    "%mkdir /tmp/models/stable-diffusion\n",
    "%cd /tmp/models/stable-diffusion\n",
    "\n",
    "### Download models (remove the # from in front of the ones you want to download, or add new ones in the same format 'wget -O filename.extension URL')\n",
    "!wget https://huggingface.co/stabilityai/stable-diffusion-xl-base-1.0/resolve/main/sd_xl_base_1.0.safetensors\n",
    "#!wget https://huggingface.co/runwayml/stable-diffusion-v1-5/resolve/main/v1-5-pruned-emaonly.safetensors\n",
    "#!wget -O AbyssOrangeMixV3.ckpt https://huggingface.co/residentchiefnz/HordeVAEMergeModelsTest/resolve/main/AOM3_inclVAE.ckpt\n",
    "#!wget -O Anything_v3.ckpt https://huggingface.co/residentchiefnz/HordeVAEMergeModelsTest/resolve/main/AnythingV3_inclvae.ckpt\n",
    "\n",
    "!sudo apt install megatools\n",
    "#!megadl 'https://mega.co.nz/#!3Z8FWRgT!tAfSD82hWGub6LM--T2XPWEbFfQVHfIObMn8Pejzw-I' # AbsoluteReality\n",
    "!megadl 'https://mega.co.nz/#!CNUXRBzD!xYSQIlQq3Ap_pVsJOlGYI4nOR-hJYORswzWa71Rw78w' # Realistic Vision\n",
    "!megadl 'https://mega.co.nz/#!edNWHDBD!Vt27gOgqTf45XZbtvr4uFnpT24ACGgHSqNJchtiSfQY' # Reliberate\n",
    "#!megadl 'https://mega.co.nz/#!vZUC1CRT!qwol38GJpCwom07vSazZUt7ah6OCr9fvMbrzvlPp6as' # CyberRealistic\n",
    "#!megadl 'https://mega.co.nz/#!zQtkgZQY!aZV7yxgecLhC4nNals3JWjNex9uHsuWPJteeHf6wJ0c' # BeenYouLite\n",
    "#!megadl 'https://mega.co.nz/#!yYshzT4Y!eK8UxeLUvCdXKpYPkutt3WiMJw-hEgL9LZ-OImIN0K8' # EpicRealism\n",
    "#!megadl 'https://mega.co.nz/#!KN0xXY6B!aEbaIznWM9g1uQaSou0idcJz3D-1pjZnvvXzkHSoN8g' # ICBINP\n",
    "#!megadl 'https://mega.co.nz/#!bU1wXR7L!psvhMdoSbcfzZ-LPg4mxhGofBTZWXwXrmOxkoG62dXA' # MagicMix\n",
    "#!megadl 'https://mega.co.nz/#!eJUi3QKC!JwSNEDenkr5fRChkJNO62xisrpEuRD0sH_yQD1HoXjs' # QGO\n",
    "#!megadl 'https://mega.co.nz/#!t6FXlZyQ!CMvkWbK9B6EA3nTqiTm9p0c7x4hZ4jFvN39Z9TAKTnE' # AnalogMadness\n",
    "#!megadl 'https://mega.co.nz/#!lyNz0JKI!J7__5sK3i8aO1GX5ktJ1S9FxQOiExEPNmivHwYWDTNk' # AnyLora_BakedVAE\n",
    "#!megadl 'https://mega.co.nz/#!NutijCBQ!NEt3bCivDFRbyeBAmvKPGXGLNrzm8hrZheJU7WS1GmI' # AnyLora_NoVAE\n",
    "#!megadl 'https://mega.co.nz/#!prlGVCpY!wROMJSVMt061tOkrOT26Cf5gULbE9yvxRUonsAxYq2I' # MagicMix\n",
    "#!megadl 'https://mega.co.nz/#!omkDyKbB!vfQJc9dJS7uT_Vw6htDXF6NaTrr5wqmdy1dBee3q9Pk' # AIO\n"
   ]
  },
  {
   "cell_type": "markdown",
   "id": "f11fd0fa-6518-4405-a127-87059fe60dc6",
   "metadata": {},
   "source": [
    "## Download ControlNet (Pick what you need)"
   ]
  },
  {
   "cell_type": "code",
   "execution_count": 9,
   "id": "f306de98-4c73-42c8-a600-c8b68f625f17",
   "metadata": {
    "execution": {
     "iopub.execute_input": "2023-09-27T19:01:10.335906Z",
     "iopub.status.busy": "2023-09-27T19:01:10.335334Z",
     "iopub.status.idle": "2023-09-27T19:01:10.774049Z",
     "shell.execute_reply": "2023-09-27T19:01:10.773244Z",
     "shell.execute_reply.started": "2023-09-27T19:01:10.335879Z"
    }
   },
   "outputs": [
    {
     "name": "stdout",
     "output_type": "stream",
     "text": [
      "/tmp/models/ControlNet\n",
      "/notebooks/stable-diffusion-webui/extensions/sd-webui-controlnet\n",
      "/notebooks/stable-diffusion-webui/extensions/sd-webui-controlnet/models\n"
     ]
    }
   ],
   "source": [
    "## Download\n",
    "%mkdir /tmp/models/ControlNet\n",
    "%cd /tmp/models/ControlNet\n",
    "\n",
    "#!wget https://huggingface.co/lllyasviel/ControlNet/resolve/main/models/control_sd15_canny.pth\n",
    "#!wget https://huggingface.co/lllyasviel/ControlNet/resolve/main/models/control_sd15_depth.pth\n",
    "#!wget https://huggingface.co/lllyasviel/ControlNet/resolve/main/models/control_sd15_hed.pth\n",
    "#!wget https://huggingface.co/lllyasviel/ControlNet/resolve/main/models/control_sd15_mlsd.pth\n",
    "#!wget https://huggingface.co/lllyasviel/ControlNet/resolve/main/models/control_sd15_normal.pth\n",
    "#!wget https://huggingface.co/lllyasviel/ControlNet/resolve/main/models/control_sd15_openpose.pth\n",
    "#!wget https://huggingface.co/lllyasviel/ControlNet/resolve/main/models/control_sd15_scribble.pth\n",
    "#!wget https://huggingface.co/lllyasviel/ControlNet/resolve/main/models/control_sd15_seg.pth\n",
    "\n",
    "## Create Symbolic Links\n",
    "%cd /notebooks/stable-diffusion-webui/extensions/sd-webui-controlnet\n",
    "%rm -rf models && mkdir models # clear old broken sym links\n",
    "%cd models\n",
    "#!ln -s /tmp/models/ControlNet/control_sd15_canny.pth control_sd15_canny.pth\n",
    "#!ln -s /tmp/models/ControlNet/control_sd15_depth.pth control_sd15_depth.pth\n",
    "#!ln -s /tmp/models/ControlNet/control_sd15_hed.pth control_sd15_hed.pth\n",
    "#!ln -s /tmp/models/ControlNet/control_sd15_mlsd.pth control_sd15_mlsd.pth\n",
    "#!ln -s /tmp/models/ControlNet/control_sd15_normal.pth control_sd15_normal.pth\n",
    "#!ln -s /tmp/models/ControlNet/control_sd15_openpose.pth control_sd15_openpose.pth\n",
    "#!ln -s /tmp/models/ControlNet/control_sd15_scribble.pth control_sd15_scribble.pth\n",
    "#!ln -s /tmp/models/ControlNet/control_sd15_seg.pth control_sd15_seg.pth"
   ]
  },
  {
   "cell_type": "markdown",
   "id": "43693c9e-8796-4ba4-bef6-5fad0b50569a",
   "metadata": {},
   "source": [
    "## Run SD WebUI A1111"
   ]
  },
  {
   "cell_type": "code",
   "execution_count": null,
   "id": "c6b73acc-67be-48aa-9cab-fac5afeff538",
   "metadata": {
    "execution": {
     "iopub.execute_input": "2023-09-27T19:01:36.767661Z",
     "iopub.status.busy": "2023-09-27T19:01:36.766939Z"
    }
   },
   "outputs": [
    {
     "name": "stdout",
     "output_type": "stream",
     "text": [
      "/notebooks/stable-diffusion-webui\n",
      "\n",
      "################################################################\n",
      "\u001b[1m\u001b[32mInstall script for stable-diffusion + Web UI\n",
      "\u001b[1m\u001b[34mTested on Debian 11 (Bullseye)\u001b[0m\n",
      "################################################################\n",
      "\n",
      "################################################################\n",
      "Running on \u001b[1m\u001b[32mroot\u001b[0m user\n",
      "################################################################\n",
      "\n",
      "################################################################\n",
      "Repo already cloned, using it as install directory\n",
      "################################################################\n",
      "\n",
      "################################################################\n",
      "Create and activate python venv\n",
      "################################################################\n",
      "\n",
      "################################################################\n",
      "Launching launch.py...\n",
      "################################################################\n",
      "\u001b[1m\u001b[31mCannot locate TCMalloc (improves CPU memory usage)\u001b[0m\n",
      "Python 3.10.10 (main, Feb  8 2023, 14:50:01) [GCC 9.4.0]\n",
      "Version: v1.6.0\n",
      "Commit hash: 5ef669de080814067961f28357256e8fe27544f4\n",
      "#######################################################################################################\n",
      "Initializing Civitai Link\n",
      "If submitting an issue on github, please provide the below text for debugging purposes:\n",
      "\n",
      "Python revision: 3.10.10 (main, Feb  8 2023, 14:50:01) [GCC 9.4.0]\n",
      "Civitai Link revision: 763e8aedfab68e8933c3efbfa568961beeaa3def\n",
      "SD-WebUI revision: 5ef669de080814067961f28357256e8fe27544f4\n",
      "\n",
      "Checking Civitai Link requirements...\n",
      "[+] python-socketio[client] version 5.7.2 installed.\n",
      "\n",
      "#######################################################################################################\n",
      "Installing sd-webui-controlnet requirement: changing opencv-python version from 4.7.0.72 to 4.8.0\n",
      "Checking roop requirements\n",
      "Install insightface==0.7.3\n",
      "Installing sd-webui-roop requirement: insightface==0.7.3\n",
      "Install onnx==1.14.0\n",
      "Installing sd-webui-roop requirement: onnx==1.14.0\n",
      "Install onnxruntime==1.15.0\n",
      "Installing sd-webui-roop requirement: onnxruntime==1.15.0\n",
      "Install opencv-python==4.7.0.72\n",
      "Installing sd-webui-roop requirement: opencv-python==4.7.0.72\n",
      "Launching Web UI with arguments: -f --xformers --share --lora-dir /tmp/models/lora --ckpt-dir /tmp/models/stable-diffusion --enable-insecure-extension-access --precision full --no-half\n",
      "\u001b[1m[\u001b[0m-\u001b[1m]\u001b[0m ADetailer initialized. version: \u001b[1;36m23.9\u001b[0m.\u001b[1;36m3\u001b[0m, num models: \u001b[1;36m9\u001b[0m\n",
      "2023-09-27 19:02:00,784 - ControlNet - \u001b[0;32mINFO\u001b[0m - ControlNet v1.1.410\n",
      "ControlNet preprocessor location: /notebooks/stable-diffusion-webui/extensions/sd-webui-controlnet/annotator/downloads\n",
      "2023-09-27 19:02:00,879 - ControlNet - \u001b[0;32mINFO\u001b[0m - ControlNet v1.1.410\n",
      "2023-09-27 19:02:01,089 - roop - \u001b[0;32mINFO\u001b[0m - roop v0.0.2\n",
      "2023-09-27 19:02:01,136 - roop - \u001b[0;32mINFO\u001b[0m - roop v0.0.2\n",
      "Civitai: API loaded\n",
      "Loading weights [6b08e2c182] from /tmp/models/stable-diffusion/reliberate_v20.safetensors\n",
      "Creating model from config: /notebooks/stable-diffusion-webui/configs/v1-inference.yaml\n",
      "/notebooks/stable-diffusion-webui/extensions/sd-webui-roop/scripts/faceswap.py:38: GradioDeprecationWarning: Usage of gradio.inputs is deprecated, and will not be supported in the future, please import your component from gradio.components\n",
      "  img = gr.inputs.Image(type=\"pil\")\n",
      "/notebooks/stable-diffusion-webui/modules/gradio_extensons.py:25: GradioDeprecationWarning: `optional` parameter is deprecated, and it has no effect\n",
      "  res = original_IOComponent_init(self, *args, **kwargs)\n",
      "/notebooks/stable-diffusion-webui/extensions/sd-webui-roop/scripts/faceswap.py:55: GradioDeprecationWarning: Usage of gradio.inputs is deprecated, and will not be supported in the future, please import your component from gradio.components\n",
      "  upscaler_name = gr.inputs.Dropdown(\n",
      "/notebooks/stable-diffusion-webui/extensions/sd-webui-roop/scripts/faceswap.py:74: GradioDeprecationWarning: Usage of gradio.inputs is deprecated, and will not be supported in the future, please import your component from gradio.components\n",
      "  model = gr.inputs.Dropdown(\n",
      "/notebooks/stable-diffusion-webui/extensions/stable-diffusion-webui-images-browser/scripts/images_history.py:214: GradioDeprecationWarning: The `style` method is deprecated. Please set these arguments in the constructor instead.\n",
      "  history_gallery = gr.Gallery(show_label=False, elem_id=tabname + \"_images_history_gallery\").style(grid=opts.images_history_page_columns)\n",
      "/notebooks/stable-diffusion-webui/extensions/stable-diffusion-webui-images-browser/scripts/images_history.py:214: GradioDeprecationWarning: The 'grid' parameter will be deprecated. Please use 'columns' in the constructor instead.\n",
      "  history_gallery = gr.Gallery(show_label=False, elem_id=tabname + \"_images_history_gallery\").style(grid=opts.images_history_page_columns)\n",
      "Running on local URL:  http://127.0.0.1:7860\n",
      "Applying attention optimization: xformers... done.\n",
      "Model loaded in 3.4s (load weights from disk: 0.2s, create model: 1.7s, apply weights to model: 0.6s, calculate empty prompt: 0.8s).\n",
      "Running on public URL: https://0ee6a3bf754781c66e.gradio.live\n",
      "\n",
      "This share link expires in 72 hours. For free permanent hosting and GPU upgrades, run `gradio deploy` from Terminal to deploy to Spaces (https://huggingface.co/spaces)\n",
      "Civitai: Check resources for missing info files\n",
      "Civitai: Check resources for missing preview images\n",
      "Startup time: 34.1s (prepare environment: 18.4s, import torch: 2.2s, import gradio: 0.6s, setup paths: 1.0s, initialize shared: 0.1s, other imports: 0.4s, setup codeformer: 0.2s, load scripts: 1.5s, initialize extra networks: 0.2s, create ui: 0.9s, gradio launch: 8.6s).\n",
      "Civitai: Found 0 resources missing info files\n",
      "Civitai: No info found on Civitai\n",
      "Civitai: Found 2 resources missing preview images\n",
      "Civitai: Found 2 hash matches\n",
      "Civitai: Updated 0 preview images\n"
     ]
    }
   ],
   "source": [
    "## Run a1111\n",
    "%cd /notebooks/stable-diffusion-webui\n",
    "!bash webui.sh -f \\\n",
    "     --xformers \\\n",
    "     --share \\\n",
    "     --lora-dir /tmp/models/lora \\\n",
    "     --ckpt-dir /tmp/models/stable-diffusion \\\n",
    "     --enable-insecure-extension-access \\\n",
    "     --precision full --no-half"
   ]
  }
 ],
 "metadata": {
  "kernelspec": {
   "display_name": "Python 3 (ipykernel)",
   "language": "python",
   "name": "python3"
  },
  "language_info": {
   "codemirror_mode": {
    "name": "ipython",
    "version": 3
   },
   "file_extension": ".py",
   "mimetype": "text/x-python",
   "name": "python",
   "nbconvert_exporter": "python",
   "pygments_lexer": "ipython3",
   "version": "3.10.10"
  }
 },
 "nbformat": 4,
 "nbformat_minor": 5
}
