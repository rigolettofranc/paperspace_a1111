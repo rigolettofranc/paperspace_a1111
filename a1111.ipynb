{
 "cells": [
  {
   "cell_type": "markdown",
   "id": "967a0d0b-c644-4bdc-a755-a63a8aad774f",
   "metadata": {},
   "source": [
    "## Download Stable Diffusion"
   ]
  },
  {
   "cell_type": "code",
   "execution_count": 1,
   "id": "78c19421-f0d1-4961-a32d-9eda6bd4f15f",
   "metadata": {
    "execution": {
     "iopub.execute_input": "2023-09-26T15:07:04.892809Z",
     "iopub.status.busy": "2023-09-26T15:07:04.892103Z",
     "iopub.status.idle": "2023-09-26T15:07:05.776453Z",
     "shell.execute_reply": "2023-09-26T15:07:05.775464Z",
     "shell.execute_reply.started": "2023-09-26T15:07:04.892779Z"
    }
   },
   "outputs": [
    {
     "name": "stdout",
     "output_type": "stream",
     "text": [
      "/notebooks/stable-diffusion-webui\n",
      "Already up to date.\n"
     ]
    }
   ],
   "source": [
    "### Install/update a1111\n",
    "import os\n",
    "if not os.path.isfile(\"/notebooks/stable-diffusion-webui/config.json\"):\n",
    "    %cd /notebooks\n",
    "    !git clone https://github.com/AUTOMATIC1111/stable-diffusion-webui.git\n",
    "    %cd /notebooks/stable-diffusion-webui\n",
    "    !wget -O config.json https://raw.githubusercontent.com/ResidentChief/simple_a1111_paperspace/main/config.json\n",
    "else:\n",
    "   %cd /notebooks/stable-diffusion-webui\n",
    "   !git pull\n",
    "    "
   ]
  },
  {
   "cell_type": "markdown",
   "id": "0cbec32f-8e88-4e02-a903-47fe8d4c333e",
   "metadata": {},
   "source": [
    "## Download Checkpoints (Pick what you need)"
   ]
  },
  {
   "cell_type": "code",
   "execution_count": null,
   "id": "f98ea821-6df1-4457-9725-5bd71b279e78",
   "metadata": {
    "execution": {
     "iopub.execute_input": "2023-09-26T15:07:05.778807Z",
     "iopub.status.busy": "2023-09-26T15:07:05.778445Z"
    }
   },
   "outputs": [
    {
     "name": "stdout",
     "output_type": "stream",
     "text": [
      "/tmp/models/stable-diffusion\n",
      "--2023-09-26 15:07:07--  https://huggingface.co/residentchiefnz/HordeVAEMergeModelsTest/resolve/main/AnythingV3_inclvae.ckpt\n",
      "Resolving huggingface.co (huggingface.co)... 18.238.49.117, 18.238.49.112, 18.238.49.70, ...\n",
      "Connecting to huggingface.co (huggingface.co)|18.238.49.117|:443... connected.\n",
      "HTTP request sent, awaiting response... 302 Found\n",
      "Location: https://cdn-lfs.huggingface.co/repos/75/11/75111e1f91802496e5634940a8c04abc9e813e9caafdcbcc99288a48e5bdc0b2/9a2ae44e439fb7d90b8ae8bc302ce5990a00ad809effc164b61737cab8f901a0?response-content-disposition=attachment%3B+filename*%3DUTF-8%27%27AnythingV3_inclvae.ckpt%3B+filename%3D%22AnythingV3_inclvae.ckpt%22%3B&Expires=1696000027&Policy=eyJTdGF0ZW1lbnQiOlt7IkNvbmRpdGlvbiI6eyJEYXRlTGVzc1RoYW4iOnsiQVdTOkVwb2NoVGltZSI6MTY5NjAwMDAyN319LCJSZXNvdXJjZSI6Imh0dHBzOi8vY2RuLWxmcy5odWdnaW5nZmFjZS5jby9yZXBvcy83NS8xMS83NTExMWUxZjkxODAyNDk2ZTU2MzQ5NDBhOGMwNGFiYzllODEzZTljYWFmZGNiY2M5OTI4OGE0OGU1YmRjMGIyLzlhMmFlNDRlNDM5ZmI3ZDkwYjhhZThiYzMwMmNlNTk5MGEwMGFkODA5ZWZmYzE2NGI2MTczN2NhYjhmOTAxYTA%7EcmVzcG9uc2UtY29udGVudC1kaXNwb3NpdGlvbj0qIn1dfQ__&Signature=MCku4rbpBE-NxQCwlV-g6zCgHUqg8ECGvxe8c8SDkAR9Iqy7%7E%7EHJ81wgbm4geqWWucTQs3PB8Bau2PJi309XBbtc%7EvGmPf5kfEkDq0u7dqoMuZZQ1Apl36iWXyKfO5wBshPxmQU%7EUutbaUq-94TEFldrkB14Cvour8iosnPOpAW2pyw-GwqJB6D-OFOPU7O3N6O4xpWbhIkmRNQvyZAF-wN8P7jruZktEM9kHhDru9EvuyLrgyoWGs-NxhMDkZGEaoIr8puvixdd2jNQwtoPNg0TYRna2ifhgXj3wlpeCgrxqdGQJMRTkYzD072hhS4w3tt8JeUW58vWZGDkj8ltWA__&Key-Pair-Id=KVTP0A1DKRTAX [following]\n",
      "--2023-09-26 15:07:07--  https://cdn-lfs.huggingface.co/repos/75/11/75111e1f91802496e5634940a8c04abc9e813e9caafdcbcc99288a48e5bdc0b2/9a2ae44e439fb7d90b8ae8bc302ce5990a00ad809effc164b61737cab8f901a0?response-content-disposition=attachment%3B+filename*%3DUTF-8%27%27AnythingV3_inclvae.ckpt%3B+filename%3D%22AnythingV3_inclvae.ckpt%22%3B&Expires=1696000027&Policy=eyJTdGF0ZW1lbnQiOlt7IkNvbmRpdGlvbiI6eyJEYXRlTGVzc1RoYW4iOnsiQVdTOkVwb2NoVGltZSI6MTY5NjAwMDAyN319LCJSZXNvdXJjZSI6Imh0dHBzOi8vY2RuLWxmcy5odWdnaW5nZmFjZS5jby9yZXBvcy83NS8xMS83NTExMWUxZjkxODAyNDk2ZTU2MzQ5NDBhOGMwNGFiYzllODEzZTljYWFmZGNiY2M5OTI4OGE0OGU1YmRjMGIyLzlhMmFlNDRlNDM5ZmI3ZDkwYjhhZThiYzMwMmNlNTk5MGEwMGFkODA5ZWZmYzE2NGI2MTczN2NhYjhmOTAxYTA%7EcmVzcG9uc2UtY29udGVudC1kaXNwb3NpdGlvbj0qIn1dfQ__&Signature=MCku4rbpBE-NxQCwlV-g6zCgHUqg8ECGvxe8c8SDkAR9Iqy7%7E%7EHJ81wgbm4geqWWucTQs3PB8Bau2PJi309XBbtc%7EvGmPf5kfEkDq0u7dqoMuZZQ1Apl36iWXyKfO5wBshPxmQU%7EUutbaUq-94TEFldrkB14Cvour8iosnPOpAW2pyw-GwqJB6D-OFOPU7O3N6O4xpWbhIkmRNQvyZAF-wN8P7jruZktEM9kHhDru9EvuyLrgyoWGs-NxhMDkZGEaoIr8puvixdd2jNQwtoPNg0TYRna2ifhgXj3wlpeCgrxqdGQJMRTkYzD072hhS4w3tt8JeUW58vWZGDkj8ltWA__&Key-Pair-Id=KVTP0A1DKRTAX\n",
      "Resolving cdn-lfs.huggingface.co (cdn-lfs.huggingface.co)... 18.164.116.106, 18.164.116.66, 18.164.116.111, ...\n",
      "Connecting to cdn-lfs.huggingface.co (cdn-lfs.huggingface.co)|18.164.116.106|:443... connected.\n",
      "HTTP request sent, awaiting response... 200 OK\n",
      "Length: 2300178141 (2.1G) [binary/octet-stream]\n",
      "Saving to: ‘Anything_v3.ckpt’\n",
      "\n",
      "Anything_v3.ckpt     47%[========>           ]   1.01G   306MB/s    eta 4s     "
     ]
    }
   ],
   "source": [
    "### Create directory for models to go into\n",
    "%mkdir /tmp/models\n",
    "%mkdir /tmp/models/lora\n",
    "%mkdir /tmp/models/stable-diffusion\n",
    "%cd /tmp/models/stable-diffusion\n",
    "\n",
    "### Download models (remove the # from in front of the ones you want to download, or add new ones in the same format 'wget -O filename.extension URL')\n",
    "\n",
    "#!wget https://huggingface.co/runwayml/stable-diffusion-v1-5/resolve/main/v1-5-pruned-emaonly.safetensors\n",
    "#!wget -O AbyssOrangeMixV3.ckpt https://huggingface.co/residentchiefnz/HordeVAEMergeModelsTest/resolve/main/AOM3_inclVAE.ckpt\n",
    "!wget -O Anything_v3.ckpt https://huggingface.co/residentchiefnz/HordeVAEMergeModelsTest/resolve/main/AnythingV3_inclvae.ckpt\n",
    "\n",
    "!sudo apt install megatools\n",
    "!megadl 'https://mega.co.nz/#!3Z8FWRgT!tAfSD82hWGub6LM--T2XPWEbFfQVHfIObMn8Pejzw-I' # AbsoluteReality\n",
    "!megadl 'https://mega.co.nz/#!CNUXRBzD!xYSQIlQq3Ap_pVsJOlGYI4nOR-hJYORswzWa71Rw78w' # Realistic Vision\n",
    "#!megadl 'https://mega.co.nz/#!edNWHDBD!Vt27gOgqTf45XZbtvr4uFnpT24ACGgHSqNJchtiSfQY' # Reliberate\n",
    "#!megadl 'https://mega.co.nz/#!vZUC1CRT!qwol38GJpCwom07vSazZUt7ah6OCr9fvMbrzvlPp6as' # CyberRealistic\n",
    "#!megadl 'https://mega.co.nz/#!zQtkgZQY!aZV7yxgecLhC4nNals3JWjNex9uHsuWPJteeHf6wJ0c' # BeenYouLite\n",
    "#!megadl 'https://mega.co.nz/#!yYshzT4Y!eK8UxeLUvCdXKpYPkutt3WiMJw-hEgL9LZ-OImIN0K8' # EpicRealism\n",
    "#!megadl 'https://mega.co.nz/#!KN0xXY6B!aEbaIznWM9g1uQaSou0idcJz3D-1pjZnvvXzkHSoN8g' # ICBINP\n",
    "#!megadl 'https://mega.co.nz/#!bU1wXR7L!psvhMdoSbcfzZ-LPg4mxhGofBTZWXwXrmOxkoG62dXA' # MagicMix\n",
    "#!megadl 'https://mega.co.nz/#!eJUi3QKC!JwSNEDenkr5fRChkJNO62xisrpEuRD0sH_yQD1HoXjs' # QGO\n",
    "\n"
   ]
  },
  {
   "cell_type": "markdown",
   "id": "f11fd0fa-6518-4405-a127-87059fe60dc6",
   "metadata": {},
   "source": [
    "## Download ControlNet (Pick what you need)"
   ]
  },
  {
   "cell_type": "code",
   "execution_count": null,
   "id": "f306de98-4c73-42c8-a600-c8b68f625f17",
   "metadata": {},
   "outputs": [],
   "source": [
    "## Download\n",
    "%mkdir /tmp/models/ControlNet\n",
    "%cd /tmp/models/ControlNet\n",
    "\n",
    "#wget https://huggingface.co/lllyasviel/ControlNet/resolve/main/models/control_sd15_canny.pth\n",
    "#wget https://huggingface.co/lllyasviel/ControlNet/resolve/main/models/control_sd15_depth.pth\n",
    "#wget https://huggingface.co/lllyasviel/ControlNet/resolve/main/models/control_sd15_hed.pth\n",
    "#wget https://huggingface.co/lllyasviel/ControlNet/resolve/main/models/control_sd15_mlsd.pth\n",
    "#wget https://huggingface.co/lllyasviel/ControlNet/resolve/main/models/control_sd15_normal.pth\n",
    "wget https://huggingface.co/lllyasviel/ControlNet/resolve/main/models/control_sd15_openpose.pth\n",
    "#wget https://huggingface.co/lllyasviel/ControlNet/resolve/main/models/control_sd15_scribble.pth\n",
    "#wget https://huggingface.co/lllyasviel/ControlNet/resolve/main/models/control_sd15_seg.pth\n",
    "\n",
    "## Create Symbolic Links\n",
    "%cd /notebooks/stable-diffusion-webui/extensions/sd-webui-controlnet/models\n",
    "#ln -s /tmp/models/ControlNet/control_sd15_canny.pth control_sd15_canny.pth\n",
    "#ln -s /tmp/models/ControlNet/control_sd15_depth.pth control_sd15_depth.pth\n",
    "#ln -s /tmp/models/ControlNet/control_sd15_hed.pth control_sd15_hed.pth\n",
    "#ln -s /tmp/models/ControlNet/control_sd15_mlsd.pth control_sd15_mlsd.pth\n",
    "#ln -s /tmp/models/ControlNet/control_sd15_normal.pth control_sd15_normal.pth\n",
    "ln -s /tmp/models/ControlNet/control_sd15_openpose.pth control_sd15_openpose.pth\n",
    "#ln -s /tmp/models/ControlNet/control_sd15_scribble.pth control_sd15_scribble.pth\n",
    "#ln -s /tmp/models/ControlNet/control_sd15_seg.pth control_sd15_seg.pth"
   ]
  },
  {
   "cell_type": "markdown",
   "id": "43693c9e-8796-4ba4-bef6-5fad0b50569a",
   "metadata": {},
   "source": [
    "## Run SD WebUI A1111"
   ]
  },
  {
   "cell_type": "code",
   "execution_count": null,
   "id": "c6b73acc-67be-48aa-9cab-fac5afeff538",
   "metadata": {},
   "outputs": [],
   "source": [
    "## Run a1111\n",
    "%cd /notebooks/stable-diffusion-webui\n",
    "!bash webui.sh -f \\\n",
    "     --xformers \\\n",
    "     --share \\\n",
    "     --lora-dir /tmp/models/lora \\\n",
    "     --ckpt-dir /tmp/models/stable-diffusion \\\n",
    "     --enable-insecure-extension-access"
   ]
  }
 ],
 "metadata": {
  "kernelspec": {
   "display_name": "Python 3 (ipykernel)",
   "language": "python",
   "name": "python3"
  },
  "language_info": {
   "codemirror_mode": {
    "name": "ipython",
    "version": 3
   },
   "file_extension": ".py",
   "mimetype": "text/x-python",
   "name": "python",
   "nbconvert_exporter": "python",
   "pygments_lexer": "ipython3",
   "version": "3.10.10"
  }
 },
 "nbformat": 4,
 "nbformat_minor": 5
}
