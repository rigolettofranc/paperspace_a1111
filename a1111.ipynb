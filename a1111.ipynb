{
 "cells": [
  {
   "cell_type": "markdown",
   "id": "967a0d0b-c644-4bdc-a755-a63a8aad774f",
   "metadata": {},
   "source": [
    "## Download Stable Diffusion"
   ]
  },
  {
   "cell_type": "code",
   "execution_count": 1,
   "id": "78c19421-f0d1-4961-a32d-9eda6bd4f15f",
   "metadata": {
    "execution": {
     "iopub.execute_input": "2023-10-12T01:39:46.139006Z",
     "iopub.status.busy": "2023-10-12T01:39:46.138320Z",
     "iopub.status.idle": "2023-10-12T01:39:47.051425Z",
     "shell.execute_reply": "2023-10-12T01:39:47.049709Z",
     "shell.execute_reply.started": "2023-10-12T01:39:46.138980Z"
    }
   },
   "outputs": [
    {
     "name": "stdout",
     "output_type": "stream",
     "text": [
      "/notebooks/stable-diffusion-webui\n",
      "Already up to date.\n"
     ]
    }
   ],
   "source": [
    "### Install/update a1111\n",
    "import os\n",
    "if not os.path.isfile(\"/notebooks/stable-diffusion-webui/config.json\"):\n",
    "    %cd /notebooks\n",
    "    !git clone https://github.com/AUTOMATIC1111/stable-diffusion-webui.git\n",
    "    %cd /notebooks/stable-diffusion-webui\n",
    "    !wget -O config.json https://raw.githubusercontent.com/ResidentChief/simple_a1111_paperspace/main/config.json\n",
    "else:\n",
    "   %cd /notebooks/stable-diffusion-webui\n",
    "   !git pull\n",
    "    "
   ]
  },
  {
   "cell_type": "markdown",
   "id": "0cbec32f-8e88-4e02-a903-47fe8d4c333e",
   "metadata": {},
   "source": [
    "## Download Checkpoints (Pick what you need)"
   ]
  },
  {
   "cell_type": "code",
   "execution_count": 2,
   "id": "f98ea821-6df1-4457-9725-5bd71b279e78",
   "metadata": {
    "execution": {
     "iopub.execute_input": "2023-10-12T01:39:47.055069Z",
     "iopub.status.busy": "2023-10-12T01:39:47.054460Z",
     "iopub.status.idle": "2023-10-12T01:39:48.551891Z",
     "shell.execute_reply": "2023-10-12T01:39:48.551078Z",
     "shell.execute_reply.started": "2023-10-12T01:39:47.055031Z"
    }
   },
   "outputs": [
    {
     "name": "stdout",
     "output_type": "stream",
     "text": [
      "/tmp/models/stable-diffusion\n"
     ]
    }
   ],
   "source": [
    "### Create directory for models to go into\n",
    "%mkdir /tmp/models\n",
    "%mkdir /tmp/models/lora\n",
    "%mkdir /tmp/models/stable-diffusion\n",
    "%cd /tmp/models/stable-diffusion\n",
    "\n",
    "### Download models (remove the # from in front of the ones you want to download, or add new ones in the same format 'wget -O filename.extension URL')\n",
    "\n",
    "# Base Models\n",
    "#!wget https://huggingface.co/stabilityai/stable-diffusion-xl-base-1.0/resolve/main/sd_xl_base_1.0.safetensors\n",
    "#!wget https://huggingface.co/runwayml/stable-diffusion-v1-5/resolve/main/v1-5-pruned-emaonly.safetensors\n",
    "\n",
    "# Checkpoints\n",
    "#!wget -O AbyssOrangeMixV3.ckpt https://huggingface.co/residentchiefnz/HordeVAEMergeModelsTest/resolve/main/AOM3_inclVAE.ckpt\n",
    "#!wget -O Anything_v3.ckpt https://huggingface.co/residentchiefnz/HordeVAEMergeModelsTest/resolve/main/AnythingV3_inclvae.ckpt\n",
    "#!wget -O AbsoluteReality.safetensors https://huggingface.co/Lykon/AbsoluteReality/resolve/main/AbsoluteReality_1.8.1_pruned.safetensors\n",
    "#!wget -O RealisticVision.safetensors https://huggingface.co/SG161222/Realistic_Vision_V5.1_noVAE/resolve/main/Realistic_Vision_V5.1_fp16-no-ema.safetensors \n",
    "#!wget -O Reliberate.safetensors https://huggingface.co/XpucT/Reliberate/resolve/main/Reliberate.safetensors \n",
    "#!wget -O CyberRealistic.safetensors https://huggingface.co/cyberdelia/CyberRealistic/resolve/main/CyberRealistic_V3.2-FP16.safetensors \n",
    "#!wget -O BeenYouLite.safetensors https://huggingface.co/digiplay/BeenYouLiteL11_diffusers/resolve/main/beenyouLite_l11.safetensors \n",
    "#!wget -O EpicRealism.safetensors https://huggingface.co/Justin-Choo/epiCRealism-Natural_Sin_RC1_VAE/resolve/main/epicrealism_naturalSinRC1VAE.safetensors\n",
    "#!wget -O ICBINP.safetensors https://huggingface.co/HAttORi/ICBINP-Photorealistic/resolve/main/icbinpICantBelieveIts_v6.safetensors \n",
    "#!wget -O QGOPromptingReal.safetensors https://huggingface.co/ArchiveAPI/QGO-PromptingReal/resolve/main/qgoPromptingreal_qgoPromptingrealV1.safetensors\n",
    "#!wget -O AnalogMadness.safetensors https://huggingface.co/ArchiveAPI/AnalogMadness/resolve/main/analogMadness_v60.safetensors\n",
    "#!wget -O AnyLora_BakedVAE.safetensors https://huggingface.co/ArchiveAPI/AnyLora/resolve/main/anyloraCheckpoint_bakedvaeBlessedFp16.safetensors\n",
    "#!wget -O AnyLora_NoVAE.safetensors https://huggingface.co/ArchiveAPI/AnyLora/resolve/main/anyloraCheckpoint_novaeFp16.safetensors\n",
    "#!wget -O MagicMix.safetensors https://huggingface.co/ArchiveAPI/majicMIX-realistic/resolve/main/majicmixRealistic_v6.safetensors\n",
    "\n",
    "\n",
    "### Deprecated\n",
    "#!sudo apt install megatools\n",
    "#!megadl 'https://mega.co.nz/#!3Z8FWRgT!tAfSD82hWGub6LM--T2XPWEbFfQVHfIObMn8Pejzw-I' # AbsoluteReality\n",
    "#!megadl 'https://mega.co.nz/#!CNUXRBzD!xYSQIlQq3Ap_pVsJOlGYI4nOR-hJYORswzWa71Rw78w' # Realistic Vision\n",
    "#!megadl 'https://mega.co.nz/#!edNWHDBD!Vt27gOgqTf45XZbtvr4uFnpT24ACGgHSqNJchtiSfQY' # Reliberate\n",
    "#!megadl 'https://mega.co.nz/#!vZUC1CRT!qwol38GJpCwom07vSazZUt7ah6OCr9fvMbrzvlPp6as' # CyberRealistic\n",
    "#!megadl 'https://mega.co.nz/#!zQtkgZQY!aZV7yxgecLhC4nNals3JWjNex9uHsuWPJteeHf6wJ0c' # BeenYouLite\n",
    "#!megadl 'https://mega.co.nz/#!yYshzT4Y!eK8UxeLUvCdXKpYPkutt3WiMJw-hEgL9LZ-OImIN0K8' # EpicRealism\n",
    "#!megadl 'https://mega.co.nz/#!KN0xXY6B!aEbaIznWM9g1uQaSou0idcJz3D-1pjZnvvXzkHSoN8g' # ICBINP\n",
    "#!megadl 'https://mega.co.nz/#!bU1wXR7L!psvhMdoSbcfzZ-LPg4mxhGofBTZWXwXrmOxkoG62dXA' # MagicMix\n",
    "#!megadl 'https://mega.co.nz/#!eJUi3QKC!JwSNEDenkr5fRChkJNO62xisrpEuRD0sH_yQD1HoXjs' # QGO\n",
    "#!megadl 'https://mega.co.nz/#!t6FXlZyQ!CMvkWbK9B6EA3nTqiTm9p0c7x4hZ4jFvN39Z9TAKTnE' # AnalogMadness\n",
    "#!megadl 'https://mega.co.nz/#!lyNz0JKI!J7__5sK3i8aO1GX5ktJ1S9FxQOiExEPNmivHwYWDTNk' # AnyLora_BakedVAE\n",
    "#!megadl 'https://mega.co.nz/#!NutijCBQ!NEt3bCivDFRbyeBAmvKPGXGLNrzm8hrZheJU7WS1GmI' # AnyLora_NoVAE\n",
    "#!megadl 'https://mega.co.nz/#!prlGVCpY!wROMJSVMt061tOkrOT26Cf5gULbE9yvxRUonsAxYq2I' # MagicMix\n",
    "#!megadl 'https://mega.co.nz/#!omkDyKbB!vfQJc9dJS7uT_Vw6htDXF6NaTrr5wqmdy1dBee3q9Pk' # AIO\n"
   ]
  },
  {
   "cell_type": "markdown",
   "id": "711b7e84-1ddc-4e6e-b770-5b948b505edc",
   "metadata": {},
   "source": [
    "## Download VAE"
   ]
  },
  {
   "cell_type": "code",
   "execution_count": 3,
   "id": "ab708fe2-b3ee-4aa7-a0b8-4bb4a5e6ade5",
   "metadata": {
    "execution": {
     "iopub.execute_input": "2023-10-12T01:39:48.554966Z",
     "iopub.status.busy": "2023-10-12T01:39:48.553812Z",
     "iopub.status.idle": "2023-10-12T01:39:48.562314Z",
     "shell.execute_reply": "2023-10-12T01:39:48.561218Z",
     "shell.execute_reply.started": "2023-10-12T01:39:48.554923Z"
    }
   },
   "outputs": [],
   "source": [
    "import os\n",
    "if not os.path.isfile(\"/notebooks/stable-diffusion-webui/models/VAE/vae-ft-mse-840000-ema-pruned.safetensors\"):\n",
    "    %cd /notebooks/stable-diffusion-webui/models/VAE\n",
    "    !wget https://huggingface.co/stabilityai/sd-vae-ft-mse-original/resolve/main/vae-ft-mse-840000-ema-pruned.safetensors"
   ]
  },
  {
   "cell_type": "markdown",
   "id": "f11fd0fa-6518-4405-a127-87059fe60dc6",
   "metadata": {},
   "source": [
    "## Download ControlNet (Pick what you need)"
   ]
  },
  {
   "cell_type": "code",
   "execution_count": 4,
   "id": "f306de98-4c73-42c8-a600-c8b68f625f17",
   "metadata": {
    "execution": {
     "iopub.execute_input": "2023-10-12T01:39:48.564422Z",
     "iopub.status.busy": "2023-10-12T01:39:48.563759Z",
     "iopub.status.idle": "2023-10-12T01:41:56.786411Z",
     "shell.execute_reply": "2023-10-12T01:41:56.785314Z",
     "shell.execute_reply.started": "2023-10-12T01:39:48.564393Z"
    }
   },
   "outputs": [
    {
     "name": "stdout",
     "output_type": "stream",
     "text": [
      "/tmp/models/ControlNet\n",
      "--2023-10-12 01:39:49--  https://huggingface.co/lllyasviel/ControlNet-v1-1/resolve/main/control_v11f1e_sd15_tile.pth\n",
      "Resolving huggingface.co (huggingface.co)... 18.238.49.112, 18.238.49.117, 18.238.49.10, ...\n",
      "Connecting to huggingface.co (huggingface.co)|18.238.49.112|:443... connected.\n",
      "HTTP request sent, awaiting response... 302 Found\n",
      "Location: https://cdn-lfs.huggingface.co/repos/e7/4c/e74c9ddc88b5a293fa8aafeb615d6c61cb3aaa34dc7ce9e25100dfae2b09bf55/8aa69b8d391e72c2fced6a650268137dc0ed594cafe8a2c0f8b994799a21979b?response-content-disposition=attachment%3B+filename*%3DUTF-8%27%27control_v11f1e_sd15_tile.pth%3B+filename%3D%22control_v11f1e_sd15_tile.pth%22%3B&Expires=1697331509&Policy=eyJTdGF0ZW1lbnQiOlt7IkNvbmRpdGlvbiI6eyJEYXRlTGVzc1RoYW4iOnsiQVdTOkVwb2NoVGltZSI6MTY5NzMzMTUwOX19LCJSZXNvdXJjZSI6Imh0dHBzOi8vY2RuLWxmcy5odWdnaW5nZmFjZS5jby9yZXBvcy9lNy80Yy9lNzRjOWRkYzg4YjVhMjkzZmE4YWFmZWI2MTVkNmM2MWNiM2FhYTM0ZGM3Y2U5ZTI1MTAwZGZhZTJiMDliZjU1LzhhYTY5YjhkMzkxZTcyYzJmY2VkNmE2NTAyNjgxMzdkYzBlZDU5NGNhZmU4YTJjMGY4Yjk5NDc5OWEyMTk3OWI%7EcmVzcG9uc2UtY29udGVudC1kaXNwb3NpdGlvbj0qIn1dfQ__&Signature=G3-%7EmPvVcCx2Tw%7E-RcW6k%7E-nnPg1wZPVivDGJpk-JhnHw00RznDb4Jl0ycvCpHaj61-dRk4qnmEnXEmHgHCBESb5YvE4CB7qWIeBPXuu1M1s9EI9nYQXzZmbgt4ioxV-kYWlotsBreGSl3iBofLVOgwhixROuhi0N5cCZx70rf5ATuxf-rjMYjLSNn8lfZEEWm6MzJljd%7E4Y8oTz0ZO%7ET%7EYZfyvaq1A2ul%7ErQ1jQnpM-Cu0RfIh%7EN-qOvRgdHPrs09%7EL8y6cSlM0y%7E9NeI8Qf%7Edbgm6Pk-6hhObNRfb3g9Www4euPCnetPWW9xCL5iCqCW8jflGrc6aptLa0JL04TA__&Key-Pair-Id=KVTP0A1DKRTAX [following]\n",
      "--2023-10-12 01:39:49--  https://cdn-lfs.huggingface.co/repos/e7/4c/e74c9ddc88b5a293fa8aafeb615d6c61cb3aaa34dc7ce9e25100dfae2b09bf55/8aa69b8d391e72c2fced6a650268137dc0ed594cafe8a2c0f8b994799a21979b?response-content-disposition=attachment%3B+filename*%3DUTF-8%27%27control_v11f1e_sd15_tile.pth%3B+filename%3D%22control_v11f1e_sd15_tile.pth%22%3B&Expires=1697331509&Policy=eyJTdGF0ZW1lbnQiOlt7IkNvbmRpdGlvbiI6eyJEYXRlTGVzc1RoYW4iOnsiQVdTOkVwb2NoVGltZSI6MTY5NzMzMTUwOX19LCJSZXNvdXJjZSI6Imh0dHBzOi8vY2RuLWxmcy5odWdnaW5nZmFjZS5jby9yZXBvcy9lNy80Yy9lNzRjOWRkYzg4YjVhMjkzZmE4YWFmZWI2MTVkNmM2MWNiM2FhYTM0ZGM3Y2U5ZTI1MTAwZGZhZTJiMDliZjU1LzhhYTY5YjhkMzkxZTcyYzJmY2VkNmE2NTAyNjgxMzdkYzBlZDU5NGNhZmU4YTJjMGY4Yjk5NDc5OWEyMTk3OWI%7EcmVzcG9uc2UtY29udGVudC1kaXNwb3NpdGlvbj0qIn1dfQ__&Signature=G3-%7EmPvVcCx2Tw%7E-RcW6k%7E-nnPg1wZPVivDGJpk-JhnHw00RznDb4Jl0ycvCpHaj61-dRk4qnmEnXEmHgHCBESb5YvE4CB7qWIeBPXuu1M1s9EI9nYQXzZmbgt4ioxV-kYWlotsBreGSl3iBofLVOgwhixROuhi0N5cCZx70rf5ATuxf-rjMYjLSNn8lfZEEWm6MzJljd%7E4Y8oTz0ZO%7ET%7EYZfyvaq1A2ul%7ErQ1jQnpM-Cu0RfIh%7EN-qOvRgdHPrs09%7EL8y6cSlM0y%7E9NeI8Qf%7Edbgm6Pk-6hhObNRfb3g9Www4euPCnetPWW9xCL5iCqCW8jflGrc6aptLa0JL04TA__&Key-Pair-Id=KVTP0A1DKRTAX\n",
      "Resolving cdn-lfs.huggingface.co (cdn-lfs.huggingface.co)... 54.230.163.42, 54.230.163.20, 54.230.163.29, ...\n",
      "Connecting to cdn-lfs.huggingface.co (cdn-lfs.huggingface.co)|54.230.163.42|:443... connected.\n",
      "HTTP request sent, awaiting response... 200 OK\n",
      "Length: 1445235023 (1.3G) [binary/octet-stream]\n",
      "Saving to: ‘control_v11f1e_sd15_tile.pth’\n",
      "\n",
      "control_v11f1e_sd15 100%[===================>]   1.35G  60.8MB/s    in 23s     \n",
      "\n",
      "2023-10-12 01:40:12 (60.6 MB/s) - ‘control_v11f1e_sd15_tile.pth’ saved [1445235023/1445235023]\n",
      "\n",
      "--2023-10-12 01:40:12--  https://huggingface.co/lllyasviel/ControlNet-v1-1/resolve/main/control_v11f1p_sd15_depth.pth\n",
      "Resolving huggingface.co (huggingface.co)... 18.238.4.7, 18.238.4.30, 18.238.4.28, ...\n",
      "Connecting to huggingface.co (huggingface.co)|18.238.4.7|:443... connected.\n",
      "HTTP request sent, awaiting response... 302 Found\n",
      "Location: https://cdn-lfs.huggingface.co/repos/e7/4c/e74c9ddc88b5a293fa8aafeb615d6c61cb3aaa34dc7ce9e25100dfae2b09bf55/761077ffe369fe8cf16ae353f8226bd4ca29805b161052f82c0170c7b50f1d99?response-content-disposition=attachment%3B+filename*%3DUTF-8%27%27control_v11f1p_sd15_depth.pth%3B+filename%3D%22control_v11f1p_sd15_depth.pth%22%3B&Expires=1697328241&Policy=eyJTdGF0ZW1lbnQiOlt7IkNvbmRpdGlvbiI6eyJEYXRlTGVzc1RoYW4iOnsiQVdTOkVwb2NoVGltZSI6MTY5NzMyODI0MX19LCJSZXNvdXJjZSI6Imh0dHBzOi8vY2RuLWxmcy5odWdnaW5nZmFjZS5jby9yZXBvcy9lNy80Yy9lNzRjOWRkYzg4YjVhMjkzZmE4YWFmZWI2MTVkNmM2MWNiM2FhYTM0ZGM3Y2U5ZTI1MTAwZGZhZTJiMDliZjU1Lzc2MTA3N2ZmZTM2OWZlOGNmMTZhZTM1M2Y4MjI2YmQ0Y2EyOTgwNWIxNjEwNTJmODJjMDE3MGM3YjUwZjFkOTk%7EcmVzcG9uc2UtY29udGVudC1kaXNwb3NpdGlvbj0qIn1dfQ__&Signature=wLEtoMJIVJXlAkqt78u2LmjUgzQmE%7EDuv4xSToIOaypPqc1vNAc4l%7EfNO4Zl3aeimyTIl12xVisl1uVNe7F2uqxQuBdgFiemsHa0Qqo%7Ey0dNCkAHcLPe3m9Q8z2tHeWEMT7eZGI34yOD1ptOYn7SG9h8Iy%7EpxopJMi6IG1IwN-S-D6BfauMuwmk2GvBGOZe1J8TyRerrToGDoJ8qPjbBUHHTF6ey2dzYU1UuwNg6nzYLXW6jEMwhJGlCfaS9UtyPSxKIXiF-3W6g6JdYkPnPJTIxAPtzJeO4Gyc%7EoNiEC7eqNWAtIuHx6JvVJZxlydryY-xfaT2PvJxErl2eD3nV-Q__&Key-Pair-Id=KVTP0A1DKRTAX [following]\n",
      "--2023-10-12 01:40:12--  https://cdn-lfs.huggingface.co/repos/e7/4c/e74c9ddc88b5a293fa8aafeb615d6c61cb3aaa34dc7ce9e25100dfae2b09bf55/761077ffe369fe8cf16ae353f8226bd4ca29805b161052f82c0170c7b50f1d99?response-content-disposition=attachment%3B+filename*%3DUTF-8%27%27control_v11f1p_sd15_depth.pth%3B+filename%3D%22control_v11f1p_sd15_depth.pth%22%3B&Expires=1697328241&Policy=eyJTdGF0ZW1lbnQiOlt7IkNvbmRpdGlvbiI6eyJEYXRlTGVzc1RoYW4iOnsiQVdTOkVwb2NoVGltZSI6MTY5NzMyODI0MX19LCJSZXNvdXJjZSI6Imh0dHBzOi8vY2RuLWxmcy5odWdnaW5nZmFjZS5jby9yZXBvcy9lNy80Yy9lNzRjOWRkYzg4YjVhMjkzZmE4YWFmZWI2MTVkNmM2MWNiM2FhYTM0ZGM3Y2U5ZTI1MTAwZGZhZTJiMDliZjU1Lzc2MTA3N2ZmZTM2OWZlOGNmMTZhZTM1M2Y4MjI2YmQ0Y2EyOTgwNWIxNjEwNTJmODJjMDE3MGM3YjUwZjFkOTk%7EcmVzcG9uc2UtY29udGVudC1kaXNwb3NpdGlvbj0qIn1dfQ__&Signature=wLEtoMJIVJXlAkqt78u2LmjUgzQmE%7EDuv4xSToIOaypPqc1vNAc4l%7EfNO4Zl3aeimyTIl12xVisl1uVNe7F2uqxQuBdgFiemsHa0Qqo%7Ey0dNCkAHcLPe3m9Q8z2tHeWEMT7eZGI34yOD1ptOYn7SG9h8Iy%7EpxopJMi6IG1IwN-S-D6BfauMuwmk2GvBGOZe1J8TyRerrToGDoJ8qPjbBUHHTF6ey2dzYU1UuwNg6nzYLXW6jEMwhJGlCfaS9UtyPSxKIXiF-3W6g6JdYkPnPJTIxAPtzJeO4Gyc%7EoNiEC7eqNWAtIuHx6JvVJZxlydryY-xfaT2PvJxErl2eD3nV-Q__&Key-Pair-Id=KVTP0A1DKRTAX\n",
      "Resolving cdn-lfs.huggingface.co (cdn-lfs.huggingface.co)... 54.230.163.20, 54.230.163.42, 54.230.163.29, ...\n",
      "Connecting to cdn-lfs.huggingface.co (cdn-lfs.huggingface.co)|54.230.163.20|:443... connected.\n",
      "HTTP request sent, awaiting response... 200 OK\n",
      "Length: 1445235365 (1.3G) [binary/octet-stream]\n",
      "Saving to: ‘control_v11f1p_sd15_depth.pth’\n",
      "\n",
      "control_v11f1p_sd15 100%[===================>]   1.35G  59.1MB/s    in 23s     \n",
      "\n",
      "2023-10-12 01:40:35 (60.6 MB/s) - ‘control_v11f1p_sd15_depth.pth’ saved [1445235365/1445235365]\n",
      "\n",
      "--2023-10-12 01:40:36--  https://huggingface.co/lllyasviel/ControlNet-v1-1/resolve/main/control_v11p_sd15_canny.pth\n",
      "Resolving huggingface.co (huggingface.co)... 18.161.21.22, 18.161.21.44, 18.161.21.41, ...\n",
      "Connecting to huggingface.co (huggingface.co)|18.161.21.22|:443... connected.\n",
      "HTTP request sent, awaiting response... 302 Found\n",
      "Location: https://cdn-lfs.huggingface.co/repos/e7/4c/e74c9ddc88b5a293fa8aafeb615d6c61cb3aaa34dc7ce9e25100dfae2b09bf55/f99cfe4c70910e38e3fece9918a4979ed7d3dcf9b81cee293e1755363af5406a?response-content-disposition=attachment%3B+filename*%3DUTF-8%27%27control_v11p_sd15_canny.pth%3B+filename%3D%22control_v11p_sd15_canny.pth%22%3B&Expires=1697334035&Policy=eyJTdGF0ZW1lbnQiOlt7IkNvbmRpdGlvbiI6eyJEYXRlTGVzc1RoYW4iOnsiQVdTOkVwb2NoVGltZSI6MTY5NzMzNDAzNX19LCJSZXNvdXJjZSI6Imh0dHBzOi8vY2RuLWxmcy5odWdnaW5nZmFjZS5jby9yZXBvcy9lNy80Yy9lNzRjOWRkYzg4YjVhMjkzZmE4YWFmZWI2MTVkNmM2MWNiM2FhYTM0ZGM3Y2U5ZTI1MTAwZGZhZTJiMDliZjU1L2Y5OWNmZTRjNzA5MTBlMzhlM2ZlY2U5OTE4YTQ5NzllZDdkM2RjZjliODFjZWUyOTNlMTc1NTM2M2FmNTQwNmE%7EcmVzcG9uc2UtY29udGVudC1kaXNwb3NpdGlvbj0qIn1dfQ__&Signature=qvnMgPMhbpjUlIqRAVXUSI-BheFF7Hy4M0WHdT2GO1uOU14GWo91uENSL5czKEmiMPhk%7EETWDyoOug%7ERxQndx6xqOSdbkhO8nYGoXhG9onsG68VEJp4zgEKUK%7Erj5GuMvXYTc9C6MiEjX2IEmXtCj9i5yQYL-5beNLjqzb30uCjpb0eCAXPzwfuf9g3ClEpy0JzNAimfLy7CbcHGJzOfU9lgk%7EWzZSsRkvfjFhrXNtXw9sidydwmlrjWsHU%7E0MwLRZ7LeEK0DunxZjeqePjD-p8Z%7EO3%7EA5k7QAZI8IvcsbDqxyudWwwZJNJ6jsQKLHAkKpicSMX8LFb%7EHuddVFGk4Q__&Key-Pair-Id=KVTP0A1DKRTAX [following]\n",
      "--2023-10-12 01:40:36--  https://cdn-lfs.huggingface.co/repos/e7/4c/e74c9ddc88b5a293fa8aafeb615d6c61cb3aaa34dc7ce9e25100dfae2b09bf55/f99cfe4c70910e38e3fece9918a4979ed7d3dcf9b81cee293e1755363af5406a?response-content-disposition=attachment%3B+filename*%3DUTF-8%27%27control_v11p_sd15_canny.pth%3B+filename%3D%22control_v11p_sd15_canny.pth%22%3B&Expires=1697334035&Policy=eyJTdGF0ZW1lbnQiOlt7IkNvbmRpdGlvbiI6eyJEYXRlTGVzc1RoYW4iOnsiQVdTOkVwb2NoVGltZSI6MTY5NzMzNDAzNX19LCJSZXNvdXJjZSI6Imh0dHBzOi8vY2RuLWxmcy5odWdnaW5nZmFjZS5jby9yZXBvcy9lNy80Yy9lNzRjOWRkYzg4YjVhMjkzZmE4YWFmZWI2MTVkNmM2MWNiM2FhYTM0ZGM3Y2U5ZTI1MTAwZGZhZTJiMDliZjU1L2Y5OWNmZTRjNzA5MTBlMzhlM2ZlY2U5OTE4YTQ5NzllZDdkM2RjZjliODFjZWUyOTNlMTc1NTM2M2FmNTQwNmE%7EcmVzcG9uc2UtY29udGVudC1kaXNwb3NpdGlvbj0qIn1dfQ__&Signature=qvnMgPMhbpjUlIqRAVXUSI-BheFF7Hy4M0WHdT2GO1uOU14GWo91uENSL5czKEmiMPhk%7EETWDyoOug%7ERxQndx6xqOSdbkhO8nYGoXhG9onsG68VEJp4zgEKUK%7Erj5GuMvXYTc9C6MiEjX2IEmXtCj9i5yQYL-5beNLjqzb30uCjpb0eCAXPzwfuf9g3ClEpy0JzNAimfLy7CbcHGJzOfU9lgk%7EWzZSsRkvfjFhrXNtXw9sidydwmlrjWsHU%7E0MwLRZ7LeEK0DunxZjeqePjD-p8Z%7EO3%7EA5k7QAZI8IvcsbDqxyudWwwZJNJ6jsQKLHAkKpicSMX8LFb%7EHuddVFGk4Q__&Key-Pair-Id=KVTP0A1DKRTAX\n",
      "Resolving cdn-lfs.huggingface.co (cdn-lfs.huggingface.co)... 18.154.185.26, 18.154.185.94, 18.154.185.64, ...\n",
      "Connecting to cdn-lfs.huggingface.co (cdn-lfs.huggingface.co)|18.154.185.26|:443... connected.\n",
      "HTTP request sent, awaiting response... 200 OK\n",
      "Length: 1445234681 (1.3G) [binary/octet-stream]\n",
      "Saving to: ‘control_v11p_sd15_canny.pth’\n",
      "\n",
      "control_v11p_sd15_c 100%[===================>]   1.35G   145MB/s    in 9.8s    \n",
      "\n",
      "2023-10-12 01:40:46 (141 MB/s) - ‘control_v11p_sd15_canny.pth’ saved [1445234681/1445234681]\n",
      "\n",
      "--2023-10-12 01:40:46--  https://huggingface.co/lllyasviel/ControlNet-v1-1/resolve/main/control_v11p_sd15_mlsd.pth\n",
      "Resolving huggingface.co (huggingface.co)... 18.238.4.28, 18.238.4.7, 18.238.4.63, ...\n",
      "Connecting to huggingface.co (huggingface.co)|18.238.4.28|:443... connected.\n",
      "HTTP request sent, awaiting response... 302 Found\n",
      "Location: https://cdn-lfs.huggingface.co/repos/e7/4c/e74c9ddc88b5a293fa8aafeb615d6c61cb3aaa34dc7ce9e25100dfae2b09bf55/22dab177f4c4566ac1c8f68dc2c429b023114e15a644e8c7c0e8f956afe92acf?response-content-disposition=attachment%3B+filename*%3DUTF-8%27%27control_v11p_sd15_mlsd.pth%3B+filename%3D%22control_v11p_sd15_mlsd.pth%22%3B&Expires=1697329751&Policy=eyJTdGF0ZW1lbnQiOlt7IkNvbmRpdGlvbiI6eyJEYXRlTGVzc1RoYW4iOnsiQVdTOkVwb2NoVGltZSI6MTY5NzMyOTc1MX19LCJSZXNvdXJjZSI6Imh0dHBzOi8vY2RuLWxmcy5odWdnaW5nZmFjZS5jby9yZXBvcy9lNy80Yy9lNzRjOWRkYzg4YjVhMjkzZmE4YWFmZWI2MTVkNmM2MWNiM2FhYTM0ZGM3Y2U5ZTI1MTAwZGZhZTJiMDliZjU1LzIyZGFiMTc3ZjRjNDU2NmFjMWM4ZjY4ZGMyYzQyOWIwMjMxMTRlMTVhNjQ0ZThjN2MwZThmOTU2YWZlOTJhY2Y%7EcmVzcG9uc2UtY29udGVudC1kaXNwb3NpdGlvbj0qIn1dfQ__&Signature=lz1OUr%7EJxjbHP-KcooeWxXyn2XfjNOB3RPBrF-cAxgv9hd50ixrfJgxHlr12Ezve47oRcDRyLIoiaxmfwpByR84NHGAd3JCjZBCKQN-eUCj3fNAd0OqGWtIR6mBBQ8IWsFl9v8mywFi9pA3nJvtI7phFo%7EdzhSA8xaB0Ncx0DMhZ3Xu1T89PhyrSWrf0uZJ1yY5WJybcAaFVh%7EgH2d3eQcyHTI0%7EYj8yOGgx3MUpSjwYIj1M6epIf09kkrAN6qWEN09UixacOZj%7EjTKPenEUY2uqFlHAfPXakSbsRggRfDssMKoNnRGW1jPDE%7EFAiNejQgLCcvPfMzOI%7EsOVn5A4Bw__&Key-Pair-Id=KVTP0A1DKRTAX [following]\n",
      "--2023-10-12 01:40:46--  https://cdn-lfs.huggingface.co/repos/e7/4c/e74c9ddc88b5a293fa8aafeb615d6c61cb3aaa34dc7ce9e25100dfae2b09bf55/22dab177f4c4566ac1c8f68dc2c429b023114e15a644e8c7c0e8f956afe92acf?response-content-disposition=attachment%3B+filename*%3DUTF-8%27%27control_v11p_sd15_mlsd.pth%3B+filename%3D%22control_v11p_sd15_mlsd.pth%22%3B&Expires=1697329751&Policy=eyJTdGF0ZW1lbnQiOlt7IkNvbmRpdGlvbiI6eyJEYXRlTGVzc1RoYW4iOnsiQVdTOkVwb2NoVGltZSI6MTY5NzMyOTc1MX19LCJSZXNvdXJjZSI6Imh0dHBzOi8vY2RuLWxmcy5odWdnaW5nZmFjZS5jby9yZXBvcy9lNy80Yy9lNzRjOWRkYzg4YjVhMjkzZmE4YWFmZWI2MTVkNmM2MWNiM2FhYTM0ZGM3Y2U5ZTI1MTAwZGZhZTJiMDliZjU1LzIyZGFiMTc3ZjRjNDU2NmFjMWM4ZjY4ZGMyYzQyOWIwMjMxMTRlMTVhNjQ0ZThjN2MwZThmOTU2YWZlOTJhY2Y%7EcmVzcG9uc2UtY29udGVudC1kaXNwb3NpdGlvbj0qIn1dfQ__&Signature=lz1OUr%7EJxjbHP-KcooeWxXyn2XfjNOB3RPBrF-cAxgv9hd50ixrfJgxHlr12Ezve47oRcDRyLIoiaxmfwpByR84NHGAd3JCjZBCKQN-eUCj3fNAd0OqGWtIR6mBBQ8IWsFl9v8mywFi9pA3nJvtI7phFo%7EdzhSA8xaB0Ncx0DMhZ3Xu1T89PhyrSWrf0uZJ1yY5WJybcAaFVh%7EgH2d3eQcyHTI0%7EYj8yOGgx3MUpSjwYIj1M6epIf09kkrAN6qWEN09UixacOZj%7EjTKPenEUY2uqFlHAfPXakSbsRggRfDssMKoNnRGW1jPDE%7EFAiNejQgLCcvPfMzOI%7EsOVn5A4Bw__&Key-Pair-Id=KVTP0A1DKRTAX\n",
      "Resolving cdn-lfs.huggingface.co (cdn-lfs.huggingface.co)... 54.230.163.55, 54.230.163.20, 54.230.163.29, ...\n",
      "Connecting to cdn-lfs.huggingface.co (cdn-lfs.huggingface.co)|54.230.163.55|:443... connected.\n",
      "HTTP request sent, awaiting response... 200 OK\n",
      "Length: 1445234339 (1.3G) [binary/octet-stream]\n",
      "Saving to: ‘control_v11p_sd15_mlsd.pth’\n",
      "\n",
      "control_v11p_sd15_m 100%[===================>]   1.35G  58.7MB/s    in 23s     \n",
      "\n",
      "2023-10-12 01:41:09 (60.3 MB/s) - ‘control_v11p_sd15_mlsd.pth’ saved [1445234339/1445234339]\n",
      "\n",
      "--2023-10-12 01:41:10--  https://huggingface.co/lllyasviel/ControlNet-v1-1/resolve/main/control_v11p_sd15_normalbae.pth\n",
      "Resolving huggingface.co (huggingface.co)... 18.238.49.112, 18.238.49.70, 18.238.49.10, ...\n",
      "Connecting to huggingface.co (huggingface.co)|18.238.49.112|:443... connected.\n",
      "HTTP request sent, awaiting response... 302 Found\n",
      "Location: https://cdn-lfs.huggingface.co/repos/e7/4c/e74c9ddc88b5a293fa8aafeb615d6c61cb3aaa34dc7ce9e25100dfae2b09bf55/9608158c204261259f4b5a7815ced8f5c15e5de4e30a9403d07f68f29f81e941?response-content-disposition=attachment%3B+filename*%3DUTF-8%27%27control_v11p_sd15_normalbae.pth%3B+filename%3D%22control_v11p_sd15_normalbae.pth%22%3B&Expires=1697332949&Policy=eyJTdGF0ZW1lbnQiOlt7IkNvbmRpdGlvbiI6eyJEYXRlTGVzc1RoYW4iOnsiQVdTOkVwb2NoVGltZSI6MTY5NzMzMjk0OX19LCJSZXNvdXJjZSI6Imh0dHBzOi8vY2RuLWxmcy5odWdnaW5nZmFjZS5jby9yZXBvcy9lNy80Yy9lNzRjOWRkYzg4YjVhMjkzZmE4YWFmZWI2MTVkNmM2MWNiM2FhYTM0ZGM3Y2U5ZTI1MTAwZGZhZTJiMDliZjU1Lzk2MDgxNThjMjA0MjYxMjU5ZjRiNWE3ODE1Y2VkOGY1YzE1ZTVkZTRlMzBhOTQwM2QwN2Y2OGYyOWY4MWU5NDE%7EcmVzcG9uc2UtY29udGVudC1kaXNwb3NpdGlvbj0qIn1dfQ__&Signature=x65ZJyQQ-2iMRgLCm26EO-elta61n55V%7ECcIf8yV3ZqFbJjgZmAZd2%7EgOO7Z5tdAlZPlIyEX%7EkGscDzz0r%7EioHfVfmQ48nbK3AEW0z-6bciL50TdBp-hEjbNsr88IXn3TzITprwknuktrD2GCPCnEDuH8%7EWlwyddXKAKuKiIcppb7hvqvyb7hN9W9qIBnM9Xg6iADP7%7E4DFVWL5jG1mAtJVckwM4WmZcnCPC68cnc0CLMicl3FFL7jW7w5k5b1%7EilCGL1kazqvPLLCnOoW-xiU3sqS0BRlQZN67mRuyoVdhszCE1CnGadA6ZXvME7H%7EbgnZVVWWi7hmVr0hTSv0QPQ__&Key-Pair-Id=KVTP0A1DKRTAX [following]\n",
      "--2023-10-12 01:41:10--  https://cdn-lfs.huggingface.co/repos/e7/4c/e74c9ddc88b5a293fa8aafeb615d6c61cb3aaa34dc7ce9e25100dfae2b09bf55/9608158c204261259f4b5a7815ced8f5c15e5de4e30a9403d07f68f29f81e941?response-content-disposition=attachment%3B+filename*%3DUTF-8%27%27control_v11p_sd15_normalbae.pth%3B+filename%3D%22control_v11p_sd15_normalbae.pth%22%3B&Expires=1697332949&Policy=eyJTdGF0ZW1lbnQiOlt7IkNvbmRpdGlvbiI6eyJEYXRlTGVzc1RoYW4iOnsiQVdTOkVwb2NoVGltZSI6MTY5NzMzMjk0OX19LCJSZXNvdXJjZSI6Imh0dHBzOi8vY2RuLWxmcy5odWdnaW5nZmFjZS5jby9yZXBvcy9lNy80Yy9lNzRjOWRkYzg4YjVhMjkzZmE4YWFmZWI2MTVkNmM2MWNiM2FhYTM0ZGM3Y2U5ZTI1MTAwZGZhZTJiMDliZjU1Lzk2MDgxNThjMjA0MjYxMjU5ZjRiNWE3ODE1Y2VkOGY1YzE1ZTVkZTRlMzBhOTQwM2QwN2Y2OGYyOWY4MWU5NDE%7EcmVzcG9uc2UtY29udGVudC1kaXNwb3NpdGlvbj0qIn1dfQ__&Signature=x65ZJyQQ-2iMRgLCm26EO-elta61n55V%7ECcIf8yV3ZqFbJjgZmAZd2%7EgOO7Z5tdAlZPlIyEX%7EkGscDzz0r%7EioHfVfmQ48nbK3AEW0z-6bciL50TdBp-hEjbNsr88IXn3TzITprwknuktrD2GCPCnEDuH8%7EWlwyddXKAKuKiIcppb7hvqvyb7hN9W9qIBnM9Xg6iADP7%7E4DFVWL5jG1mAtJVckwM4WmZcnCPC68cnc0CLMicl3FFL7jW7w5k5b1%7EilCGL1kazqvPLLCnOoW-xiU3sqS0BRlQZN67mRuyoVdhszCE1CnGadA6ZXvME7H%7EbgnZVVWWi7hmVr0hTSv0QPQ__&Key-Pair-Id=KVTP0A1DKRTAX\n",
      "Resolving cdn-lfs.huggingface.co (cdn-lfs.huggingface.co)... 108.138.64.121, 108.138.64.49, 108.138.64.111, ...\n",
      "Connecting to cdn-lfs.huggingface.co (cdn-lfs.huggingface.co)|108.138.64.121|:443... connected.\n",
      "HTTP request sent, awaiting response... 200 OK\n",
      "Length: 1445236049 (1.3G) [binary/octet-stream]\n",
      "Saving to: ‘control_v11p_sd15_normalbae.pth’\n",
      "\n",
      "control_v11p_sd15_n 100%[===================>]   1.35G   170MB/s    in 7.8s    \n",
      "\n",
      "2023-10-12 01:41:17 (178 MB/s) - ‘control_v11p_sd15_normalbae.pth’ saved [1445236049/1445236049]\n",
      "\n",
      "--2023-10-12 01:41:18--  https://huggingface.co/lllyasviel/ControlNet-v1-1/resolve/main/control_v11p_sd15_openpose.pth\n",
      "Resolving huggingface.co (huggingface.co)... 18.238.49.10, 18.238.49.70, 18.238.49.117, ...\n",
      "Connecting to huggingface.co (huggingface.co)|18.238.49.10|:443... connected.\n",
      "HTTP request sent, awaiting response... 302 Found\n",
      "Location: https://cdn-lfs.huggingface.co/repos/e7/4c/e74c9ddc88b5a293fa8aafeb615d6c61cb3aaa34dc7ce9e25100dfae2b09bf55/db97becd92cd19aff71352a60e93c2508decba3dee64f01f686727b9b406a9dd?response-content-disposition=attachment%3B+filename*%3DUTF-8%27%27control_v11p_sd15_openpose.pth%3B+filename%3D%22control_v11p_sd15_openpose.pth%22%3B&Expires=1697328923&Policy=eyJTdGF0ZW1lbnQiOlt7IkNvbmRpdGlvbiI6eyJEYXRlTGVzc1RoYW4iOnsiQVdTOkVwb2NoVGltZSI6MTY5NzMyODkyM319LCJSZXNvdXJjZSI6Imh0dHBzOi8vY2RuLWxmcy5odWdnaW5nZmFjZS5jby9yZXBvcy9lNy80Yy9lNzRjOWRkYzg4YjVhMjkzZmE4YWFmZWI2MTVkNmM2MWNiM2FhYTM0ZGM3Y2U5ZTI1MTAwZGZhZTJiMDliZjU1L2RiOTdiZWNkOTJjZDE5YWZmNzEzNTJhNjBlOTNjMjUwOGRlY2JhM2RlZTY0ZjAxZjY4NjcyN2I5YjQwNmE5ZGQ%7EcmVzcG9uc2UtY29udGVudC1kaXNwb3NpdGlvbj0qIn1dfQ__&Signature=gNTzQFGZn3p08uBURqchfRslcFTwdrHaqPous%7ErsZIdDtNSr4uxpwYp9RCBfTpq05k7o2eeg45-nczjXUR4kV5bgiJwM%7EbRClBV0igNtPwimOQqnrfaCOV5cRyGrJjnI-ePTmkcXsunyEfG0v4Yavpb5Ptsr-PCrTJDMMXCbDfv1u7zHl3hT0vLrWcJVjDP-xZyfqCFU39-Nxt473vxoh3DYgHHDCF3K4zpOIz-rpgAMIvAwYKorxUXX9uh5zBgjxh%7Ey9ERg%7E7IpxFFu8gFV-bXkd7nAAWzEMmPDmvrjk0EY6CaxtBwJJqxpgJOcowcy8ne22cVlacCnxBLtFzO%7Eag__&Key-Pair-Id=KVTP0A1DKRTAX [following]\n",
      "--2023-10-12 01:41:18--  https://cdn-lfs.huggingface.co/repos/e7/4c/e74c9ddc88b5a293fa8aafeb615d6c61cb3aaa34dc7ce9e25100dfae2b09bf55/db97becd92cd19aff71352a60e93c2508decba3dee64f01f686727b9b406a9dd?response-content-disposition=attachment%3B+filename*%3DUTF-8%27%27control_v11p_sd15_openpose.pth%3B+filename%3D%22control_v11p_sd15_openpose.pth%22%3B&Expires=1697328923&Policy=eyJTdGF0ZW1lbnQiOlt7IkNvbmRpdGlvbiI6eyJEYXRlTGVzc1RoYW4iOnsiQVdTOkVwb2NoVGltZSI6MTY5NzMyODkyM319LCJSZXNvdXJjZSI6Imh0dHBzOi8vY2RuLWxmcy5odWdnaW5nZmFjZS5jby9yZXBvcy9lNy80Yy9lNzRjOWRkYzg4YjVhMjkzZmE4YWFmZWI2MTVkNmM2MWNiM2FhYTM0ZGM3Y2U5ZTI1MTAwZGZhZTJiMDliZjU1L2RiOTdiZWNkOTJjZDE5YWZmNzEzNTJhNjBlOTNjMjUwOGRlY2JhM2RlZTY0ZjAxZjY4NjcyN2I5YjQwNmE5ZGQ%7EcmVzcG9uc2UtY29udGVudC1kaXNwb3NpdGlvbj0qIn1dfQ__&Signature=gNTzQFGZn3p08uBURqchfRslcFTwdrHaqPous%7ErsZIdDtNSr4uxpwYp9RCBfTpq05k7o2eeg45-nczjXUR4kV5bgiJwM%7EbRClBV0igNtPwimOQqnrfaCOV5cRyGrJjnI-ePTmkcXsunyEfG0v4Yavpb5Ptsr-PCrTJDMMXCbDfv1u7zHl3hT0vLrWcJVjDP-xZyfqCFU39-Nxt473vxoh3DYgHHDCF3K4zpOIz-rpgAMIvAwYKorxUXX9uh5zBgjxh%7Ey9ERg%7E7IpxFFu8gFV-bXkd7nAAWzEMmPDmvrjk0EY6CaxtBwJJqxpgJOcowcy8ne22cVlacCnxBLtFzO%7Eag__&Key-Pair-Id=KVTP0A1DKRTAX\n",
      "Resolving cdn-lfs.huggingface.co (cdn-lfs.huggingface.co)... 108.138.64.111, 108.138.64.49, 108.138.64.121, ...\n",
      "Connecting to cdn-lfs.huggingface.co (cdn-lfs.huggingface.co)|108.138.64.111|:443... connected.\n",
      "HTTP request sent, awaiting response... 200 OK\n",
      "Length: 1445235707 (1.3G) [binary/octet-stream]\n",
      "Saving to: ‘control_v11p_sd15_openpose.pth’\n",
      "\n",
      "control_v11p_sd15_o 100%[===================>]   1.35G   129MB/s    in 10s     \n",
      "\n",
      "2023-10-12 01:41:28 (133 MB/s) - ‘control_v11p_sd15_openpose.pth’ saved [1445235707/1445235707]\n",
      "\n",
      "--2023-10-12 01:41:29--  https://huggingface.co/lllyasviel/ControlNet-v1-1/resolve/main/control_v11p_sd15_seg.pth\n",
      "Resolving huggingface.co (huggingface.co)... 18.238.4.28, 18.238.4.30, 18.238.4.7, ...\n",
      "Connecting to huggingface.co (huggingface.co)|18.238.4.28|:443... connected.\n",
      "HTTP request sent, awaiting response... 302 Found\n",
      "Location: https://cdn-lfs.huggingface.co/repos/e7/4c/e74c9ddc88b5a293fa8aafeb615d6c61cb3aaa34dc7ce9e25100dfae2b09bf55/bad6d753886c0edc978e79dfb06083737ab1bd9702e5b7c0f81b1e16a5ed12cc?response-content-disposition=attachment%3B+filename*%3DUTF-8%27%27control_v11p_sd15_seg.pth%3B+filename%3D%22control_v11p_sd15_seg.pth%22%3B&Expires=1697328937&Policy=eyJTdGF0ZW1lbnQiOlt7IkNvbmRpdGlvbiI6eyJEYXRlTGVzc1RoYW4iOnsiQVdTOkVwb2NoVGltZSI6MTY5NzMyODkzN319LCJSZXNvdXJjZSI6Imh0dHBzOi8vY2RuLWxmcy5odWdnaW5nZmFjZS5jby9yZXBvcy9lNy80Yy9lNzRjOWRkYzg4YjVhMjkzZmE4YWFmZWI2MTVkNmM2MWNiM2FhYTM0ZGM3Y2U5ZTI1MTAwZGZhZTJiMDliZjU1L2JhZDZkNzUzODg2YzBlZGM5NzhlNzlkZmIwNjA4MzczN2FiMWJkOTcwMmU1YjdjMGY4MWIxZTE2YTVlZDEyY2M%7EcmVzcG9uc2UtY29udGVudC1kaXNwb3NpdGlvbj0qIn1dfQ__&Signature=VGQqRDu%7EWUkZZr3ERqT7LeHmVD2LmHTocFzGsELzpHFzgeE2DIYtiGiPnr1tF-GTploCM65J5N0JGkvoDw1HyU30W-KcqV3%7EMEY1v43SO0GqYP7Z6%7E0NJ082WZj%7EJY%7E1Qf0WWYIzfDyIWeVN79Cb5MZVtWyCaUwm1RhLCt2TT2ZXMNuMbDWygbK-DLkXxPVYzoY%7EBsdpNK1ODJZLPEfF79%7EzaPIYSVZFoZT2X3jpCzXCsqYgy1ppDu3eMFpb1%7Ecrv0V3XCJDWIHHbrWszGrchZjBqhHW-CZLmKWnU9F-4T1cxlzeB%7EL-MxJi%7Enxj6IwDoA12XucKZPMghhZgDcNz%7Ew__&Key-Pair-Id=KVTP0A1DKRTAX [following]\n",
      "--2023-10-12 01:41:29--  https://cdn-lfs.huggingface.co/repos/e7/4c/e74c9ddc88b5a293fa8aafeb615d6c61cb3aaa34dc7ce9e25100dfae2b09bf55/bad6d753886c0edc978e79dfb06083737ab1bd9702e5b7c0f81b1e16a5ed12cc?response-content-disposition=attachment%3B+filename*%3DUTF-8%27%27control_v11p_sd15_seg.pth%3B+filename%3D%22control_v11p_sd15_seg.pth%22%3B&Expires=1697328937&Policy=eyJTdGF0ZW1lbnQiOlt7IkNvbmRpdGlvbiI6eyJEYXRlTGVzc1RoYW4iOnsiQVdTOkVwb2NoVGltZSI6MTY5NzMyODkzN319LCJSZXNvdXJjZSI6Imh0dHBzOi8vY2RuLWxmcy5odWdnaW5nZmFjZS5jby9yZXBvcy9lNy80Yy9lNzRjOWRkYzg4YjVhMjkzZmE4YWFmZWI2MTVkNmM2MWNiM2FhYTM0ZGM3Y2U5ZTI1MTAwZGZhZTJiMDliZjU1L2JhZDZkNzUzODg2YzBlZGM5NzhlNzlkZmIwNjA4MzczN2FiMWJkOTcwMmU1YjdjMGY4MWIxZTE2YTVlZDEyY2M%7EcmVzcG9uc2UtY29udGVudC1kaXNwb3NpdGlvbj0qIn1dfQ__&Signature=VGQqRDu%7EWUkZZr3ERqT7LeHmVD2LmHTocFzGsELzpHFzgeE2DIYtiGiPnr1tF-GTploCM65J5N0JGkvoDw1HyU30W-KcqV3%7EMEY1v43SO0GqYP7Z6%7E0NJ082WZj%7EJY%7E1Qf0WWYIzfDyIWeVN79Cb5MZVtWyCaUwm1RhLCt2TT2ZXMNuMbDWygbK-DLkXxPVYzoY%7EBsdpNK1ODJZLPEfF79%7EzaPIYSVZFoZT2X3jpCzXCsqYgy1ppDu3eMFpb1%7Ecrv0V3XCJDWIHHbrWszGrchZjBqhHW-CZLmKWnU9F-4T1cxlzeB%7EL-MxJi%7Enxj6IwDoA12XucKZPMghhZgDcNz%7Ew__&Key-Pair-Id=KVTP0A1DKRTAX\n",
      "Resolving cdn-lfs.huggingface.co (cdn-lfs.huggingface.co)... 54.230.163.42, 54.230.163.29, 54.230.163.20, ...\n",
      "Connecting to cdn-lfs.huggingface.co (cdn-lfs.huggingface.co)|54.230.163.42|:443... connected.\n",
      "HTTP request sent, awaiting response... 200 OK\n",
      "Length: 1445233933 (1.3G) [binary/octet-stream]\n",
      "Saving to: ‘control_v11p_sd15_seg.pth’\n",
      "\n",
      "control_v11p_sd15_s 100%[===================>]   1.35G  58.8MB/s    in 23s     \n",
      "\n",
      "2023-10-12 01:41:52 (59.7 MB/s) - ‘control_v11p_sd15_seg.pth’ saved [1445233933/1445233933]\n",
      "\n",
      "/notebooks/stable-diffusion-webui/extensions/sd-webui-controlnet\n",
      "/notebooks/stable-diffusion-webui/extensions/sd-webui-controlnet/models\n"
     ]
    }
   ],
   "source": [
    "## Download\n",
    "%mkdir /tmp/models/ControlNet\n",
    "%cd /tmp/models/ControlNet\n",
    "\n",
    "### ControlNet from Lllyasviel\n",
    "#!wget https://huggingface.co/lllyasviel/ControlNet-v1-1/resolve/main/control_v11e_sd15_ip2p.pth\n",
    "#!wget https://huggingface.co/lllyasviel/ControlNet-v1-1/resolve/main/control_v11e_sd15_shuffle.pth\n",
    "!wget https://huggingface.co/lllyasviel/ControlNet-v1-1/resolve/main/control_v11f1e_sd15_tile.pth\n",
    "!wget https://huggingface.co/lllyasviel/ControlNet-v1-1/resolve/main/control_v11f1p_sd15_depth.pth\n",
    "!wget https://huggingface.co/lllyasviel/ControlNet-v1-1/resolve/main/control_v11p_sd15_canny.pth\n",
    "#!wget https://huggingface.co/lllyasviel/ControlNet-v1-1/resolve/main/control_v11p_sd15_inpaint.pth\n",
    "#!wget https://huggingface.co/lllyasviel/ControlNet-v1-1/resolve/main/control_v11p_sd15_lineart.pth\n",
    "!wget https://huggingface.co/lllyasviel/ControlNet-v1-1/resolve/main/control_v11p_sd15_mlsd.pth\n",
    "!wget https://huggingface.co/lllyasviel/ControlNet-v1-1/resolve/main/control_v11p_sd15_normalbae.pth\n",
    "!wget https://huggingface.co/lllyasviel/ControlNet-v1-1/resolve/main/control_v11p_sd15_openpose.pth\n",
    "#!wget https://huggingface.co/lllyasviel/ControlNet-v1-1/resolve/main/control_v11p_sd15_scribble.pth\n",
    "!wget https://huggingface.co/lllyasviel/ControlNet-v1-1/resolve/main/control_v11p_sd15_seg.pth\n",
    "#!wget https://huggingface.co/lllyasviel/ControlNet-v1-1/resolve/main/control_v11p_sd15_softedge.pth\n",
    "#!wget https://huggingface.co/lllyasviel/ControlNet-v1-1/resolve/main/control_v11p_sd15s2_lineart_anime.pth\n",
    "\n",
    "\n",
    "## Create Symbolic Links\n",
    "%cd /notebooks/stable-diffusion-webui/extensions/sd-webui-controlnet\n",
    "%rm -rf models && mkdir models # clear old broken sym links\n",
    "%cd models\n",
    "#!ln -s /tmp/models/ControlNet/control_v11e_sd15_ip2p.pth control_v11e_sd15_ip2p.pth\n",
    "#!ln -s /tmp/models/ControlNet/control_v11e_sd15_shuffle.pth control_v11e_sd15_shuffle.pth\n",
    "!ln -s /tmp/models/ControlNet/control_v11f1e_sd15_tile.pth control_v11f1e_sd15_tile.pth\n",
    "!ln -s /tmp/models/ControlNet/control_v11f1p_sd15_depth.pth control_v11f1p_sd15_depth.pth\n",
    "!ln -s /tmp/models/ControlNet/control_v11p_sd15_canny.pth control_v11p_sd15_canny.pth\n",
    "#!ln -s /tmp/models/ControlNet/control_v11p_sd15_inpaint.pth control_v11p_sd15_inpaint.pth\n",
    "#!ln -s /tmp/models/ControlNet/control_v11p_sd15_lineart.pth control_v11p_sd15_lineart.pth\n",
    "!ln -s /tmp/models/ControlNet/control_v11p_sd15_mlsd.pth control_v11p_sd15_mlsd.pth\n",
    "!ln -s /tmp/models/ControlNet/control_v11p_sd15_normalbae.pth control_v11p_sd15_normalbae.pth\n",
    "!ln -s /tmp/models/ControlNet/control_v11p_sd15_openpose.pth control_v11p_sd15_openpose.pth\n",
    "#!ln -s /tmp/models/ControlNet/control_v11p_sd15_scribble.pth control_v11p_sd15_scribble.pth\n",
    "!ln -s /tmp/models/ControlNet/control_v11p_sd15_seg.pth control_v11p_sd15_seg.pth\n",
    "#!ln -s /tmp/models/ControlNet/control_v11p_sd15_softedge.pth control_v11p_sd15_softedge.pth\n",
    "#!ln -s /tmp/models/ControlNet/control_v11p_sd15s2_lineart_anime.pth control_v11p_sd15s2_lineart_anime.pth\n"
   ]
  },
  {
   "cell_type": "markdown",
   "id": "43693c9e-8796-4ba4-bef6-5fad0b50569a",
   "metadata": {},
   "source": [
    "## Run SD WebUI A1111"
   ]
  },
  {
   "cell_type": "code",
   "execution_count": null,
   "id": "c6b73acc-67be-48aa-9cab-fac5afeff538",
   "metadata": {},
   "outputs": [],
   "source": [
    "## Run a1111\n",
    "%cd /notebooks/stable-diffusion-webui\n",
    "!bash webui.sh -f \\\n",
    "     --xformers \\\n",
    "     --share \\\n",
    "     --lora-dir /tmp/models/lora \\\n",
    "     --ckpt-dir /tmp/models/stable-diffusion \\\n",
    "     --enable-insecure-extension-access \\\n",
    "     --precision full --no-half \\\n",
    "     --administrator\n",
    "\n",
    "## --enable-insecure-extension-access allows installs of unrecognized 3rd party extensions\n",
    "## --administrator allows access to /tmp/outputs directory for Image Browser "
   ]
  }
 ],
 "metadata": {
  "kernelspec": {
   "display_name": "Python 3 (ipykernel)",
   "language": "python",
   "name": "python3"
  },
  "language_info": {
   "codemirror_mode": {
    "name": "ipython",
    "version": 3
   },
   "file_extension": ".py",
   "mimetype": "text/x-python",
   "name": "python",
   "nbconvert_exporter": "python",
   "pygments_lexer": "ipython3",
   "version": "3.10.10"
  }
 },
 "nbformat": 4,
 "nbformat_minor": 5
}
