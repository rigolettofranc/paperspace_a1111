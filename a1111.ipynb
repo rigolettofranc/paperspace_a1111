{
 "cells": [
  {
   "cell_type": "code",
   "execution_count": 1,
   "id": "78c19421-f0d1-4961-a32d-9eda6bd4f15f",
   "metadata": {
    "execution": {
     "iopub.execute_input": "2023-09-25T10:01:52.699802Z",
     "iopub.status.busy": "2023-09-25T10:01:52.698963Z",
     "iopub.status.idle": "2023-09-25T10:01:58.459645Z",
     "shell.execute_reply": "2023-09-25T10:01:58.458825Z",
     "shell.execute_reply.started": "2023-09-25T10:01:52.699771Z"
    }
   },
   "outputs": [
    {
     "name": "stdout",
     "output_type": "stream",
     "text": [
      "/notebooks/stable-diffusion-webui\n",
      "Already up to date.\n"
     ]
    }
   ],
   "source": [
    "### Install/update a1111\n",
    "import os\n",
    "if not os.path.isfile(\"/notebooks/stable-diffusion-webui/config.json\"):\n",
    "    %cd /notebooks\n",
    "    !git clone https://github.com/AUTOMATIC1111/stable-diffusion-webui.git\n",
    "    %cd /notebooks/stable-diffusion-webui\n",
    "    !wget -O config.json https://raw.githubusercontent.com/ResidentChief/simple_a1111_paperspace/main/config.json\n",
    "else:\n",
    "   %cd /notebooks/stable-diffusion-webui\n",
    "   !git pull\n",
    "    "
   ]
  },
  {
   "cell_type": "code",
   "execution_count": 5,
   "id": "f98ea821-6df1-4457-9725-5bd71b279e78",
   "metadata": {
    "execution": {
     "iopub.execute_input": "2023-09-25T10:06:42.361291Z",
     "iopub.status.busy": "2023-09-25T10:06:42.360608Z",
     "iopub.status.idle": "2023-09-25T10:06:43.244022Z",
     "shell.execute_reply": "2023-09-25T10:06:43.243039Z",
     "shell.execute_reply.started": "2023-09-25T10:06:42.361260Z"
    }
   },
   "outputs": [
    {
     "name": "stdout",
     "output_type": "stream",
     "text": [
      "mkdir: cannot create directory ‘/tmp/models’: File exists\n",
      "mkdir: cannot create directory ‘/tmp/models/stable-diffusion’: File exists\n",
      "/tmp/models/stable-diffusion\n"
     ]
    },
    {
     "name": "stderr",
     "output_type": "stream",
     "text": [
      "UsageError: Line magic function `%wget` not found.\n"
     ]
    }
   ],
   "source": [
    "### Create directory for models to go into\n",
    "%mkdir /tmp/models\n",
    "%mkdir /tmp/models/stable-diffusion\n",
    "%cd /tmp/models/stable-diffusion\n",
    "\n",
    "### Download models (remove the # from in front of the ones you want to download, or add new ones in the same format 'wget -O filename.extension URL')\n",
    "!wget -O AbsoluteReality.safetensors https://civitai.com/api/download/models/132760?type=Model&format=SafeTensor&size=pruned&fp=fp16\n",
    "!wget -O RealisticVision-v51.safetensors https://civitai.com/api/download/models/130072?type=Model&format=SafeTensor&size=full&fp=fp16\n",
    "!wget -O CyberRealistic.safetensors https://civitai.com/api/download/models/114429?type=Model&format=SafeTensor&size=pruned&fp=fp32\n",
    "!wget -O EpicRealism.safetensors https://civitai.com/api/download/models/127742?type=Model&format=SafeTensor&size=pruned&fp=fp16\n",
    "!wget -O ICBINP.safetensors https://civitai.com/api/download/models/89464?type=Model&format=SafeTensor&size=pruned&fp=fp16\n",
    "!wget -O AIO.safetensors  https://civitai.com/api/download/models/130406?type=Model&format=SafeTensor&size=full&fp=fp32\n",
    "!wget -O AnyLora.safetensors https://civitai.com/api/download/models/95489?type=Model&format=SafeTensor&size=full&fp=fp16\n",
    "!wget -O lyriel.safetensors https://civitai.com/api/download/models/72396?type=Model&format=SafeTensor&size=full&fp=fp16\n",
    "!wget -O AbyssOrangeMixV3.ckpt https://huggingface.co/residentchiefnz/HordeVAEMergeModelsTest/resolve/main/AOM3_inclVAE.ckpt\n",
    "!wget -O Anything_v3.ckpt https://huggingface.co/residentchiefnz/HordeVAEMergeModelsTest/resolve/main/AnythingV3_inclvae.ckpt"
   ]
  },
  {
   "cell_type": "code",
   "execution_count": 3,
   "id": "c6b73acc-67be-48aa-9cab-fac5afeff538",
   "metadata": {
    "execution": {
     "iopub.execute_input": "2023-09-25T10:03:06.368395Z",
     "iopub.status.busy": "2023-09-25T10:03:06.368206Z",
     "iopub.status.idle": "2023-09-25T10:05:41.501350Z",
     "shell.execute_reply": "2023-09-25T10:05:41.500620Z",
     "shell.execute_reply.started": "2023-09-25T10:03:06.368389Z"
    }
   },
   "outputs": [
    {
     "name": "stdout",
     "output_type": "stream",
     "text": [
      "/notebooks/stable-diffusion-webui\n",
      "\n",
      "################################################################\n",
      "\u001b[1m\u001b[32mInstall script for stable-diffusion + Web UI\n",
      "\u001b[1m\u001b[34mTested on Debian 11 (Bullseye)\u001b[0m\n",
      "################################################################\n",
      "\n",
      "################################################################\n",
      "Running on \u001b[1m\u001b[32mroot\u001b[0m user\n",
      "################################################################\n",
      "\n",
      "################################################################\n",
      "Repo already cloned, using it as install directory\n",
      "################################################################\n",
      "\n",
      "################################################################\n",
      "Create and activate python venv\n",
      "################################################################\n",
      "\n",
      "################################################################\n",
      "Launching launch.py...\n",
      "################################################################\n",
      "\u001b[1m\u001b[31mCannot locate TCMalloc (improves CPU memory usage)\u001b[0m\n",
      "Python 3.10.10 (main, Feb  8 2023, 14:50:01) [GCC 9.4.0]\n",
      "Version: v1.6.0\n",
      "Commit hash: 5ef669de080814067961f28357256e8fe27544f4\n",
      "#######################################################################################################\n",
      "Initializing Civitai Link\n",
      "If submitting an issue on github, please provide the below text for debugging purposes:\n",
      "\n",
      "Python revision: 3.10.10 (main, Feb  8 2023, 14:50:01) [GCC 9.4.0]\n",
      "Civitai Link revision: 763e8aedfab68e8933c3efbfa568961beeaa3def\n",
      "SD-WebUI revision: 5ef669de080814067961f28357256e8fe27544f4\n",
      "\n",
      "Checking Civitai Link requirements...\n",
      "[+] python-socketio[client] version 5.7.2 installed.\n",
      "\n",
      "#######################################################################################################\n",
      "Launching Web UI with arguments: -f --xformers --share --ckpt-dir /tmp/models/stable-diffusion --enable-insecure-extension-access\n",
      "Downloading face_yolov8n.pt: 100%|██████████| 6.21M/6.21M [00:00<00:00, 230MB/s]\n",
      "Downloading face_yolov8s.pt: 100%|██████████| 22.5M/22.5M [00:00<00:00, 354MB/s]\n",
      "Downloading hand_yolov8n.pt: 100%|██████████| 6.22M/6.22M [00:00<00:00, 371MB/s]\n",
      "Downloading person_yolov8n-seg.pt: 100%|████| 6.75M/6.75M [00:00<00:00, 244MB/s]\n",
      "Downloading person_yolov8s-seg.pt: 100%|████| 23.8M/23.8M [00:00<00:00, 413MB/s]\n",
      "\u001b[1m[\u001b[0m-\u001b[1m]\u001b[0m ADetailer initialized. version: \u001b[1;36m23.9\u001b[0m.\u001b[1;36m3\u001b[0m, num models: \u001b[1;36m9\u001b[0m\n",
      "2023-09-25 10:03:46,293 - ControlNet - \u001b[0;32mINFO\u001b[0m - ControlNet v1.1.410\n",
      "ControlNet preprocessor location: /notebooks/stable-diffusion-webui/extensions/sd-webui-controlnet/annotator/downloads\n",
      "2023-09-25 10:03:46,532 - ControlNet - \u001b[0;32mINFO\u001b[0m - ControlNet v1.1.410\n",
      "Civitai: API loaded\n",
      "Checkpoint lyriel.safetensors [1c0ed90d69] not found; loading fallback AbyssOrangeMixV3.ckpt [587e4cedae]\n",
      "Loading weights [587e4cedae] from /tmp/models/stable-diffusion/AbyssOrangeMixV3.ckpt\n",
      "/notebooks/stable-diffusion-webui/extensions/stable-diffusion-webui-images-browser/scripts/images_history.py:214: GradioDeprecationWarning: The `style` method is deprecated. Please set these arguments in the constructor instead.\n",
      "  history_gallery = gr.Gallery(show_label=False, elem_id=tabname + \"_images_history_gallery\").style(grid=opts.images_history_page_columns)\n",
      "/notebooks/stable-diffusion-webui/extensions/stable-diffusion-webui-images-browser/scripts/images_history.py:214: GradioDeprecationWarning: The 'grid' parameter will be deprecated. Please use 'columns' in the constructor instead.\n",
      "  history_gallery = gr.Gallery(show_label=False, elem_id=tabname + \"_images_history_gallery\").style(grid=opts.images_history_page_columns)\n",
      "Running on local URL:  http://127.0.0.1:7860\n",
      "Creating model from config: /notebooks/stable-diffusion-webui/configs/v1-inference.yaml\n",
      "Downloading (…)olve/main/vocab.json: 100%|███| 961k/961k [00:00<00:00, 47.6MB/s]\n",
      "Downloading (…)olve/main/merges.txt: 100%|███| 525k/525k [00:00<00:00, 31.1MB/s]\n",
      "Downloading (…)cial_tokens_map.json: 100%|█████| 389/389 [00:00<00:00, 2.43MB/s]\n",
      "Downloading (…)okenizer_config.json: 100%|█████| 905/905 [00:00<00:00, 6.90MB/s]\n",
      "Downloading (…)lve/main/config.json: 100%|█| 4.52k/4.52k [00:00<00:00, 24.0MB/s]\n",
      "Applying attention optimization: xformers... done.\n",
      "Running on public URL: https://02860c0d5f0c4d24b0.gradio.live\n",
      "\n",
      "This share link expires in 72 hours. For free permanent hosting and GPU upgrades, run `gradio deploy` from Terminal to deploy to Spaces (https://huggingface.co/spaces)\n",
      "Civitai: Check resources for missing info files\n",
      "Civitai: Check resources for missing preview images\n",
      "Startup time: 44.1s (prepare environment: 16.6s, import torch: 8.9s, import gradio: 3.5s, setup paths: 4.8s, initialize shared: 0.3s, other imports: 3.0s, setup codeformer: 0.5s, setup gfpgan: 0.1s, load scripts: 2.8s, create ui: 0.9s, gradio launch: 2.6s).\n",
      "Civitai: Found 2 resources missing preview images\n",
      "Civitai: Found 2 resources missing info files\n",
      "Civitai: No info found on Civitai\n",
      "Civitai: No preview images found on Civitai\n",
      "Model loaded in 5.3s (load weights from disk: 2.1s, create model: 0.6s, apply weights to model: 0.4s, load textual inversion embeddings: 0.2s, calculate empty prompt: 1.9s).\n",
      "^C\n",
      "Interrupted with signal 2 in <frame at 0xce339b0, file '/usr/lib/python3.10/threading.py', line 324, code wait>\n"
     ]
    }
   ],
   "source": [
    "## Run a1111\n",
    "%cd /notebooks/stable-diffusion-webui\n",
    "!bash webui.sh -f --xformers --share --ckpt-dir /tmp/models/stable-diffusion --enable-insecure-extension-access"
   ]
  }
 ],
 "metadata": {
  "kernelspec": {
   "display_name": "Python 3 (ipykernel)",
   "language": "python",
   "name": "python3"
  },
  "language_info": {
   "codemirror_mode": {
    "name": "ipython",
    "version": 3
   },
   "file_extension": ".py",
   "mimetype": "text/x-python",
   "name": "python",
   "nbconvert_exporter": "python",
   "pygments_lexer": "ipython3",
   "version": "3.10.10"
  }
 },
 "nbformat": 4,
 "nbformat_minor": 5
}
