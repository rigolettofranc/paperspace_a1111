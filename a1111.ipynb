{
 "cells": [
  {
   "cell_type": "code",
   "execution_count": 1,
   "id": "78c19421-f0d1-4961-a32d-9eda6bd4f15f",
   "metadata": {
    "execution": {
     "iopub.execute_input": "2023-09-25T16:14:51.241625Z",
     "iopub.status.busy": "2023-09-25T16:14:51.241233Z",
     "iopub.status.idle": "2023-09-25T16:14:52.142787Z",
     "shell.execute_reply": "2023-09-25T16:14:52.141883Z",
     "shell.execute_reply.started": "2023-09-25T16:14:51.241597Z"
    }
   },
   "outputs": [
    {
     "name": "stdout",
     "output_type": "stream",
     "text": [
      "/notebooks/stable-diffusion-webui\n",
      "Already up to date.\n"
     ]
    }
   ],
   "source": [
    "### Install/update a1111\n",
    "import os\n",
    "if not os.path.isfile(\"/notebooks/stable-diffusion-webui/config.json\"):\n",
    "    %cd /notebooks\n",
    "    !git clone https://github.com/AUTOMATIC1111/stable-diffusion-webui.git\n",
    "    %cd /notebooks/stable-diffusion-webui\n",
    "    !wget -O config.json https://raw.githubusercontent.com/ResidentChief/simple_a1111_paperspace/main/config.json\n",
    "else:\n",
    "   %cd /notebooks/stable-diffusion-webui\n",
    "   !git pull\n",
    "    "
   ]
  },
  {
   "cell_type": "code",
   "execution_count": 2,
   "id": "f98ea821-6df1-4457-9725-5bd71b279e78",
   "metadata": {
    "execution": {
     "iopub.execute_input": "2023-09-25T16:14:52.144831Z",
     "iopub.status.busy": "2023-09-25T16:14:52.144530Z",
     "iopub.status.idle": "2023-09-25T16:15:15.506332Z",
     "shell.execute_reply": "2023-09-25T16:15:15.505136Z",
     "shell.execute_reply.started": "2023-09-25T16:14:52.144804Z"
    }
   },
   "outputs": [
    {
     "name": "stdout",
     "output_type": "stream",
     "text": [
      "/tmp/models/stable-diffusion\n",
      "--2023-09-25 16:14:57--  https://huggingface.co/residentchiefnz/HordeVAEMergeModelsTest/resolve/main/AOM3_inclVAE.ckpt\n",
      "Resolving huggingface.co (huggingface.co)... 18.238.49.117, 18.238.49.70, 18.238.49.10, ...\n",
      "Connecting to huggingface.co (huggingface.co)|18.238.49.117|:443... connected.\n",
      "HTTP request sent, awaiting response... 302 Found\n",
      "Location: https://cdn-lfs.huggingface.co/repos/75/11/75111e1f91802496e5634940a8c04abc9e813e9caafdcbcc99288a48e5bdc0b2/587e4cedae0cd5549986a6774e2e9c7cdde32018d2d4fbe67d4b7236e07af39c?response-content-disposition=attachment%3B+filename*%3DUTF-8%27%27AOM3_inclVAE.ckpt%3B+filename%3D%22AOM3_inclVAE.ckpt%22%3B&Expires=1695917697&Policy=eyJTdGF0ZW1lbnQiOlt7IkNvbmRpdGlvbiI6eyJEYXRlTGVzc1RoYW4iOnsiQVdTOkVwb2NoVGltZSI6MTY5NTkxNzY5N319LCJSZXNvdXJjZSI6Imh0dHBzOi8vY2RuLWxmcy5odWdnaW5nZmFjZS5jby9yZXBvcy83NS8xMS83NTExMWUxZjkxODAyNDk2ZTU2MzQ5NDBhOGMwNGFiYzllODEzZTljYWFmZGNiY2M5OTI4OGE0OGU1YmRjMGIyLzU4N2U0Y2VkYWUwY2Q1NTQ5OTg2YTY3NzRlMmU5YzdjZGRlMzIwMThkMmQ0ZmJlNjdkNGI3MjM2ZTA3YWYzOWM%7EcmVzcG9uc2UtY29udGVudC1kaXNwb3NpdGlvbj0qIn1dfQ__&Signature=xW0CifKsOHVZSELU0MNCzGZcaU91fRiq32xgB6BYJD%7EYr-BvaYGQxuCmL1Kd00OSSB75yunkuCHePg7lU3oPAMPZk9CqAv9DoxHav%7ErJ0iALPJ8W9D43w9BN7NQr0NhpGrHCRs%7EpwRyRbV5IB8r2qyFKGmhvC5p0KX6cZ9P7ByseGVRMdBWcRKtehyo1RM%7E5QHKz4UMOUY5ryFRzjf%7ELpPGkifzT8%7E9Ht6RXLQGgezJU28wJmvgcZHuKXKSvMv8EE2J5JsapRZEz61dX63smJjh0e-jFty3yIjJelHf2CoQY6HkSQYsnPg86%7EVECI6lHPECIL9QO-s0D2bTZP7uvFw__&Key-Pair-Id=KVTP0A1DKRTAX [following]\n",
      "--2023-09-25 16:14:57--  https://cdn-lfs.huggingface.co/repos/75/11/75111e1f91802496e5634940a8c04abc9e813e9caafdcbcc99288a48e5bdc0b2/587e4cedae0cd5549986a6774e2e9c7cdde32018d2d4fbe67d4b7236e07af39c?response-content-disposition=attachment%3B+filename*%3DUTF-8%27%27AOM3_inclVAE.ckpt%3B+filename%3D%22AOM3_inclVAE.ckpt%22%3B&Expires=1695917697&Policy=eyJTdGF0ZW1lbnQiOlt7IkNvbmRpdGlvbiI6eyJEYXRlTGVzc1RoYW4iOnsiQVdTOkVwb2NoVGltZSI6MTY5NTkxNzY5N319LCJSZXNvdXJjZSI6Imh0dHBzOi8vY2RuLWxmcy5odWdnaW5nZmFjZS5jby9yZXBvcy83NS8xMS83NTExMWUxZjkxODAyNDk2ZTU2MzQ5NDBhOGMwNGFiYzllODEzZTljYWFmZGNiY2M5OTI4OGE0OGU1YmRjMGIyLzU4N2U0Y2VkYWUwY2Q1NTQ5OTg2YTY3NzRlMmU5YzdjZGRlMzIwMThkMmQ0ZmJlNjdkNGI3MjM2ZTA3YWYzOWM%7EcmVzcG9uc2UtY29udGVudC1kaXNwb3NpdGlvbj0qIn1dfQ__&Signature=xW0CifKsOHVZSELU0MNCzGZcaU91fRiq32xgB6BYJD%7EYr-BvaYGQxuCmL1Kd00OSSB75yunkuCHePg7lU3oPAMPZk9CqAv9DoxHav%7ErJ0iALPJ8W9D43w9BN7NQr0NhpGrHCRs%7EpwRyRbV5IB8r2qyFKGmhvC5p0KX6cZ9P7ByseGVRMdBWcRKtehyo1RM%7E5QHKz4UMOUY5ryFRzjf%7ELpPGkifzT8%7E9Ht6RXLQGgezJU28wJmvgcZHuKXKSvMv8EE2J5JsapRZEz61dX63smJjh0e-jFty3yIjJelHf2CoQY6HkSQYsnPg86%7EVECI6lHPECIL9QO-s0D2bTZP7uvFw__&Key-Pair-Id=KVTP0A1DKRTAX\n",
      "Resolving cdn-lfs.huggingface.co (cdn-lfs.huggingface.co)... 18.164.116.66, 18.164.116.111, 18.164.116.106, ...\n",
      "Connecting to cdn-lfs.huggingface.co (cdn-lfs.huggingface.co)|18.164.116.66|:443... connected.\n",
      "HTTP request sent, awaiting response... 200 OK\n",
      "Length: 2132857772 (2.0G) [binary/octet-stream]\n",
      "Saving to: ‘AbyssOrangeMixV3.ckpt’\n",
      "\n",
      "AbyssOrangeMixV3.ck 100%[===================>]   1.99G   259MB/s    in 8.2s    \n",
      "\n",
      "2023-09-25 16:15:05 (248 MB/s) - ‘AbyssOrangeMixV3.ckpt’ saved [2132857772/2132857772]\n",
      "\n",
      "--2023-09-25 16:15:05--  https://huggingface.co/residentchiefnz/HordeVAEMergeModelsTest/resolve/main/AnythingV3_inclvae.ckpt\n",
      "Resolving huggingface.co (huggingface.co)... 18.154.227.7, 18.154.227.69, 18.154.227.67, ...\n",
      "Connecting to huggingface.co (huggingface.co)|18.154.227.7|:443... connected.\n",
      "HTTP request sent, awaiting response... 302 Found\n",
      "Location: https://cdn-lfs.huggingface.co/repos/75/11/75111e1f91802496e5634940a8c04abc9e813e9caafdcbcc99288a48e5bdc0b2/9a2ae44e439fb7d90b8ae8bc302ce5990a00ad809effc164b61737cab8f901a0?response-content-disposition=attachment%3B+filename*%3DUTF-8%27%27AnythingV3_inclvae.ckpt%3B+filename%3D%22AnythingV3_inclvae.ckpt%22%3B&Expires=1695917705&Policy=eyJTdGF0ZW1lbnQiOlt7IkNvbmRpdGlvbiI6eyJEYXRlTGVzc1RoYW4iOnsiQVdTOkVwb2NoVGltZSI6MTY5NTkxNzcwNX19LCJSZXNvdXJjZSI6Imh0dHBzOi8vY2RuLWxmcy5odWdnaW5nZmFjZS5jby9yZXBvcy83NS8xMS83NTExMWUxZjkxODAyNDk2ZTU2MzQ5NDBhOGMwNGFiYzllODEzZTljYWFmZGNiY2M5OTI4OGE0OGU1YmRjMGIyLzlhMmFlNDRlNDM5ZmI3ZDkwYjhhZThiYzMwMmNlNTk5MGEwMGFkODA5ZWZmYzE2NGI2MTczN2NhYjhmOTAxYTA%7EcmVzcG9uc2UtY29udGVudC1kaXNwb3NpdGlvbj0qIn1dfQ__&Signature=yxu5NOD3uI%7EJp8d9WNOB69DJnNz%7EGXj5B7NkXnYVGc4e4G3BeYytMMP89T%7EmF%7EwQYLIQEeL4Ir8U7nQzNLKGz3yDf4Wwdb2fyoEJ-HlK-w9CBx-DnGt6GS8cNXozxrPQgyVYEAazAe6ucAwHfDzsqji%7EpdLpWRprYyj9K15hTLcsZkvi6AOFcoA4rXf4Vjx-UTD-7bB10ZqvRLOrKApvkzulVDnSfuZ%7E7nF32a8RaYkEO84Y0YW7BfcpS8Geh2YtrFGZgsA-dVZsbExA50hMdPdvI6k11dk7dRSTD-PKWfCb1olngKvmZq8J3BYtEPMQxv5UomP1bQn35hzdht76Ng__&Key-Pair-Id=KVTP0A1DKRTAX [following]\n",
      "--2023-09-25 16:15:05--  https://cdn-lfs.huggingface.co/repos/75/11/75111e1f91802496e5634940a8c04abc9e813e9caafdcbcc99288a48e5bdc0b2/9a2ae44e439fb7d90b8ae8bc302ce5990a00ad809effc164b61737cab8f901a0?response-content-disposition=attachment%3B+filename*%3DUTF-8%27%27AnythingV3_inclvae.ckpt%3B+filename%3D%22AnythingV3_inclvae.ckpt%22%3B&Expires=1695917705&Policy=eyJTdGF0ZW1lbnQiOlt7IkNvbmRpdGlvbiI6eyJEYXRlTGVzc1RoYW4iOnsiQVdTOkVwb2NoVGltZSI6MTY5NTkxNzcwNX19LCJSZXNvdXJjZSI6Imh0dHBzOi8vY2RuLWxmcy5odWdnaW5nZmFjZS5jby9yZXBvcy83NS8xMS83NTExMWUxZjkxODAyNDk2ZTU2MzQ5NDBhOGMwNGFiYzllODEzZTljYWFmZGNiY2M5OTI4OGE0OGU1YmRjMGIyLzlhMmFlNDRlNDM5ZmI3ZDkwYjhhZThiYzMwMmNlNTk5MGEwMGFkODA5ZWZmYzE2NGI2MTczN2NhYjhmOTAxYTA%7EcmVzcG9uc2UtY29udGVudC1kaXNwb3NpdGlvbj0qIn1dfQ__&Signature=yxu5NOD3uI%7EJp8d9WNOB69DJnNz%7EGXj5B7NkXnYVGc4e4G3BeYytMMP89T%7EmF%7EwQYLIQEeL4Ir8U7nQzNLKGz3yDf4Wwdb2fyoEJ-HlK-w9CBx-DnGt6GS8cNXozxrPQgyVYEAazAe6ucAwHfDzsqji%7EpdLpWRprYyj9K15hTLcsZkvi6AOFcoA4rXf4Vjx-UTD-7bB10ZqvRLOrKApvkzulVDnSfuZ%7E7nF32a8RaYkEO84Y0YW7BfcpS8Geh2YtrFGZgsA-dVZsbExA50hMdPdvI6k11dk7dRSTD-PKWfCb1olngKvmZq8J3BYtEPMQxv5UomP1bQn35hzdht76Ng__&Key-Pair-Id=KVTP0A1DKRTAX\n",
      "Resolving cdn-lfs.huggingface.co (cdn-lfs.huggingface.co)... 18.164.116.66, 18.164.116.106, 18.164.116.15, ...\n",
      "Connecting to cdn-lfs.huggingface.co (cdn-lfs.huggingface.co)|18.164.116.66|:443... connected.\n",
      "HTTP request sent, awaiting response... 200 OK\n",
      "Length: 2300178141 (2.1G) [binary/octet-stream]\n",
      "Saving to: ‘Anything_v3.ckpt’\n",
      "\n",
      "Anything_v3.ckpt    100%[===================>]   2.14G   237MB/s    in 9.4s    \n",
      "\n",
      "2023-09-25 16:15:15 (234 MB/s) - ‘Anything_v3.ckpt’ saved [2300178141/2300178141]\n",
      "\n"
     ]
    }
   ],
   "source": [
    "### Create directory for models to go into\n",
    "%mkdir /tmp/models\n",
    "%mkdir /tmp/models/lora\n",
    "%mkdir /tmp/models/stable-diffusion\n",
    "%cd /tmp/models/stable-diffusion\n",
    "\n",
    "### Download models (remove the # from in front of the ones you want to download, or add new ones in the same format 'wget -O filename.extension URL')\n",
    "!wget -O AbsoluteReality.safetensors https://civitai.com/api/download/models/132760?type=Model&format=SafeTensor&size=pruned&fp=fp16\n",
    "!wget -O RealisticVision-v51.safetensors https://civitai.com/api/download/models/130072?type=Model&format=SafeTensor&size=full&fp=fp16\n",
    "!wget -O CyberRealistic.safetensors https://civitai.com/api/download/models/114429?type=Model&format=SafeTensor&size=pruned&fp=fp32\n",
    "!wget -O EpicRealism.safetensors https://civitai.com/api/download/models/127742?type=Model&format=SafeTensor&size=pruned&fp=fp16\n",
    "!wget -O ICBINP.safetensors https://civitai.com/api/download/models/89464?type=Model&format=SafeTensor&size=pruned&fp=fp16\n",
    "!wget -O AIO.safetensors  https://civitai.com/api/download/models/130406?type=Model&format=SafeTensor&size=full&fp=fp32\n",
    "!wget -O AnyLora.safetensors https://civitai.com/api/download/models/95489?type=Model&format=SafeTensor&size=full&fp=fp16\n",
    "!wget -O lyriel.safetensors https://civitai.com/api/download/models/72396?type=Model&format=SafeTensor&size=full&fp=fp16\n",
    "!wget -O AbyssOrangeMixV3.ckpt https://huggingface.co/residentchiefnz/HordeVAEMergeModelsTest/resolve/main/AOM3_inclVAE.ckpt\n",
    "!wget -O Anything_v3.ckpt https://huggingface.co/residentchiefnz/HordeVAEMergeModelsTest/resolve/main/AnythingV3_inclvae.ckpt"
   ]
  },
  {
   "cell_type": "code",
   "execution_count": null,
   "id": "c6b73acc-67be-48aa-9cab-fac5afeff538",
   "metadata": {
    "execution": {
     "iopub.execute_input": "2023-09-25T16:28:26.021243Z",
     "iopub.status.busy": "2023-09-25T16:28:26.020850Z"
    }
   },
   "outputs": [
    {
     "name": "stdout",
     "output_type": "stream",
     "text": [
      "/notebooks/stable-diffusion-webui\n",
      "\n",
      "################################################################\n",
      "\u001b[1m\u001b[32mInstall script for stable-diffusion + Web UI\n",
      "\u001b[1m\u001b[34mTested on Debian 11 (Bullseye)\u001b[0m\n",
      "################################################################\n",
      "\n",
      "################################################################\n",
      "Running on \u001b[1m\u001b[32mroot\u001b[0m user\n",
      "################################################################\n",
      "\n",
      "################################################################\n",
      "Repo already cloned, using it as install directory\n",
      "################################################################\n",
      "\n",
      "################################################################\n",
      "Create and activate python venv\n",
      "################################################################\n",
      "\n",
      "################################################################\n",
      "Launching launch.py...\n",
      "################################################################\n",
      "\u001b[1m\u001b[31mCannot locate TCMalloc (improves CPU memory usage)\u001b[0m\n",
      "Python 3.10.10 (main, Feb  8 2023, 14:50:01) [GCC 9.4.0]\n",
      "Version: v1.6.0\n",
      "Commit hash: 5ef669de080814067961f28357256e8fe27544f4\n",
      "#######################################################################################################\n",
      "Initializing Civitai Link\n",
      "If submitting an issue on github, please provide the below text for debugging purposes:\n",
      "\n",
      "Python revision: 3.10.10 (main, Feb  8 2023, 14:50:01) [GCC 9.4.0]\n",
      "Civitai Link revision: 763e8aedfab68e8933c3efbfa568961beeaa3def\n",
      "SD-WebUI revision: 5ef669de080814067961f28357256e8fe27544f4\n",
      "\n",
      "Checking Civitai Link requirements...\n",
      "[+] python-socketio[client] version 5.7.2 installed.\n",
      "\n",
      "#######################################################################################################\n",
      "Launching Web UI with arguments: -f --xformers --share --lora-dir /tmp/models/lora --ckpt-dir /tmp/models/stable-diffusion --enable-insecure-extension-access\n",
      "\u001b[1m[\u001b[0m-\u001b[1m]\u001b[0m ADetailer initialized. version: \u001b[1;36m23.9\u001b[0m.\u001b[1;36m3\u001b[0m, num models: \u001b[1;36m9\u001b[0m\n",
      "2023-09-25 16:28:45,210 - ControlNet - \u001b[0;32mINFO\u001b[0m - ControlNet v1.1.410\n",
      "ControlNet preprocessor location: /notebooks/stable-diffusion-webui/extensions/sd-webui-controlnet/annotator/downloads\n",
      "2023-09-25 16:28:45,412 - ControlNet - \u001b[0;32mINFO\u001b[0m - ControlNet v1.1.410\n",
      "Civitai: API loaded\n",
      "Loading weights [587e4cedae] from /tmp/models/stable-diffusion/AbyssOrangeMixV3.ckpt\n",
      "/notebooks/stable-diffusion-webui/extensions/stable-diffusion-webui-images-browser/scripts/images_history.py:214: GradioDeprecationWarning: The `style` method is deprecated. Please set these arguments in the constructor instead.\n",
      "  history_gallery = gr.Gallery(show_label=False, elem_id=tabname + \"_images_history_gallery\").style(grid=opts.images_history_page_columns)\n",
      "/notebooks/stable-diffusion-webui/extensions/stable-diffusion-webui-images-browser/scripts/images_history.py:214: GradioDeprecationWarning: The 'grid' parameter will be deprecated. Please use 'columns' in the constructor instead.\n",
      "  history_gallery = gr.Gallery(show_label=False, elem_id=tabname + \"_images_history_gallery\").style(grid=opts.images_history_page_columns)\n",
      "Running on local URL:  http://127.0.0.1:7860\n",
      "Creating model from config: /notebooks/stable-diffusion-webui/configs/v1-inference.yaml\n",
      "Applying attention optimization: xformers... done.\n",
      "Model loaded in 5.4s (load weights from disk: 3.6s, create model: 0.6s, apply weights to model: 0.6s, calculate empty prompt: 0.4s).\n",
      "Running on public URL: https://ede3de47b494d4ea75.gradio.live\n",
      "\n",
      "This share link expires in 72 hours. For free permanent hosting and GPU upgrades, run `gradio deploy` from Terminal to deploy to Spaces (https://huggingface.co/spaces)\n",
      "Civitai: Check resources for missing info files\n",
      "Civitai: Check resources for missing preview imagesStartup time: 25.8s (prepare environment: 9.4s, import torch: 4.3s, import gradio: 1.0s, setup paths: 1.5s, initialize shared: 0.3s, other imports: 0.6s, setup codeformer: 0.3s, load scripts: 2.2s, create ui: 1.6s, gradio launch: 4.5s).\n",
      "\n",
      "Calculating sha256 for /tmp/models/lora/natalie_dormer.safetensors: Calculating sha256 for /tmp/models/lora/natalie_dormer.safetensors: bee579a0ecd94ffbb222ebf0474d0a6d5f4dda8a2641161beaff5b02e85890f2\n",
      "Calculating sha256 for /tmp/models/lora/natalie_dormer.safetensors: bee579a0ecd94ffbb222ebf0474d0a6d5f4dda8a2641161beaff5b02e85890f2\n",
      "Calculating sha256 for /tmp/models/lora/natalie_dormer.safetensors: bee579a0ecd94ffbb222ebf0474d0a6d5f4dda8a2641161beaff5b02e85890f2\n",
      "Civitai: Found 4 resources missing preview images\n",
      "bee579a0ecd94ffbb222ebf0474d0a6d5f4dda8a2641161beaff5b02e85890f2\n",
      "Civitai: Found 4 resources missing info files\n",
      "Civitai: Found 1 hash matches\n",
      "Civitai: Updated 0 preview images\n",
      "Civitai: Found 1 hash matches\n",
      "Civitai: Updated 1 info files\n",
      "Traceback (most recent call last):\n",
      "  File \"/notebooks/stable-diffusion-webui/venv/lib/python3.10/site-packages/gradio/routes.py\", line 487, in run_predict\n",
      "    with utils.MatplotlibBackendMananger():\n",
      "  File \"/notebooks/stable-diffusion-webui/venv/lib/python3.10/site-packages/gradio/utils.py\", line 887, in __exit__\n",
      "    matplotlib.use(self._original_backend)\n",
      "  File \"/notebooks/stable-diffusion-webui/venv/lib/python3.10/site-packages/matplotlib/__init__.py\", line 1249, in use\n",
      "    plt.switch_backend(name)\n",
      "  File \"/notebooks/stable-diffusion-webui/venv/lib/python3.10/site-packages/matplotlib/pyplot.py\", line 342, in switch_backend\n",
      "    module = importlib.import_module(cbook._backend_module_name(newbackend))\n",
      "  File \"/usr/lib/python3.10/importlib/__init__.py\", line 126, in import_module\n",
      "    return _bootstrap._gcd_import(name[level:], package, level)\n",
      "  File \"<frozen importlib._bootstrap>\", line 1050, in _gcd_import\n",
      "  File \"<frozen importlib._bootstrap>\", line 1027, in _find_and_load\n",
      "  File \"<frozen importlib._bootstrap>\", line 992, in _find_and_load_unlocked\n",
      "  File \"<frozen importlib._bootstrap>\", line 241, in _call_with_frames_removed\n",
      "  File \"<frozen importlib._bootstrap>\", line 1050, in _gcd_import\n",
      "  File \"<frozen importlib._bootstrap>\", line 1027, in _find_and_load\n",
      "  File \"<frozen importlib._bootstrap>\", line 1004, in _find_and_load_unlocked\n",
      "ModuleNotFoundError: No module named 'matplotlib_inline'\n",
      "Reusing loaded model AbyssOrangeMixV3.ckpt [587e4cedae] to load Anything_v3.ckpt [9a2ae44e43]\n",
      "Loading weights [9a2ae44e43] from /tmp/models/stable-diffusion/Anything_v3.ckpt\n",
      "Applying attention optimization: xformers... done.\n",
      "Weights loaded in 12.9s (send model to cpu: 1.9s, load weights from disk: 8.7s, apply weights to model: 1.7s, move model to device: 0.5s).\n",
      "\n",
      "Start parsing the number of mov frames\n",
      "The video conversion is completed, images:935\n",
      "current progress: 1/935\n",
      "100%|█████████████████████████████████████████████| 5/5 [00:04<00:00,  1.11it/s]\n",
      "current progress: 2/935\n",
      "100%|█████████████████████████████████████████████| 5/5 [00:01<00:00,  2.60it/s]\n",
      "current progress: 3/935\n",
      "100%|█████████████████████████████████████████████| 5/5 [00:01<00:00,  2.60it/s]\n",
      "current progress: 4/935\n",
      "100%|█████████████████████████████████████████████| 5/5 [00:01<00:00,  2.60it/s]\n",
      "current progress: 5/935\n",
      "100%|█████████████████████████████████████████████| 5/5 [00:01<00:00,  2.60it/s]\n",
      "current progress: 6/935\n",
      "100%|█████████████████████████████████████████████| 5/5 [00:01<00:00,  2.60it/s]\n",
      "current progress: 7/935\n",
      "100%|█████████████████████████████████████████████| 5/5 [00:01<00:00,  2.60it/s]\n",
      "current progress: 8/935\n",
      " 40%|██████████████████                           | 2/5 [00:00<00:01,  2.60it/s]"
     ]
    }
   ],
   "source": [
    "## Run a1111\n",
    "%cd /notebooks/stable-diffusion-webui\n",
    "!bash webui.sh -f \\\n",
    "     --xformers \\\n",
    "     --share \\\n",
    "     --lora-dir /tmp/models/lora \\\n",
    "     --ckpt-dir /tmp/models/stable-diffusion \\\n",
    "     --enable-insecure-extension-access"
   ]
  }
 ],
 "metadata": {
  "kernelspec": {
   "display_name": "Python 3 (ipykernel)",
   "language": "python",
   "name": "python3"
  },
  "language_info": {
   "codemirror_mode": {
    "name": "ipython",
    "version": 3
   },
   "file_extension": ".py",
   "mimetype": "text/x-python",
   "name": "python",
   "nbconvert_exporter": "python",
   "pygments_lexer": "ipython3",
   "version": "3.10.10"
  }
 },
 "nbformat": 4,
 "nbformat_minor": 5
}
